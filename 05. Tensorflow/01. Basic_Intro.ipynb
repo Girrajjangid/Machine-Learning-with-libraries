{
 "cells": [
  {
   "cell_type": "code",
   "execution_count": 1,
   "metadata": {},
   "outputs": [],
   "source": [
    "import tensorflow as tf"
   ]
  },
  {
   "cell_type": "code",
   "execution_count": 2,
   "metadata": {},
   "outputs": [
    {
     "data": {
      "text/plain": [
       "'1.13.1'"
      ]
     },
     "execution_count": 2,
     "metadata": {},
     "output_type": "execute_result"
    }
   ],
   "source": [
    "tf.__version__"
   ]
  },
  {
   "cell_type": "code",
   "execution_count": 9,
   "metadata": {},
   "outputs": [
    {
     "data": {
      "text/plain": [
       "False"
      ]
     },
     "execution_count": 9,
     "metadata": {},
     "output_type": "execute_result"
    }
   ],
   "source": [
    "tf.test.is_gpu_available()"
   ]
  },
  {
   "cell_type": "code",
   "execution_count": 5,
   "metadata": {},
   "outputs": [
    {
     "name": "stdout",
     "output_type": "stream",
     "text": [
      "Tensor(\"add:0\", shape=(), dtype=int32)\n"
     ]
    }
   ],
   "source": [
    "a,b = 2,3  # python-name variables\n",
    "c = tf.add(a,b,name='add') # c = python-name variable   add = tensorflow-name variable\n",
    "# tensorflow uses tensorflow-name for graph visualize a,b are python-name so by default x,y are tensorflow-name if \n",
    "# you print the graph using tensorboard\n",
    "print(c)\n",
    "# we're actually creating a variable (or Tensor) with c as its Python-name and Add as the TensorFlow-name."
   ]
  },
  {
   "cell_type": "code",
   "execution_count": 7,
   "metadata": {},
   "outputs": [
    {
     "name": "stdout",
     "output_type": "stream",
     "text": [
      "5\n"
     ]
    }
   ],
   "source": [
    "sess = tf.Session()\n",
    "print(sess.run(c))\n",
    "sess.close()"
   ]
  },
  {
   "cell_type": "code",
   "execution_count": 8,
   "metadata": {},
   "outputs": [
    {
     "name": "stdout",
     "output_type": "stream",
     "text": [
      "5\n"
     ]
    }
   ],
   "source": [
    "with tf.Session() as sess: # same thing it automatically close the session\n",
    "    print(sess.run(c))"
   ]
  },
  {
   "cell_type": "code",
   "execution_count": 11,
   "metadata": {},
   "outputs": [
    {
     "name": "stdout",
     "output_type": "stream",
     "text": [
      "15625 10\n"
     ]
    }
   ],
   "source": [
    "# Creating a graph with multiple math operations\n",
    "x,y = 2,3\n",
    "add_op = tf.add(x,y,name='Add')\n",
    "mul_op = tf.multiply(x,y,name='multiply')\n",
    "pow_op = tf.pow(add_op,mul_op,name = 'Power')\n",
    "useless_op = tf.multiply(x , add_op , name = 'Useless')\n",
    "\n",
    "with tf.Session() as ss:\n",
    "    powr, useless = ss.run([pow_op, useless_op])\n",
    "print(powr,useless)"
   ]
  },
  {
   "cell_type": "code",
   "execution_count": 17,
   "metadata": {},
   "outputs": [
    {
     "data": {
      "text/plain": [
       "(<tf.Tensor 'Useless_1:0' shape=() dtype=int32>,\n",
       " <tf.Tensor 'Add_2:0' shape=() dtype=int32>,\n",
       " <tf.Tensor 'multiply_1:0' shape=() dtype=int32>,\n",
       " <tf.Tensor 'Power_1:0' shape=() dtype=int32>)"
      ]
     },
     "execution_count": 17,
     "metadata": {},
     "output_type": "execute_result"
    }
   ],
   "source": [
    "useless_op,add_op,mul_op,pow_op"
   ]
  },
  {
   "cell_type": "code",
   "execution_count": null,
   "metadata": {},
   "outputs": [],
   "source": []
  }
 ],
 "metadata": {
  "kernelspec": {
   "display_name": "Python 3",
   "language": "python",
   "name": "python3"
  },
  "language_info": {
   "codemirror_mode": {
    "name": "ipython",
    "version": 3
   },
   "file_extension": ".py",
   "mimetype": "text/x-python",
   "name": "python",
   "nbconvert_exporter": "python",
   "pygments_lexer": "ipython3",
   "version": "3.7.0"
  }
 },
 "nbformat": 4,
 "nbformat_minor": 2
}

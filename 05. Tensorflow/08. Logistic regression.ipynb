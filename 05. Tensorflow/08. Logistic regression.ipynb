{
 "cells": [
  {
   "cell_type": "markdown",
   "metadata": {},
   "source": [
    "# Logistic regression"
   ]
  },
  {
   "cell_type": "code",
   "execution_count": 2,
   "metadata": {},
   "outputs": [],
   "source": [
    "import warnings\n",
    "warnings.filterwarnings('ignore')\n",
    "import tensorflow as tf\n",
    "import numpy as np\n",
    "from tensorflow.examples.tutorials.mnist import input_data"
   ]
  },
  {
   "cell_type": "code",
   "execution_count": 7,
   "metadata": {},
   "outputs": [
    {
     "name": "stdout",
     "output_type": "stream",
     "text": [
      "Extracting MNIST_data\\train-images-idx3-ubyte.gz\n",
      "Extracting MNIST_data\\train-labels-idx1-ubyte.gz\n",
      "Extracting MNIST_data\\t10k-images-idx3-ubyte.gz\n",
      "Extracting MNIST_data\\t10k-labels-idx1-ubyte.gz\n"
     ]
    }
   ],
   "source": [
    "mnist = input_data.read_data_sets(\"MNIST_data\",one_hot=True)"
   ]
  },
  {
   "cell_type": "code",
   "execution_count": 13,
   "metadata": {},
   "outputs": [],
   "source": [
    "X_train, X_test, y_train, y_test  = mnist.train.images , mnist.test.images, mnist.train.labels, mnist.test.labels"
   ]
  },
  {
   "cell_type": "code",
   "execution_count": 16,
   "metadata": {},
   "outputs": [],
   "source": [
    "X = tf.placeholder(dtype=tf.float32, shape=[None,784])\n",
    "Y = tf.placeholder(dtype=tf.float32, shape=[None,10])\n",
    "w = tf.get_variable(name='weight',initializer=tf.random_normal_initializer(),shape=[784,10])\n",
    "logit = tf.matmul(X,w)\n",
    "cost_op    = tf.reduce_mean(tf.nn.softmax_cross_entropy_with_logits_v2(logits=logit, labels=Y)) # compute mean cross entropy\n",
    "train_op   = tf.train.GradientDescentOptimizer(0.01).minimize(cost_op)  \n",
    "predict_op = tf.argmax(logit,1) "
   ]
  },
  {
   "cell_type": "code",
   "execution_count": 18,
   "metadata": {},
   "outputs": [],
   "source": [
    "# Lauching the Session\n",
    "ss = tf.Session()\n",
    "ss.run(tf.global_variables_initializer())"
   ]
  },
  {
   "cell_type": "code",
   "execution_count": 33,
   "metadata": {
    "collapsed": true
   },
   "outputs": [
    {
     "name": "stdout",
     "output_type": "stream",
     "text": [
      "epoch:0 cost: 0.4841371178627014\n",
      "epoch:1 cost: 0.4510771632194519\n",
      "epoch:2 cost: 0.42337557673454285\n",
      "epoch:3 cost: 0.399894654750824\n",
      "epoch:4 cost: 0.3797841966152191\n",
      "epoch:5 cost: 0.36239540576934814\n",
      "epoch:6 cost: 0.34722620248794556\n",
      "epoch:7 cost: 0.3338811993598938\n",
      "epoch:8 cost: 0.3220502734184265\n",
      "epoch:9 cost: 0.3114859461784363\n",
      "epoch:10 cost: 0.30199140310287476\n",
      "epoch:11 cost: 0.2934086322784424\n",
      "epoch:12 cost: 0.2856104373931885\n",
      "epoch:13 cost: 0.278492271900177\n",
      "epoch:14 cost: 0.27196866273880005\n",
      "epoch:15 cost: 0.26596808433532715\n",
      "epoch:16 cost: 0.26043009757995605\n",
      "epoch:17 cost: 0.2553037106990814\n",
      "epoch:18 cost: 0.25054433941841125\n",
      "epoch:19 cost: 0.24611344933509827\n",
      "epoch:20 cost: 0.24197699129581451\n",
      "epoch:21 cost: 0.2381049394607544\n",
      "epoch:22 cost: 0.23447075486183167\n",
      "epoch:23 cost: 0.23105117678642273\n",
      "epoch:24 cost: 0.22782433032989502\n",
      "epoch:25 cost: 0.22477178275585175\n",
      "epoch:26 cost: 0.221876859664917\n",
      "epoch:27 cost: 0.21912458539009094\n",
      "epoch:28 cost: 0.21650181710720062\n",
      "epoch:29 cost: 0.21399694681167603\n",
      "epoch:30 cost: 0.21159997582435608\n",
      "epoch:31 cost: 0.2093016505241394\n",
      "epoch:32 cost: 0.20709387958049774\n",
      "epoch:33 cost: 0.20496955513954163\n",
      "epoch:34 cost: 0.20292255282402039\n",
      "epoch:35 cost: 0.2009471356868744\n",
      "epoch:36 cost: 0.19903874397277832\n",
      "epoch:37 cost: 0.1971924602985382\n",
      "epoch:38 cost: 0.19540444016456604\n",
      "epoch:39 cost: 0.19367122650146484\n",
      "epoch:40 cost: 0.19198930263519287\n",
      "epoch:41 cost: 0.19035586714744568\n",
      "epoch:42 cost: 0.18876835703849792\n",
      "epoch:43 cost: 0.1872239112854004\n",
      "epoch:44 cost: 0.1857203096151352\n",
      "epoch:45 cost: 0.184255450963974\n",
      "epoch:46 cost: 0.1828276515007019\n",
      "epoch:47 cost: 0.1814342439174652\n",
      "epoch:48 cost: 0.18007463216781616\n",
      "epoch:49 cost: 0.1787465512752533\n"
     ]
    }
   ],
   "source": [
    "epochs = 50\n",
    "batch_size = 128\n",
    "for i in range(epochs): \n",
    "    for start, end in zip(range(0, len(X_train), batch_size), range(128, len(X_train)+1, batch_size)):\n",
    "        ss.run(train_op, feed_dict={X: X_train[start:end], Y: y_train[start:end]})\n",
    "    print('epoch:{} cost: {}'.format(i,ss.run(cost_op,feed_dict={X: X_train[start:end], Y: y_train[start:end]})))"
   ]
  },
  {
   "cell_type": "code",
   "execution_count": 34,
   "metadata": {},
   "outputs": [],
   "source": [
    "y_pred = ss.run(predict_op,feed_dict={X:X_test})"
   ]
  },
  {
   "cell_type": "code",
   "execution_count": 35,
   "metadata": {},
   "outputs": [
    {
     "name": "stdout",
     "output_type": "stream",
     "text": [
      "[7 2 1 0 4 1 4 9 6 9 0 6 9 0 1 5 9 7 3 4]\n",
      "[7 2 1 0 4 1 4 9 5 9 0 6 9 0 1 5 9 7 3 4]\n"
     ]
    }
   ],
   "source": [
    "print(y_pred[:20])\n",
    "print(np.argmax(y_test,1)[:20])"
   ]
  },
  {
   "cell_type": "code",
   "execution_count": 37,
   "metadata": {},
   "outputs": [
    {
     "name": "stdout",
     "output_type": "stream",
     "text": [
      "accuracy :  85.66\n"
     ]
    }
   ],
   "source": [
    "c = 0\n",
    "for i,j in enumerate(y_pred):\n",
    "    if np.argmax(y_test,1)[i] == j:\n",
    "        c+=1\n",
    "print(\"accuracy : \",(c/len(y_pred))*100)"
   ]
  }
 ],
 "metadata": {
  "kernelspec": {
   "display_name": "Python 3",
   "language": "python",
   "name": "python3"
  },
  "language_info": {
   "codemirror_mode": {
    "name": "ipython",
    "version": 3
   },
   "file_extension": ".py",
   "mimetype": "text/x-python",
   "name": "python",
   "nbconvert_exporter": "python",
   "pygments_lexer": "ipython3",
   "version": "3.7.6"
  }
 },
 "nbformat": 4,
 "nbformat_minor": 2
}

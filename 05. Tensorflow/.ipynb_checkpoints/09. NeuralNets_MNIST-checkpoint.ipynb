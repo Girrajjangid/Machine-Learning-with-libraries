{
 "cells": [
  {
   "cell_type": "code",
   "execution_count": 1,
   "metadata": {
    "collapsed": true
   },
   "outputs": [
    {
     "name": "stderr",
     "output_type": "stream",
     "text": [
      "C:\\Users\\GirrajJangid\\Anaconda3\\lib\\site-packages\\h5py\\__init__.py:36: FutureWarning: Conversion of the second argument of issubdtype from `float` to `np.floating` is deprecated. In future, it will be treated as `np.float64 == np.dtype(float).type`.\n",
      "  from ._conv import register_converters as _register_converters\n"
     ]
    }
   ],
   "source": [
    "import tensorflow as tf\n",
    "import numpy as np\n",
    "from tensorflow.examples.tutorials.mnist import input_data"
   ]
  },
  {
   "cell_type": "code",
   "execution_count": 2,
   "metadata": {
    "collapsed": true
   },
   "outputs": [
    {
     "name": "stdout",
     "output_type": "stream",
     "text": [
      "WARNING:tensorflow:From <ipython-input-2-50abdbad8d3c>:1: read_data_sets (from tensorflow.contrib.learn.python.learn.datasets.mnist) is deprecated and will be removed in a future version.\n",
      "Instructions for updating:\n",
      "Please use alternatives such as official/mnist/dataset.py from tensorflow/models.\n",
      "WARNING:tensorflow:From C:\\Users\\GirrajJangid\\Anaconda3\\lib\\site-packages\\tensorflow\\contrib\\learn\\python\\learn\\datasets\\mnist.py:260: maybe_download (from tensorflow.contrib.learn.python.learn.datasets.base) is deprecated and will be removed in a future version.\n",
      "Instructions for updating:\n",
      "Please write your own downloading logic.\n",
      "WARNING:tensorflow:From C:\\Users\\GirrajJangid\\Anaconda3\\lib\\site-packages\\tensorflow\\contrib\\learn\\python\\learn\\datasets\\mnist.py:262: extract_images (from tensorflow.contrib.learn.python.learn.datasets.mnist) is deprecated and will be removed in a future version.\n",
      "Instructions for updating:\n",
      "Please use tf.data to implement this functionality.\n",
      "Extracting MNIST_data\\train-images-idx3-ubyte.gz\n",
      "WARNING:tensorflow:From C:\\Users\\GirrajJangid\\Anaconda3\\lib\\site-packages\\tensorflow\\contrib\\learn\\python\\learn\\datasets\\mnist.py:267: extract_labels (from tensorflow.contrib.learn.python.learn.datasets.mnist) is deprecated and will be removed in a future version.\n",
      "Instructions for updating:\n",
      "Please use tf.data to implement this functionality.\n",
      "Extracting MNIST_data\\train-labels-idx1-ubyte.gz\n",
      "WARNING:tensorflow:From C:\\Users\\GirrajJangid\\Anaconda3\\lib\\site-packages\\tensorflow\\contrib\\learn\\python\\learn\\datasets\\mnist.py:110: dense_to_one_hot (from tensorflow.contrib.learn.python.learn.datasets.mnist) is deprecated and will be removed in a future version.\n",
      "Instructions for updating:\n",
      "Please use tf.one_hot on tensors.\n",
      "Extracting MNIST_data\\t10k-images-idx3-ubyte.gz\n",
      "Extracting MNIST_data\\t10k-labels-idx1-ubyte.gz\n",
      "WARNING:tensorflow:From C:\\Users\\GirrajJangid\\Anaconda3\\lib\\site-packages\\tensorflow\\contrib\\learn\\python\\learn\\datasets\\mnist.py:290: DataSet.__init__ (from tensorflow.contrib.learn.python.learn.datasets.mnist) is deprecated and will be removed in a future version.\n",
      "Instructions for updating:\n",
      "Please use alternatives such as official/mnist/dataset.py from tensorflow/models.\n"
     ]
    }
   ],
   "source": [
    "mnist = input_data.read_data_sets(\"MNIST_data\",one_hot=True)\n",
    "X_train, X_test, y_train, y_test  = mnist.train.images , mnist.test.images, mnist.train.labels, mnist.test.labels"
   ]
  },
  {
   "cell_type": "code",
   "execution_count": 5,
   "metadata": {},
   "outputs": [],
   "source": [
    "def model(X, w_h1, b_h1, w_h2, b_h2, w_o, p_keep_input, p_keep_hidden):\n",
    "    \n",
    "    X = tf.nn.dropout(x=X, rate = 1 - p_keep_input)\n",
    "    h = tf.nn.relu_layer(X,w_h1,b_h1)\n",
    "    \n",
    "    h = tf.nn.dropout(x=h,rate = 1- p_keep_hidden)\n",
    "    h2 = tf.nn.relu_layer(h,w_h2,b_h2)\n",
    "    \n",
    "    h2 = tf.nn.dropout(x=h2,rate = 1 -p_keep_hidden)\n",
    "    \n",
    "    return tf.matmul(h2, w_o) # equation of hyperplanes    "
   ]
  },
  {
   "cell_type": "code",
   "execution_count": 14,
   "metadata": {},
   "outputs": [],
   "source": [
    "tf.reset_default_graph()\n",
    "\n",
    "# inputs\n",
    "X = tf.placeholder(dtype = tf.float32,shape=[None,784])\n",
    "Y = tf.placeholder(dtype = tf.float32,shape=[None,10])\n",
    "\n",
    "# weights\n",
    "w_h1 = tf.get_variable(name='weight_hidden_layer1',initializer=tf.random_normal_initializer(),shape=[784,500]) \n",
    "w_h2 = tf.get_variable(name='weight_hidden_layer2',initializer=tf.random_normal_initializer(),shape=[500,500])\n",
    "w_o  = tf.get_variable(name='weight_outer_layer',initializer=tf.random_normal_initializer(),shape=[500,10])\n",
    "\n",
    "b_h1 = tf.get_variable(name='bias_hidden_layer1',initializer=tf.random_normal_initializer(),shape=[500])\n",
    "b_h2 = tf.get_variable(name='bias_hidden_layer2',initializer=tf.random_normal_initializer(),shape=[500])\n",
    "\n",
    "p_keep_input  = tf.placeholder(dtype=tf.float32)\n",
    "p_keep_hidden = tf.placeholder(dtype=tf.float32)\n",
    "\n",
    "px_model = model(X, w_h1, b_h1, w_h2, b_h2, w_o, p_keep_input, p_keep_hidden)\n",
    "cost = tf.reduce_mean(tf.nn.softmax_cross_entropy_with_logits_v2(logits=px_model, labels=Y))\n",
    "train_op   = tf.train.AdamOptimizer().minimize(cost)\n",
    "predict_op = tf.argmax(px_model, 1) "
   ]
  },
  {
   "cell_type": "code",
   "execution_count": 24,
   "metadata": {},
   "outputs": [
    {
     "name": "stdout",
     "output_type": "stream",
     "text": [
      "epoch:0 cost: 878.719482421875\n",
      "epoch:1 cost: 267.32769775390625\n",
      "epoch:2 cost: 213.3560333251953\n",
      "epoch:3 cost: 234.77978515625\n",
      "epoch:4 cost: 190.87998962402344\n",
      "epoch:5 cost: 133.53176879882812\n",
      "epoch:6 cost: 86.66612243652344\n",
      "epoch:7 cost: 90.71318054199219\n",
      "epoch:8 cost: 71.48953247070312\n",
      "epoch:9 cost: 53.970664978027344\n"
     ]
    }
   ],
   "source": [
    "epoch = 10\n",
    "batch_size = 128\n",
    "ss =  tf.Session() \n",
    "ss.run(tf.global_variables_initializer())\n",
    "for i in range(epoch): \n",
    "        for start, end in zip(range(0, len(X_train), batch_size), range(128, len(X_train)+1, batch_size)):\n",
    "            ss.run(train_op, feed_dict={X: X_train[start:end], \n",
    "                                        Y: y_train[start:end],\n",
    "                                        p_keep_input:0.6,\n",
    "                                        p_keep_hidden:0.6\n",
    "                                       })\n",
    "        print('epoch:{} cost: {}'.format(i,ss.run(cost,feed_dict={X: X_train[start:end], \n",
    "                                                                  Y: y_train[start:end],\n",
    "                                                                  p_keep_hidden:0.6,\n",
    "                                                                  p_keep_input:0.6})))\n",
    "y_pred = ss.run(predict_op,feed_dict={X:X_test,\n",
    "                                          p_keep_input:0.6,\n",
    "                                          p_keep_hidden:0.6})"
   ]
  },
  {
   "cell_type": "code",
   "execution_count": 26,
   "metadata": {},
   "outputs": [
    {
     "name": "stdout",
     "output_type": "stream",
     "text": [
      "accuracy :  71.43\n"
     ]
    },
    {
     "data": {
      "text/plain": [
       "<tensorflow.python.summary.writer.writer.FileWriter at 0x20e6e8acd30>"
      ]
     },
     "execution_count": 26,
     "metadata": {},
     "output_type": "execute_result"
    }
   ],
   "source": [
    "c = 0\n",
    "for i,j in enumerate(y_pred):\n",
    "    if np.argmax(y_test,1)[i] == j:\n",
    "        c+=1\n",
    "print(\"accuracy : \",(c/len(y_pred))*100)\n",
    "\n",
    "# Saving for tensorboard\n",
    "tf.summary.FileWriter('./logs',ss.graph)"
   ]
  },
  {
   "cell_type": "code",
   "execution_count": 29,
   "metadata": {},
   "outputs": [],
   "source": [
    "#tensorboard logdir  './logs' run this command in terminal"
   ]
  },
  {
   "cell_type": "markdown",
   "metadata": {},
   "source": [
    "<img src = './imgs/a.png'>"
   ]
  }
 ],
 "metadata": {
  "kernelspec": {
   "display_name": "Python 3",
   "language": "python",
   "name": "python3"
  },
  "language_info": {
   "codemirror_mode": {
    "name": "ipython",
    "version": 3
   },
   "file_extension": ".py",
   "mimetype": "text/x-python",
   "name": "python",
   "nbconvert_exporter": "python",
   "pygments_lexer": "ipython3",
   "version": "3.7.6"
  }
 },
 "nbformat": 4,
 "nbformat_minor": 2
}

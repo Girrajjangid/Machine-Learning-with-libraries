{
 "cells": [
  {
   "cell_type": "markdown",
   "metadata": {},
   "source": [
    "# Building first Complete Neural Network in tensorflow\n",
    "\n",
    "There are two parts to implement a tensorflow model:\n",
    "1. Create the computation graph\n",
    "2. Run the graph"
   ]
  },
  {
   "cell_type": "code",
   "execution_count": 1,
   "metadata": {},
   "outputs": [],
   "source": [
    "import warnings\n",
    "warnings.filterwarnings('ignore')\n",
    "import numpy as np\n",
    "import tensorflow as tf\n",
    "from tensorflow.examples.tutorials.mnist import input_data"
   ]
  },
  {
   "cell_type": "code",
   "execution_count": 2,
   "metadata": {},
   "outputs": [],
   "source": [
    "import matplotlib.pyplot as plt"
   ]
  },
  {
   "cell_type": "code",
   "execution_count": 3,
   "metadata": {
    "collapsed": true
   },
   "outputs": [
    {
     "name": "stdout",
     "output_type": "stream",
     "text": [
      "WARNING:tensorflow:From <ipython-input-3-50abdbad8d3c>:1: read_data_sets (from tensorflow.contrib.learn.python.learn.datasets.mnist) is deprecated and will be removed in a future version.\n",
      "Instructions for updating:\n",
      "Please use alternatives such as official/mnist/dataset.py from tensorflow/models.\n",
      "WARNING:tensorflow:From C:\\Users\\GirrajJangid\\Anaconda3\\envs\\python_gpu\\lib\\site-packages\\tensorflow\\contrib\\learn\\python\\learn\\datasets\\mnist.py:260: maybe_download (from tensorflow.contrib.learn.python.learn.datasets.base) is deprecated and will be removed in a future version.\n",
      "Instructions for updating:\n",
      "Please write your own downloading logic.\n",
      "WARNING:tensorflow:From C:\\Users\\GirrajJangid\\Anaconda3\\envs\\python_gpu\\lib\\site-packages\\tensorflow\\contrib\\learn\\python\\learn\\datasets\\mnist.py:262: extract_images (from tensorflow.contrib.learn.python.learn.datasets.mnist) is deprecated and will be removed in a future version.\n",
      "Instructions for updating:\n",
      "Please use tf.data to implement this functionality.\n",
      "Extracting MNIST_data\\train-images-idx3-ubyte.gz\n",
      "WARNING:tensorflow:From C:\\Users\\GirrajJangid\\Anaconda3\\envs\\python_gpu\\lib\\site-packages\\tensorflow\\contrib\\learn\\python\\learn\\datasets\\mnist.py:267: extract_labels (from tensorflow.contrib.learn.python.learn.datasets.mnist) is deprecated and will be removed in a future version.\n",
      "Instructions for updating:\n",
      "Please use tf.data to implement this functionality.\n",
      "Extracting MNIST_data\\train-labels-idx1-ubyte.gz\n",
      "WARNING:tensorflow:From C:\\Users\\GirrajJangid\\Anaconda3\\envs\\python_gpu\\lib\\site-packages\\tensorflow\\contrib\\learn\\python\\learn\\datasets\\mnist.py:110: dense_to_one_hot (from tensorflow.contrib.learn.python.learn.datasets.mnist) is deprecated and will be removed in a future version.\n",
      "Instructions for updating:\n",
      "Please use tf.one_hot on tensors.\n",
      "Extracting MNIST_data\\t10k-images-idx3-ubyte.gz\n",
      "Extracting MNIST_data\\t10k-labels-idx1-ubyte.gz\n",
      "WARNING:tensorflow:From C:\\Users\\GirrajJangid\\Anaconda3\\envs\\python_gpu\\lib\\site-packages\\tensorflow\\contrib\\learn\\python\\learn\\datasets\\mnist.py:290: DataSet.__init__ (from tensorflow.contrib.learn.python.learn.datasets.mnist) is deprecated and will be removed in a future version.\n",
      "Instructions for updating:\n",
      "Please use alternatives such as official/mnist/dataset.py from tensorflow/models.\n"
     ]
    }
   ],
   "source": [
    "mnist = input_data.read_data_sets(\"MNIST_data\",one_hot=True)\n",
    "X_train, X_test, y_train, y_test  = mnist.train.images , mnist.test.images, mnist.train.labels, mnist.test.labels"
   ]
  },
  {
   "cell_type": "code",
   "execution_count": 4,
   "metadata": {},
   "outputs": [
    {
     "data": {
      "text/plain": [
       "((55000, 784), (10000, 784), (55000, 10), (10000, 10))"
      ]
     },
     "execution_count": 4,
     "metadata": {},
     "output_type": "execute_result"
    }
   ],
   "source": [
    "X_train.shape, X_test.shape, y_train.shape, y_test.shape"
   ]
  },
  {
   "cell_type": "code",
   "execution_count": 5,
   "metadata": {},
   "outputs": [
    {
     "data": {
      "image/png": "[encoded data removed]",
      "text/plain": [
       "<Figure size 432x288 with 1 Axes>"
      ]
     },
     "metadata": {
      "needs_background": "light"
     },
     "output_type": "display_data"
    },
    {
     "name": "stdout",
     "output_type": "stream",
     "text": [
      "label:  3\n"
     ]
    }
   ],
   "source": [
    "plt.imshow(X_train[1].reshape(28,28))\n",
    "plt.show()\n",
    "print('label: ',np.argmax(y_train[1]))"
   ]
  },
  {
   "cell_type": "code",
   "execution_count": 6,
   "metadata": {},
   "outputs": [
    {
     "data": {
      "text/plain": [
       "1.0"
      ]
     },
     "execution_count": 6,
     "metadata": {},
     "output_type": "execute_result"
    }
   ],
   "source": [
    "X_train.max()\n",
    "# No need to normalize"
   ]
  },
  {
   "cell_type": "code",
   "execution_count": 8,
   "metadata": {},
   "outputs": [],
   "source": [
    "# Create placeholder for inputs\n",
    "def input_placeholder():\n",
    "    \"\"\"\n",
    "    X = input image (n_images, pixel)\n",
    "    Y = input target varaible (n_label, one_hot)\n",
    "    \"\"\"\n",
    "    X = tf.placeholder(dtype=tf.float32, shape=[None,784])\n",
    "    Y = tf.placeholder(dtype=tf.float32, shape=[None,10])\n",
    "    \n",
    "    return X,Y"
   ]
  },
  {
   "cell_type": "code",
   "execution_count": 10,
   "metadata": {},
   "outputs": [],
   "source": [
    "# Parameter initialization\n",
    "def initialization_param():\n",
    "    \"\"\"\n",
    "    w1,w2,w3 = weights of 1st,2nd,3rd layers of NN\n",
    "    b1,b2,b3 = bias of layers \n",
    "    \"\"\"\n",
    "    w1 = tf.get_variable(name='W_1',initializer=tf.contrib.layers.xavier_initializer(),shape=[784,200])\n",
    "    w2 = tf.get_variable(name='W_2',initializer=tf.contrib.layers.xavier_initializer(),shape=[200,50])\n",
    "    w3 = tf.get_variable(name='W_3',initializer=tf.contrib.layers.xavier_initializer(),shape=[50,10])\n",
    "    b1 = tf.get_variable(name='b_1',initializer=tf.zeros_initializer(),shape=[200])\n",
    "    b2 = tf.get_variable(name='b_2',initializer=tf.zeros_initializer(),shape=[50])\n",
    "    b3 = tf.get_variable(name='b_3',initializer=tf.zeros_initializer(),shape=[10])\n",
    "    parameters = {'W_1':w1,\n",
    "                 'W_2':w2,\n",
    "                 'W_3':w3,\n",
    "                 'b_1':b1,\n",
    "                 'b_2':b2,\n",
    "                 'b_3':b3}\n",
    "    return parameters"
   ]
  },
  {
   "cell_type": "code",
   "execution_count": 15,
   "metadata": {},
   "outputs": [],
   "source": [
    "# Forward Propagation:\n",
    "def forward_propagation(X,parameters):\n",
    "    \"\"\"\n",
    "    X = input images\n",
    "    parameters = initilization weights\n",
    "    \"\"\"\n",
    "    a_1 = tf.nn.relu_layer(x=X, weights=parameters['W_1'], biases=parameters['b_1'])\n",
    "    a_2 = tf.nn.relu_layer(x=a_1, weights=parameters['W_2'],biases=parameters['b_2'])\n",
    "    #a_3 = tf.nn.softmax(tf.add(tf.matmul(a_2,parameters['W_3']),parameters['b_3']))\n",
    "    a_3 = tf.add(tf.matmul(a_2,parameters['W_3']), parameters['b_3'])\n",
    "    return a_3"
   ]
  },
  {
   "cell_type": "code",
   "execution_count": 16,
   "metadata": {},
   "outputs": [
    {
     "data": {
      "text/plain": [
       "<tf.Tensor 'Add:0' shape=(?, 10) dtype=float32>"
      ]
     },
     "execution_count": 16,
     "metadata": {},
     "output_type": "execute_result"
    }
   ],
   "source": [
    "tf.reset_default_graph()\n",
    "X,Y = input_placeholder()\n",
    "param = initialization_param()\n",
    "a_3 = forward_propagation(X,param)\n",
    "a_3"
   ]
  },
  {
   "cell_type": "code",
   "execution_count": 23,
   "metadata": {},
   "outputs": [],
   "source": [
    "# Compute Cost\n",
    "def compute_cost(y_pred, y_true):\n",
    "    #y_true = tf.cast(y_true,tf.float32)\n",
    "    #y_pred = tf.cast(y_pred,tf.float32)\n",
    "    #logit = tf.transpose(y_pred)\n",
    "    #label = tf.transpose(y_true)\n",
    "    return tf.reduce_mean(tf.nn.softmax_cross_entropy_with_logits_v2(logits=y_pred, labels=y_true))"
   ]
  },
  {
   "cell_type": "code",
   "execution_count": 24,
   "metadata": {},
   "outputs": [
    {
     "data": {
      "text/plain": [
       "<tf.Tensor 'Mean_1:0' shape=() dtype=float32>"
      ]
     },
     "execution_count": 24,
     "metadata": {},
     "output_type": "execute_result"
    }
   ],
   "source": [
    "cost = compute_cost(a_3, Y)\n",
    "cost"
   ]
  },
  {
   "cell_type": "code",
   "execution_count": 76,
   "metadata": {},
   "outputs": [],
   "source": [
    "# Backward Propagation\n",
    "def backpropagation(cost):\n",
    "    return tf.train.AdamOptimizer(learning_rate=0.0001).minimize(cost)"
   ]
  },
  {
   "cell_type": "code",
   "execution_count": 77,
   "metadata": {},
   "outputs": [],
   "source": [
    "# prediction\n",
    "def prediction(X,parameters):\n",
    "    return forward_propagation(X,parameters)"
   ]
  },
  {
   "cell_type": "code",
   "execution_count": 78,
   "metadata": {},
   "outputs": [],
   "source": [
    "import math"
   ]
  },
  {
   "cell_type": "code",
   "execution_count": 79,
   "metadata": {
    "scrolled": true
   },
   "outputs": [
    {
     "name": "stdout",
     "output_type": "stream",
     "text": [
      "Cost after epoch 1: 2.309180\n",
      "Cost after epoch 2: 2.301125\n",
      "Cost after epoch 3: 2.296526\n",
      "Cost after epoch 4: 2.291298\n",
      "Cost after epoch 5: 2.285978\n"
     ]
    },
    {
     "data": {
      "image/png": "[encoded data removed]",
      "text/plain": [
       "<Figure size 432x288 with 1 Axes>"
      ]
     },
     "metadata": {
      "needs_background": "light"
     },
     "output_type": "display_data"
    },
    {
     "name": "stdout",
     "output_type": "stream",
     "text": [
      "Parameters trained.\n",
      "Train accuracy:  0.0\n",
      "Test accuracy:  0.0\n"
     ]
    }
   ],
   "source": [
    "tf.reset_default_graph()                # to rerun model again without overwriting tf variable again\n",
    "    \n",
    "X, Y     = input_placeholder()          # create places for input and output\n",
    "param    = initialization_param()       # weights initialize\n",
    "y_pred   = forward_propagation(X,param) # forward propagation\n",
    "cost     = compute_cost(y_pred, Y)      # calculate cost\n",
    "optimizer= backpropagation(cost)        # backpropagation \n",
    "    \n",
    "init = tf.global_variables_initializer() # initialize variables\n",
    "costs = []\n",
    "epochs = 5\n",
    "batch_size = 32\n",
    "print_cost = True\n",
    "\n",
    "with tf.Session() as ss:                 # start session to compute computational graph\n",
    "    ss.run(init)\n",
    "        \n",
    "    for ep in range(epochs):\n",
    "        \n",
    "        epoch_cost = 0.\n",
    "        m = X_train.shape[0]\n",
    "        permutation = list(np.random.permutation(m)) # permutation on 55,000 it shuffle 55,000 numbers\n",
    "        shuffled_X, shuffled_Y = X_train[permutation], y_train[permutation]               # shuffle data\n",
    "        complete_minibatches = math.floor(m / batch_size) \n",
    "        \n",
    "        for k in range(0, complete_minibatches):\n",
    "            minibatch_X = shuffled_X[k * batch_size : (k + 1) * batch_size]\n",
    "            minibatch_Y = shuffled_Y[k * batch_size : (k + 1) * batch_size]\n",
    "                \n",
    "            _ , minibatch_cost = ss.run([optimizer, cost], feed_dict={X: minibatch_X, Y: minibatch_Y})\n",
    "            epoch_cost += minibatch_cost \n",
    "        \n",
    "        if m % batch_size != 0:\n",
    "                \n",
    "            minibatch_X = shuffled_X[complete_minibatches * batch_size:]\n",
    "            minibatch_Y = shuffled_Y[complete_minibatches * batch_size:]\n",
    "            \n",
    "            _ , minibatch_cost = ss.run([optimizer, cost], feed_dict={X: minibatch_X, Y: minibatch_Y})\n",
    "            epoch_cost += minibatch_cost \n",
    "            \n",
    "        epoch_cost /= complete_minibatches\n",
    "        \n",
    "        # Print the cost every epoch\n",
    "        if print_cost == True :\n",
    "            print (\"Cost after epoch %i: %f\" % (ep+1, epoch_cost))\n",
    "        \n",
    "        costs.append(epoch_cost)\n",
    "            \n",
    "    # plot the cost\n",
    "    plt.plot(costs)\n",
    "    plt.ylabel('cost')\n",
    "    plt.xlabel('iterations (per tens)')\n",
    "    plt.show()\n",
    "        \n",
    "    params = ss.run(param)\n",
    "    print('Parameters trained.')\n",
    "        \n",
    "    # prediction\n",
    "    correct_predict = tf.equal(tf.argmax(y_pred), tf.argmax(Y))\n",
    "\n",
    "    # Calculate accuracy on the test data\n",
    "    accuracy = tf.reduce_mean(tf.cast(correct_predict, dtype=tf.float32))\n",
    "        \n",
    "    print('Train accuracy: ',accuracy.eval({X:X_train, Y:y_train}))\n",
    "    print('Test accuracy: ',accuracy.eval({X:X_test, Y:y_test}))\n",
    "        \n",
    "    tf.summary.FileWriter('./logs',ss.graph)\n",
    "        "
   ]
  },
  {
   "cell_type": "code",
   "execution_count": 82,
   "metadata": {},
   "outputs": [
    {
     "name": "stderr",
     "output_type": "stream",
     "text": [
      "TensorBoard 1.13.1 at http://LAPTOP-SH4MA2SS:6006 (Press CTRL+C to quit)\n",
      "Traceback (most recent call last):\n",
      "  File \"c:\\users\\girrajjangid\\anaconda3\\envs\\python_gpu\\lib\\runpy.py\", line 193, in _run_module_as_main\n",
      "    \"__main__\", mod_spec)\n",
      "  File \"c:\\users\\girrajjangid\\anaconda3\\envs\\python_gpu\\lib\\runpy.py\", line 85, in _run_code\n",
      "    exec(code, run_globals)\n",
      "  File \"C:\\Users\\GirrajJangid\\Anaconda3\\envs\\python_gpu\\Scripts\\tensorboard.exe\\__main__.py\", line 9, in <module>\n",
      "  File \"c:\\users\\girrajjangid\\anaconda3\\envs\\python_gpu\\lib\\site-packages\\tensorboard\\main.py\", line 57, in run_main\n",
      "    app.run(tensorboard.main, flags_parser=tensorboard.configure)\n",
      "  File \"c:\\users\\girrajjangid\\anaconda3\\envs\\python_gpu\\lib\\site-packages\\absl\\app.py\", line 300, in run\n",
      "    _run_main(main, args)\n",
      "  File \"c:\\users\\girrajjangid\\anaconda3\\envs\\python_gpu\\lib\\site-packages\\absl\\app.py\", line 251, in _run_main\n",
      "    sys.exit(main(argv))\n",
      "  File \"c:\\users\\girrajjangid\\anaconda3\\envs\\python_gpu\\lib\\site-packages\\tensorboard\\program.py\", line 228, in main\n",
      "    self._register_info(server)\n",
      "  File \"c:\\users\\girrajjangid\\anaconda3\\envs\\python_gpu\\lib\\site-packages\\tensorboard\\program.py\", line 274, in _register_info\n",
      "    manager.write_info_file(info)\n",
      "  File \"c:\\users\\girrajjangid\\anaconda3\\envs\\python_gpu\\lib\\site-packages\\tensorboard\\manager.py\", line 269, in write_info_file\n",
      "    payload = \"%s\\n\" % _info_to_string(tensorboard_info)\n",
      "  File \"c:\\users\\girrajjangid\\anaconda3\\envs\\python_gpu\\lib\\site-packages\\tensorboard\\manager.py\", line 129, in _info_to_string\n",
      "    for k in _TENSORBOARD_INFO_FIELDS\n",
      "  File \"c:\\users\\girrajjangid\\anaconda3\\envs\\python_gpu\\lib\\site-packages\\tensorboard\\manager.py\", line 129, in <dictcomp>\n",
      "    for k in _TENSORBOARD_INFO_FIELDS\n",
      "  File \"c:\\users\\girrajjangid\\anaconda3\\envs\\python_gpu\\lib\\site-packages\\tensorboard\\manager.py\", line 51, in <lambda>\n",
      "    (dt - datetime.datetime.fromtimestamp(0)).total_seconds()),\n",
      "OSError: [Errno 22] Invalid argument\n"
     ]
    }
   ],
   "source": [
    "!tensorboard --logdir './logs'"
   ]
  },
  {
   "cell_type": "code",
   "execution_count": null,
   "metadata": {},
   "outputs": [],
   "source": []
  }
 ],
 "metadata": {
  "kernelspec": {
   "display_name": "Python 3",
   "language": "python",
   "name": "python3"
  },
  "language_info": {
   "codemirror_mode": {
    "name": "ipython",
    "version": 3
   },
   "file_extension": ".py",
   "mimetype": "text/x-python",
   "name": "python",
   "nbconvert_exporter": "python",
   "pygments_lexer": "ipython3",
   "version": "3.7.0"
  }
 },
 "nbformat": 4,
 "nbformat_minor": 2
}

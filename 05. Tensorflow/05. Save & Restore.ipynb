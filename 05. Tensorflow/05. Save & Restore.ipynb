{
 "cells": [
  {
   "cell_type": "markdown",
   "metadata": {},
   "source": [
    "To save and restore your variables, all you need to do is to call the **tf.train.Saver()** at the end of you graph."
   ]
  },
  {
   "cell_type": "markdown",
   "metadata": {},
   "source": [
    "# 1. Save and restore two variables"
   ]
  },
  {
   "cell_type": "markdown",
   "metadata": {},
   "source": [
    "### 1.1 Save"
   ]
  },
  {
   "cell_type": "code",
   "execution_count": 1,
   "metadata": {},
   "outputs": [
    {
     "data": {
      "text/plain": [
       "'1.13.1'"
      ]
     },
     "execution_count": 1,
     "metadata": {},
     "output_type": "execute_result"
    }
   ],
   "source": [
    "import warnings\n",
    "warnings.filterwarnings('ignore')\n",
    "import tensorflow as tf\n",
    "tf.__version__"
   ]
  },
  {
   "cell_type": "code",
   "execution_count": 2,
   "metadata": {},
   "outputs": [
    {
     "name": "stdout",
     "output_type": "stream",
     "text": [
      "WARNING:tensorflow:From C:\\Users\\GirrajJangid\\Anaconda3\\lib\\site-packages\\tensorflow\\python\\framework\\op_def_library.py:263: colocate_with (from tensorflow.python.framework.ops) is deprecated and will be removed in a future version.\n",
      "Instructions for updating:\n",
      "Colocations handled automatically by placer.\n",
      "a= [3 3]\n",
      "b= [5 5 5]\n"
     ]
    }
   ],
   "source": [
    "#tf.reset_default_graph()\n",
    "a = tf.get_variable('A',initializer=tf.constant(3, shape=[2]))\n",
    "b = tf.get_variable('B',initializer=tf.constant(5, shape=[3]))\n",
    "\n",
    "# varible need to be initilize before use\n",
    "init_op = tf.global_variables_initializer()\n",
    "\n",
    "with tf.Session() as ss:\n",
    "    ss.run(init_op)\n",
    "    a_out,b_out = ss.run([a,b])\n",
    "    print('a=',a_out)\n",
    "    print('b=',b_out)"
   ]
  },
  {
   "cell_type": "markdown",
   "metadata": {},
   "source": [
    "All of the variables exist in the scope of the session. So, after the session is closed, we will loose the variable.\n",
    "\n",
    "In order to save the variable, we will call the saver function using _tf.train.Saver()_ in our graph. This function will find all the variables in the graph. We can see the list of all variables in  _ _var_list._ Let's create a saver object and take a look at the _ _var_list_ in the object:"
   ]
  },
  {
   "cell_type": "code",
   "execution_count": 3,
   "metadata": {},
   "outputs": [
    {
     "name": "stdout",
     "output_type": "stream",
     "text": [
      "var 0 : <tf.Variable 'A:0' shape=(2,) dtype=int32_ref>\n",
      "var 1 : <tf.Variable 'B:0' shape=(3,) dtype=int32_ref>\n"
     ]
    }
   ],
   "source": [
    "# create saver object\n",
    "saver = tf.train.Saver()\n",
    "for i ,var in enumerate(saver._var_list):\n",
    "    print(f'var {i} : {var}')"
   ]
  },
  {
   "cell_type": "code",
   "execution_count": 4,
   "metadata": {},
   "outputs": [
    {
     "name": "stdout",
     "output_type": "stream",
     "text": [
      "model save at ./savers/saved_variable\n"
     ]
    }
   ],
   "source": [
    "# Now we save this variable\n",
    "#            path/<file_names>\n",
    "path = './savers/saved_variable'\n",
    "with tf.Session() as ss:\n",
    "    ss.run(init_op)\n",
    "    # save the session in the disk\n",
    "    saved_path = saver.save(ss,path)\n",
    "    print(f'model save at {saved_path}')"
   ]
  },
  {
   "cell_type": "code",
   "execution_count": 5,
   "metadata": {},
   "outputs": [
    {
     "name": "stdout",
     "output_type": "stream",
     "text": [
      "checkpoint\n",
      "saved_variable.data-00000-of-00001\n",
      "saved_variable.index\n",
      "saved_variable.meta\n"
     ]
    }
   ],
   "source": [
    "# check the files\n",
    "import os\n",
    "for file in os.listdir('./savers'):\n",
    "    print(file)"
   ]
  },
  {
   "cell_type": "markdown",
   "metadata": {},
   "source": [
    "**.data:** Contains variable values\n",
    "\n",
    "**.meta:** Contains graph structure\n",
    "\n",
    "**.index:** Identifies checkpoints"
   ]
  },
  {
   "cell_type": "markdown",
   "metadata": {},
   "source": [
    "### 1.2 Restore\n",
    "by using saver.restore() we can load the saved variables into a session"
   ]
  },
  {
   "cell_type": "code",
   "execution_count": 6,
   "metadata": {},
   "outputs": [
    {
     "name": "stdout",
     "output_type": "stream",
     "text": [
      "WARNING:tensorflow:From C:\\Users\\GirrajJangid\\Anaconda3\\lib\\site-packages\\tensorflow\\python\\training\\saver.py:1266: checkpoint_exists (from tensorflow.python.training.checkpoint_management) is deprecated and will be removed in a future version.\n",
      "Instructions for updating:\n",
      "Use standard file APIs to check for files with this prefix.\n",
      "INFO:tensorflow:Restoring parameters from ./savers/saved_variable\n",
      "a = [3 3]\n",
      "b = [5 5 5]\n"
     ]
    }
   ],
   "source": [
    "with tf.Session() as ss:\n",
    "    # restore the saved varible into ss session fron path\n",
    "    saver.restore(ss,path) # all varaibles load into this session\n",
    "    a_out, b_out = ss.run([a,b])\n",
    "    print(f'a = {a_out}')\n",
    "    print(f'b = {b_out}')"
   ]
  },
  {
   "cell_type": "markdown",
   "metadata": {},
   "source": [
    "Note:: notice that this time we did not initialize the variables in our session. Instead we restored them from the disk\n",
    "\n",
    "In order to restore the parameters, the graph should be defined.Since we defined the graph in top, we didn't have a problem restoring the parameters. But what happens if we have not loaded the graph??"
   ]
  },
  {
   "cell_type": "code",
   "execution_count": 7,
   "metadata": {},
   "outputs": [
    {
     "name": "stdout",
     "output_type": "stream",
     "text": [
      "INFO:tensorflow:Restoring parameters from ./savers/saved_variable\n",
      "The Session graph is empty.  Add operations to the graph before calling run().\n"
     ]
    }
   ],
   "source": [
    "# delete the current_graph\n",
    "tf.reset_default_graph()\n",
    "try:\n",
    "    with tf.Session() as ss:\n",
    "        saver.restore(ss,path)\n",
    "        a_out, b_out = ss.run([a,b])\n",
    "        print(f'a = {a_out}')\n",
    "        print(f'b = {b_out}')\n",
    "except Exception as e:\n",
    "    print(str(e))"
   ]
  },
  {
   "cell_type": "code",
   "execution_count": 9,
   "metadata": {},
   "outputs": [],
   "source": [
    "# Session is empty?"
   ]
  },
  {
   "cell_type": "markdown",
   "metadata": {},
   "source": [
    "so what happen here? In tensorflow graph we can access variables in only active sessions. If we want to access variable outer the session then we can store them into another varible either or save into a file. Now, here we reset the graph. i.e graph is empty it cannot access the varible until we dont provide the structure of graph\n",
    "\n",
    " we can define the graph in two ways:\n",
    "### 1.2.1 Define the graph from scratch and then run the session\n",
    "\n",
    "what you can do is to create the graph and then restore your variables"
   ]
  },
  {
   "cell_type": "code",
   "execution_count": 10,
   "metadata": {},
   "outputs": [
    {
     "name": "stdout",
     "output_type": "stream",
     "text": [
      "INFO:tensorflow:Restoring parameters from ./savers/saved_variable\n",
      "[3 3] [5 5 5]\n"
     ]
    }
   ],
   "source": [
    "tf.reset_default_graph()\n",
    "\n",
    "# create variable a and b\n",
    "a = tf.get_variable(name = 'A',initializer=tf.constant(3,shape=[2]))\n",
    "b = tf.get_variable(name = 'B',initializer=tf.constant(5,shape=[3]))\n",
    "\n",
    "# init\n",
    "init_op = tf.global_variables_initializer()\n",
    "\n",
    "# create saver object    \n",
    "saver = tf.train.Saver() \n",
    " \n",
    "# run the session\n",
    "with tf.Session() as ss:\n",
    "    saver.restore(ss,path)\n",
    "    ao,bo = ss.run([a,b])\n",
    "    print(ao,bo)"
   ]
  },
  {
   "cell_type": "markdown",
   "metadata": {},
   "source": [
    "What happen if we don't know the graph we are using someone else's pre-trained model?"
   ]
  },
  {
   "cell_type": "markdown",
   "metadata": {},
   "source": [
    "### 1.2.2. Restore the graph from .meta file"
   ]
  },
  {
   "cell_type": "markdown",
   "metadata": {},
   "source": [
    "When we save the variables, it creates a .meta file. This file contains the graph structure. Therefore, we can import the meta graph using tf.train.import_meta_graph() and restore the values of the graph. Let's import the graph and see all tensors in the graph:"
   ]
  },
  {
   "cell_type": "code",
   "execution_count": 13,
   "metadata": {
    "collapsed": true
   },
   "outputs": [
    {
     "name": "stdout",
     "output_type": "stream",
     "text": [
      "Const\n",
      "A\n",
      "A/Assign\n",
      "A/read\n",
      "Const_1\n",
      "B\n",
      "B/Assign\n",
      "B/read\n",
      "init\n",
      "save/filename/input\n",
      "save/filename\n",
      "save/Const\n",
      "save/SaveV2/tensor_names\n",
      "save/SaveV2/shape_and_slices\n",
      "save/SaveV2\n",
      "save/control_dependency\n",
      "save/RestoreV2/tensor_names\n",
      "save/RestoreV2/shape_and_slices\n",
      "save/RestoreV2\n",
      "save/Assign\n",
      "save/Assign_1\n",
      "save/restore_all\n"
     ]
    }
   ],
   "source": [
    "# delete the current graph\n",
    "tf.reset_default_graph()\n",
    "\n",
    "import_graph = tf.train.import_meta_graph('./savers/saved_variable.meta')\n",
    "\n",
    "# list all the tensors in the graph\n",
    "for tensor in tf.get_default_graph().get_operations():\n",
    "    print(tensor.name)"
   ]
  },
  {
   "cell_type": "code",
   "execution_count": 16,
   "metadata": {},
   "outputs": [
    {
     "name": "stdout",
     "output_type": "stream",
     "text": [
      "INFO:tensorflow:Restoring parameters from ./savers/saved_variable\n",
      "[3 3] [5 5 5]\n"
     ]
    }
   ],
   "source": [
    "with tf.Session() as ss:\n",
    "    # restore the saved variable\n",
    "    import_graph.restore(ss, path)\n",
    "    ao,bo = ss.run(['A:0','B:0'])\n",
    "    print(ao,bo)"
   ]
  },
  {
   "cell_type": "markdown",
   "metadata": {},
   "source": [
    "Why I don't use a,b in run? because a,b saved with A:0 and B:0 names in .meta file"
   ]
  }
 ],
 "metadata": {
  "kernelspec": {
   "display_name": "Python 3",
   "language": "python",
   "name": "python3"
  },
  "language_info": {
   "codemirror_mode": {
    "name": "ipython",
    "version": 3
   },
   "file_extension": ".py",
   "mimetype": "text/x-python",
   "name": "python",
   "nbconvert_exporter": "python",
   "pygments_lexer": "ipython3",
   "version": "3.6.5"
  }
 },
 "nbformat": 4,
 "nbformat_minor": 2
}

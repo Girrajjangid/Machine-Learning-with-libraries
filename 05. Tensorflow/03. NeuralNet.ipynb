{
 "cells": [
  {
   "cell_type": "code",
   "execution_count": 3,
   "metadata": {},
   "outputs": [
    {
     "data": {
      "text/plain": [
       "'1.13.1'"
      ]
     },
     "execution_count": 3,
     "metadata": {},
     "output_type": "execute_result"
    }
   ],
   "source": [
    "import tensorflow as tf\n",
    "import numpy as np\n",
    "tf.__version__"
   ]
  },
  {
   "cell_type": "code",
   "execution_count": 2,
   "metadata": {},
   "outputs": [],
   "source": [
    "# We create a feed-forward Neural network with one hidden layer and 200 hidden units"
   ]
  },
  {
   "cell_type": "code",
   "execution_count": 8,
   "metadata": {},
   "outputs": [
    {
     "name": "stdout",
     "output_type": "stream",
     "text": [
      "[[0.24599014 0.         0.         ... 0.         0.03972845 0.        ]\n",
      " [0.07831928 0.12667397 0.         ... 0.         0.         0.        ]\n",
      " [0.17026043 0.18875709 0.0167328  ... 0.         0.         0.        ]\n",
      " ...\n",
      " [0.1740121  0.10670428 0.         ... 0.         0.         0.        ]\n",
      " [0.30158633 0.06905194 0.         ... 0.         0.         0.        ]\n",
      " [0.13289139 0.01099524 0.         ... 0.         0.08022398 0.        ]]\n",
      "(100, 200)\n"
     ]
    }
   ],
   "source": [
    "# create the input placeholder\n",
    "X = tf.placeholder(dtype=tf.float32, # In placeholder we specify dtype\n",
    "                   shape=[None,784],\n",
    "                   name='X')\n",
    "# create network parameters\n",
    "W = tf.get_variable(name='Weight', # In Variable we specify name\n",
    "                    dtype=tf.float32,\n",
    "                    shape=[784,200],\n",
    "                    initializer=tf.truncated_normal_initializer(stddev=0.01))\n",
    "\n",
    "b = tf.get_variable(name='bias',\n",
    "                    dtype=tf.float32,\n",
    "                    shape=[200],\n",
    "                    initializer = tf.zeros_initializer())\n",
    "\n",
    "# Create matmul node\n",
    "m = tf.matmul(X,W,name='matmul')\n",
    "# Create Add Node\n",
    "m_a = tf.add(m,b,name='add')\n",
    "# Create ReLu node\n",
    "h = tf.nn.relu(m_a,name='reLu')\n",
    "\n",
    "# Add an Op(Operation) to initialize variables\n",
    "init_op = tf.global_variables_initializer()\n",
    "\n",
    "with tf.Session() as ss:\n",
    "    ss.run(init_op)\n",
    "    # create the dictionary:\n",
    "    d = {X:np.random.rand(100,784)}\n",
    "    # feed into placeholder a via the dict\n",
    "    out  = ss.run(h,feed_dict=d)\n",
    "print(out)\n",
    "print(out.shape)\n"
   ]
  },
  {
   "cell_type": "code",
   "execution_count": null,
   "metadata": {},
   "outputs": [],
   "source": []
  }
 ],
 "metadata": {
  "kernelspec": {
   "display_name": "Python 3",
   "language": "python",
   "name": "python3"
  },
  "language_info": {
   "codemirror_mode": {
    "name": "ipython",
    "version": 3
   },
   "file_extension": ".py",
   "mimetype": "text/x-python",
   "name": "python",
   "nbconvert_exporter": "python",
   "pygments_lexer": "ipython3",
   "version": "3.6.5"
  }
 },
 "nbformat": 4,
 "nbformat_minor": 2
}

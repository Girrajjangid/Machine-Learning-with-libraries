{
 "cells": [
  {
   "cell_type": "code",
   "execution_count": 10,
   "metadata": {},
   "outputs": [],
   "source": [
    "from fbprophet import Prophet"
   ]
  },
  {
   "cell_type": "code",
   "execution_count": 11,
   "metadata": {},
   "outputs": [],
   "source": [
    "x = pd.DataFrame()\n",
    "x['ds'] = pd.to_datetime(df['datetime'])\n",
    "x['y'] = df['load']"
   ]
  },
  {
   "cell_type": "code",
   "execution_count": 13,
   "metadata": {},
   "outputs": [
    {
     "data": {
      "text/plain": [
       "<fbprophet.forecaster.Prophet at 0x2062fcdd748>"
      ]
     },
     "execution_count": 13,
     "metadata": {},
     "output_type": "execute_result"
    }
   ],
   "source": [
    "model = Prophet()\n",
    "model.fit(x)"
   ]
  },
  {
   "cell_type": "code",
   "execution_count": null,
   "metadata": {},
   "outputs": [],
   "source": [
    "future   = model.make_future_dataframe(periods = (96*365), freq=\"15min\")\n",
    "forecast = model.predict(future)"
   ]
  },
  {
   "cell_type": "code",
   "execution_count": null,
   "metadata": {},
   "outputs": [],
   "source": [
    "model.plot(forecast)"
   ]
  },
  {
   "cell_type": "code",
   "execution_count": null,
   "metadata": {},
   "outputs": [],
   "source": [
    "plotting = model.plot_components(forecast)"
   ]
  },
  {
   "cell_type": "code",
   "execution_count": null,
   "metadata": {},
   "outputs": [],
   "source": [
    "forecast.yhat"
   ]
  },
  {
   "cell_type": "markdown",
   "metadata": {},
   "source": [
    "##  Cross validation"
   ]
  },
  {
   "cell_type": "code",
   "execution_count": null,
   "metadata": {},
   "outputs": [],
   "source": [
    "import matplotlib.pyplot as plt\n",
    "plt.style.use(\"fivethirtyeight\""
   ]
  },
  {
   "cell_type": "code",
   "execution_count": null,
   "metadata": {},
   "outputs": [],
   "source": [
    "from fbprophet.diagnostics import cross_validation\n",
    "df_cv = cross_validation(model, initial='730 days', period='180 days', horizon = '365 days')\n",
    "df_cv.head()"
   ]
  },
  {
   "cell_type": "code",
   "execution_count": null,
   "metadata": {},
   "outputs": [],
   "source": [
    "from fbprophet.diagnostics import performance_metrics\n",
    "df_p = performance_metrics(df_cv)\n",
    "df_p.head()"
   ]
  },
  {
   "cell_type": "code",
   "execution_count": null,
   "metadata": {},
   "outputs": [],
   "source": [
    "from fbprophet.plot import plot_cross_validation_metric\n",
    "fig = plot_cross_validation_metric(df_cv, metric='rmse')"
   ]
  },
  {
   "cell_type": "code",
   "execution_count": null,
   "metadata": {},
   "outputs": [],
   "source": [
    "holidays = pd.DataFrame({\n",
    "  'holiday': 'Article_Published',\n",
    "  'ds': pd.to_datetime(['2018-07-02', '2018-07-06', '2018-07-08',\n",
    "                        '2018-07-09', '2018-07-12', '2018-07-19', '2018-07-26', '2018-07-31',\n",
    "                        '2018-08-06', '2018-08-15', '2018-07-19', '2018-08-26', '2018-08-31',\n",
    "                        '2018-09-01', '2018-09-04', '2018-09-11', '2018-09-17', '2018-09-23',\n",
    "                        '2018-10-02', '2018-10-09', '2018-10-18', '2018-10-19', '2018-10-26',\n",
    "                        '2018-11-02', '2018-11-08', '2018-11-24', '2018-12-05', '2018-12-13',\n",
    "                        '2018-12-19', '2018-12-24', '2018-12-27', '2019-01-08', '2019-01-11',\n",
    "                        '2019-01-22', '2019-01-24', '2019-01-28', '2019-02-01', '2019-02-04',\n",
    "                        '2019-02-07', '2019-02-12', '2019-02-15', '2019-02-21', '2019-03-03',\n",
    "                        '2019-03-07', '2019-03-12', '2019-03-18', '2019-03-23' ]),\n",
    "  'lower_window': 0,\n",
    "  'upper_window': 5,\n",
    "})"
   ]
  },
  {
   "cell_type": "code",
   "execution_count": null,
   "metadata": {},
   "outputs": [],
   "source": [
    "m2 = Prophet(holidays=articles,daily_seasonality=True).fit(df)\n",
    "future2 = m2.make_future_dataframe(periods=90)\n",
    "forecast2 = m2.predict(future2)\n",
    "m2.plot(forecast2);"
   ]
  },
  {
   "cell_type": "code",
   "execution_count": null,
   "metadata": {},
   "outputs": [],
   "source": []
  }
 ],
 "metadata": {
  "kernelspec": {
   "display_name": "Python 3",
   "language": "python",
   "name": "python3"
  },
  "language_info": {
   "codemirror_mode": {
    "name": "ipython",
    "version": 3
   },
   "file_extension": ".py",
   "mimetype": "text/x-python",
   "name": "python",
   "nbconvert_exporter": "python",
   "pygments_lexer": "ipython3",
   "version": "3.7.6"
  }
 },
 "nbformat": 4,
 "nbformat_minor": 4
}

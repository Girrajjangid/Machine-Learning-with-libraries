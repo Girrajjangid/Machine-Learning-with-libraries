{
 "cells": [
  {
   "cell_type": "code",
   "execution_count": 1,
   "metadata": {},
   "outputs": [],
   "source": [
    "import pandas as pd\n",
    "import numpy as np\n",
    "\n",
    "import matplotlib.pyplot as plt\n",
    "import numpy as np\n",
    "%matplotlib inline"
   ]
  },
  {
   "cell_type": "code",
   "execution_count": 2,
   "metadata": {},
   "outputs": [
    {
     "name": "stdout",
     "output_type": "stream",
     "text": [
      "[48 95 56 49 89 69  3 88 65 49]\n",
      "1    95\n",
      "2    56\n",
      "3    49\n",
      "4    89\n",
      "dtype: int32\n"
     ]
    }
   ],
   "source": [
    "data = np.random.randint(1,100,10)\n",
    "print(data)\n",
    "s = pd.Series(data) # series its like single column dataframe\n",
    "print(s[1:5])  # 1 to 5 index"
   ]
  },
  {
   "cell_type": "code",
   "execution_count": 3,
   "metadata": {},
   "outputs": [
    {
     "name": "stdout",
     "output_type": "stream",
     "text": [
      "DatetimeIndex([          '2018-01-01 00:00:00',\n",
      "               '2018-02-03 04:21:49.090909091',\n",
      "               '2018-03-08 08:43:38.181818182',\n",
      "               '2018-04-10 13:05:27.272727273',\n",
      "               '2018-05-13 17:27:16.363636364',\n",
      "               '2018-06-15 21:49:05.454545456',\n",
      "               '2018-07-19 02:10:54.545454546',\n",
      "               '2018-08-21 06:32:43.636363636',\n",
      "               '2018-09-23 10:54:32.727272728',\n",
      "               '2018-10-26 15:16:21.818181820',\n",
      "               '2018-11-28 19:38:10.909090912',\n",
      "                         '2019-01-01 00:00:00'],\n",
      "              dtype='datetime64[ns]', freq=None)\n",
      "DatetimeIndex(['2018-01-01', '2018-01-02', '2018-01-03', '2018-01-04',\n",
      "               '2018-01-05'],\n",
      "              dtype='datetime64[ns]', freq='D')\n"
     ]
    }
   ],
   "source": [
    "date=pd.date_range('20180101','20190101', periods = 12) # periods divide date in between range if you pass end date also\n",
    "print(date)\n",
    "\n",
    "date=pd.date_range('20180101', periods = 5) # periods divide date in between range if you pass end date also\n",
    "print(date)\n"
   ]
  },
  {
   "cell_type": "code",
   "execution_count": 4,
   "metadata": {},
   "outputs": [
    {
     "data": {
      "text/html": [
       "<div>\n",
       "<style scoped>\n",
       "    .dataframe tbody tr th:only-of-type {\n",
       "        vertical-align: middle;\n",
       "    }\n",
       "\n",
       "    .dataframe tbody tr th {\n",
       "        vertical-align: top;\n",
       "    }\n",
       "\n",
       "    .dataframe thead th {\n",
       "        text-align: right;\n",
       "    }\n",
       "</style>\n",
       "<table border=\"1\" class=\"dataframe\">\n",
       "  <thead>\n",
       "    <tr style=\"text-align: right;\">\n",
       "      <th></th>\n",
       "      <th>0</th>\n",
       "    </tr>\n",
       "  </thead>\n",
       "  <tbody>\n",
       "    <tr>\n",
       "      <th>9</th>\n",
       "      <td>1</td>\n",
       "    </tr>\n",
       "    <tr>\n",
       "      <th>9</th>\n",
       "      <td>2</td>\n",
       "    </tr>\n",
       "    <tr>\n",
       "      <th>9</th>\n",
       "      <td>3</td>\n",
       "    </tr>\n",
       "    <tr>\n",
       "      <th>9</th>\n",
       "      <td>4</td>\n",
       "    </tr>\n",
       "    <tr>\n",
       "      <th>9</th>\n",
       "      <td>5</td>\n",
       "    </tr>\n",
       "    <tr>\n",
       "      <th>9</th>\n",
       "      <td>6</td>\n",
       "    </tr>\n",
       "  </tbody>\n",
       "</table>\n",
       "</div>"
      ],
      "text/plain": [
       "   0\n",
       "9  1\n",
       "9  2\n",
       "9  3\n",
       "9  4\n",
       "9  5\n",
       "9  6"
      ]
     },
     "execution_count": 4,
     "metadata": {},
     "output_type": "execute_result"
    }
   ],
   "source": [
    "#      dataFrame( data , index , columns, dtype , copy ) these are the parameters of function\n",
    "df=pd.DataFrame([1,2,3,4,5,6],[9,9,9,9,9,9])\n",
    "df  # so [9999999] is just a indexes"
   ]
  },
  {
   "cell_type": "code",
   "execution_count": 5,
   "metadata": {},
   "outputs": [
    {
     "data": {
      "text/html": [
       "<div>\n",
       "<style scoped>\n",
       "    .dataframe tbody tr th:only-of-type {\n",
       "        vertical-align: middle;\n",
       "    }\n",
       "\n",
       "    .dataframe tbody tr th {\n",
       "        vertical-align: top;\n",
       "    }\n",
       "\n",
       "    .dataframe thead th {\n",
       "        text-align: right;\n",
       "    }\n",
       "</style>\n",
       "<table border=\"1\" class=\"dataframe\">\n",
       "  <thead>\n",
       "    <tr style=\"text-align: right;\">\n",
       "      <th></th>\n",
       "      <th>0</th>\n",
       "      <th>1</th>\n",
       "      <th>2</th>\n",
       "      <th>3</th>\n",
       "      <th>4</th>\n",
       "      <th>5</th>\n",
       "    </tr>\n",
       "  </thead>\n",
       "  <tbody>\n",
       "    <tr>\n",
       "      <th>0</th>\n",
       "      <td>1</td>\n",
       "      <td>2</td>\n",
       "      <td>3</td>\n",
       "      <td>4</td>\n",
       "      <td>5</td>\n",
       "      <td>6</td>\n",
       "    </tr>\n",
       "    <tr>\n",
       "      <th>1</th>\n",
       "      <td>9</td>\n",
       "      <td>9</td>\n",
       "      <td>9</td>\n",
       "      <td>9</td>\n",
       "      <td>9</td>\n",
       "      <td>9</td>\n",
       "    </tr>\n",
       "  </tbody>\n",
       "</table>\n",
       "</div>"
      ],
      "text/plain": [
       "   0  1  2  3  4  5\n",
       "0  1  2  3  4  5  6\n",
       "1  9  9  9  9  9  9"
      ]
     },
     "execution_count": 5,
     "metadata": {},
     "output_type": "execute_result"
    }
   ],
   "source": [
    "df=pd.DataFrame([[1,2,3,4,5,6],\n",
    "                 [9,9,9,9,9,9]]) # it is 2 rows with 6 columns\n",
    "df  # so [9999999] is just a indexes"
   ]
  },
  {
   "cell_type": "code",
   "execution_count": 6,
   "metadata": {},
   "outputs": [
    {
     "name": "stdout",
     "output_type": "stream",
     "text": [
      "2018-01-01 01:10:50\n"
     ]
    }
   ],
   "source": [
    "import datetime\n",
    "a=datetime.datetime(2018,1,1,1,10,50)\n",
    "print(str(a))"
   ]
  },
  {
   "cell_type": "code",
   "execution_count": 7,
   "metadata": {},
   "outputs": [
    {
     "data": {
      "text/plain": [
       "array([datetime.datetime(2018, 1, 31, 0, 0),\n",
       "       datetime.datetime(2018, 2, 28, 0, 0)], dtype=object)"
      ]
     },
     "execution_count": 7,
     "metadata": {},
     "output_type": "execute_result"
    }
   ],
   "source": [
    "pd.date_range('20180101',freq = 'M', periods=2).to_pydatetime() # to_timestamp()"
   ]
  },
  {
   "cell_type": "code",
   "execution_count": 8,
   "metadata": {},
   "outputs": [
    {
     "data": {
      "text/html": [
       "<div>\n",
       "<style scoped>\n",
       "    .dataframe tbody tr th:only-of-type {\n",
       "        vertical-align: middle;\n",
       "    }\n",
       "\n",
       "    .dataframe tbody tr th {\n",
       "        vertical-align: top;\n",
       "    }\n",
       "\n",
       "    .dataframe thead th {\n",
       "        text-align: right;\n",
       "    }\n",
       "</style>\n",
       "<table border=\"1\" class=\"dataframe\">\n",
       "  <thead>\n",
       "    <tr style=\"text-align: right;\">\n",
       "      <th></th>\n",
       "      <th>Name</th>\n",
       "      <th>Sci</th>\n",
       "      <th>Math</th>\n",
       "      <th>Phy</th>\n",
       "    </tr>\n",
       "  </thead>\n",
       "  <tbody>\n",
       "    <tr>\n",
       "      <th>0</th>\n",
       "      <td>akbar</td>\n",
       "      <td>12</td>\n",
       "      <td>32</td>\n",
       "      <td>13</td>\n",
       "    </tr>\n",
       "    <tr>\n",
       "      <th>1</th>\n",
       "      <td>khan</td>\n",
       "      <td>34</td>\n",
       "      <td>45</td>\n",
       "      <td>45</td>\n",
       "    </tr>\n",
       "    <tr>\n",
       "      <th>2</th>\n",
       "      <td>salman</td>\n",
       "      <td>56</td>\n",
       "      <td>67</td>\n",
       "      <td>56</td>\n",
       "    </tr>\n",
       "    <tr>\n",
       "      <th>3</th>\n",
       "      <td>salim</td>\n",
       "      <td>67</td>\n",
       "      <td>98</td>\n",
       "      <td>89</td>\n",
       "    </tr>\n",
       "  </tbody>\n",
       "</table>\n",
       "</div>"
      ],
      "text/plain": [
       "     Name Sci Math Phy\n",
       "0   akbar  12   32  13\n",
       "1    khan  34   45  45\n",
       "2  salman  56   67  56\n",
       "3   salim  67   98  89"
      ]
     },
     "execution_count": 8,
     "metadata": {},
     "output_type": "execute_result"
    }
   ],
   "source": [
    "name=['akbar','khan','salman','salim']\n",
    "sci=[12,34,56,67]\n",
    "math=[32,45,67,98]\n",
    "phy=[13,45,56,89]\n",
    "data=[name,sci,math,phy]\n",
    "index=['Name','Sci','Math','Phy']\n",
    "df=pd.DataFrame(data,index = index).T\n",
    "df"
   ]
  },
  {
   "cell_type": "code",
   "execution_count": 9,
   "metadata": {},
   "outputs": [
    {
     "data": {
      "text/html": [
       "<div>\n",
       "<style scoped>\n",
       "    .dataframe tbody tr th:only-of-type {\n",
       "        vertical-align: middle;\n",
       "    }\n",
       "\n",
       "    .dataframe tbody tr th {\n",
       "        vertical-align: top;\n",
       "    }\n",
       "\n",
       "    .dataframe thead th {\n",
       "        text-align: right;\n",
       "    }\n",
       "</style>\n",
       "<table border=\"1\" class=\"dataframe\">\n",
       "  <thead>\n",
       "    <tr style=\"text-align: right;\">\n",
       "      <th></th>\n",
       "      <th>c1</th>\n",
       "      <th>c2</th>\n",
       "      <th>c3</th>\n",
       "      <th>c4</th>\n",
       "    </tr>\n",
       "  </thead>\n",
       "  <tbody>\n",
       "    <tr>\n",
       "      <th>2018-01-01</th>\n",
       "      <td>-0.294096</td>\n",
       "      <td>1.224365</td>\n",
       "      <td>0.054232</td>\n",
       "      <td>0.707132</td>\n",
       "    </tr>\n",
       "    <tr>\n",
       "      <th>2018-01-02</th>\n",
       "      <td>-0.148991</td>\n",
       "      <td>-0.148909</td>\n",
       "      <td>-0.281308</td>\n",
       "      <td>0.201389</td>\n",
       "    </tr>\n",
       "    <tr>\n",
       "      <th>2018-01-03</th>\n",
       "      <td>-1.383170</td>\n",
       "      <td>-0.333797</td>\n",
       "      <td>-0.540481</td>\n",
       "      <td>-0.769114</td>\n",
       "    </tr>\n",
       "    <tr>\n",
       "      <th>2018-01-04</th>\n",
       "      <td>1.162379</td>\n",
       "      <td>0.593449</td>\n",
       "      <td>-0.341448</td>\n",
       "      <td>0.442808</td>\n",
       "    </tr>\n",
       "    <tr>\n",
       "      <th>2018-01-05</th>\n",
       "      <td>0.215481</td>\n",
       "      <td>0.145771</td>\n",
       "      <td>0.386906</td>\n",
       "      <td>-0.690127</td>\n",
       "    </tr>\n",
       "    <tr>\n",
       "      <th>2018-01-06</th>\n",
       "      <td>0.582719</td>\n",
       "      <td>0.662431</td>\n",
       "      <td>-0.583362</td>\n",
       "      <td>0.531979</td>\n",
       "    </tr>\n",
       "  </tbody>\n",
       "</table>\n",
       "</div>"
      ],
      "text/plain": [
       "                  c1        c2        c3        c4\n",
       "2018-01-01 -0.294096  1.224365  0.054232  0.707132\n",
       "2018-01-02 -0.148991 -0.148909 -0.281308  0.201389\n",
       "2018-01-03 -1.383170 -0.333797 -0.540481 -0.769114\n",
       "2018-01-04  1.162379  0.593449 -0.341448  0.442808\n",
       "2018-01-05  0.215481  0.145771  0.386906 -0.690127\n",
       "2018-01-06  0.582719  0.662431 -0.583362  0.531979"
      ]
     },
     "execution_count": 9,
     "metadata": {},
     "output_type": "execute_result"
    }
   ],
   "source": [
    "date = pd.date_range('20180101',periods = 6)\n",
    "df   = pd.DataFrame(np.random.randn(6,4),index=date,columns=['c1','c2','c3','c4'])\n",
    "df"
   ]
  },
  {
   "cell_type": "code",
   "execution_count": 10,
   "metadata": {},
   "outputs": [
    {
     "data": {
      "text/html": [
       "<div>\n",
       "<style scoped>\n",
       "    .dataframe tbody tr th:only-of-type {\n",
       "        vertical-align: middle;\n",
       "    }\n",
       "\n",
       "    .dataframe tbody tr th {\n",
       "        vertical-align: top;\n",
       "    }\n",
       "\n",
       "    .dataframe thead th {\n",
       "        text-align: right;\n",
       "    }\n",
       "</style>\n",
       "<table border=\"1\" class=\"dataframe\">\n",
       "  <thead>\n",
       "    <tr style=\"text-align: right;\">\n",
       "      <th></th>\n",
       "      <th>A</th>\n",
       "      <th>B</th>\n",
       "      <th>C</th>\n",
       "      <th>D</th>\n",
       "      <th>E</th>\n",
       "      <th>F</th>\n",
       "      <th>G</th>\n",
       "    </tr>\n",
       "  </thead>\n",
       "  <tbody>\n",
       "    <tr>\n",
       "      <th>0</th>\n",
       "      <td>1</td>\n",
       "      <td>2018-01-01</td>\n",
       "      <td>1.0</td>\n",
       "      <td>3</td>\n",
       "      <td>test</td>\n",
       "      <td>foo</td>\n",
       "      <td>test</td>\n",
       "    </tr>\n",
       "    <tr>\n",
       "      <th>1</th>\n",
       "      <td>1</td>\n",
       "      <td>2018-01-01</td>\n",
       "      <td>1.0</td>\n",
       "      <td>3</td>\n",
       "      <td>train</td>\n",
       "      <td>foo</td>\n",
       "      <td>train</td>\n",
       "    </tr>\n",
       "    <tr>\n",
       "      <th>2</th>\n",
       "      <td>1</td>\n",
       "      <td>2018-01-01</td>\n",
       "      <td>1.0</td>\n",
       "      <td>3</td>\n",
       "      <td>test</td>\n",
       "      <td>foo</td>\n",
       "      <td>test</td>\n",
       "    </tr>\n",
       "    <tr>\n",
       "      <th>3</th>\n",
       "      <td>1</td>\n",
       "      <td>2018-01-01</td>\n",
       "      <td>1.0</td>\n",
       "      <td>3</td>\n",
       "      <td>train</td>\n",
       "      <td>foo</td>\n",
       "      <td>train</td>\n",
       "    </tr>\n",
       "  </tbody>\n",
       "</table>\n",
       "</div>"
      ],
      "text/plain": [
       "   A          B    C  D      E    F      G\n",
       "0  1 2018-01-01  1.0  3   test  foo   test\n",
       "1  1 2018-01-01  1.0  3  train  foo  train\n",
       "2  1 2018-01-01  1.0  3   test  foo   test\n",
       "3  1 2018-01-01  1.0  3  train  foo  train"
      ]
     },
     "execution_count": 10,
     "metadata": {},
     "output_type": "execute_result"
    }
   ],
   "source": [
    "df2 = pd.DataFrame({\n",
    "    'A':1,  # int64\n",
    "    'B':pd.Timestamp('20180101'),\n",
    "    'C':pd.Series(1,index=list(range(4)),dtype='float32'),  # float32\n",
    "    'D':np.array([3]*4,dtype='int32'), # int32\n",
    "    'E':pd.Categorical(['test','train','test','train']),\n",
    "    'F':'foo',\n",
    "    'G':['test','train','test','train']    \n",
    "})\n",
    "df2"
   ]
  },
  {
   "cell_type": "code",
   "execution_count": 11,
   "metadata": {},
   "outputs": [
    {
     "name": "stdout",
     "output_type": "stream",
     "text": [
      "<class 'pandas.core.frame.DataFrame'>\n",
      "Int64Index: 4 entries, 0 to 3\n",
      "Data columns (total 7 columns):\n",
      "A    4 non-null int64\n",
      "B    4 non-null datetime64[ns]\n",
      "C    4 non-null float32\n",
      "D    4 non-null int32\n",
      "E    4 non-null category\n",
      "F    4 non-null object\n",
      "G    4 non-null object\n",
      "dtypes: category(1), datetime64[ns](1), float32(1), int32(1), int64(1), object(2)\n",
      "memory usage: 292.0+ bytes\n"
     ]
    }
   ],
   "source": [
    "df2.info()"
   ]
  },
  {
   "cell_type": "code",
   "execution_count": 12,
   "metadata": {},
   "outputs": [
    {
     "name": "stdout",
     "output_type": "stream",
     "text": [
      "        Username       Date                Password\n",
      "1           John 2018-07-15          john@gmail.com\n",
      "2          Harry 2018-07-16         harry@gmail.com\n",
      "3       Harmaini 2018-07-17      harmaini@gmail.com\n",
      "4  Lord Voldmort 2018-07-18  lordvoldmort@gmail.com\n",
      "\n",
      "Harmaini\n",
      "Harmaini\n"
     ]
    }
   ],
   "source": [
    "df3 = pd.DataFrame({\n",
    "    'Username':['John','Harry','Harmaini','Lord Voldmort'],\n",
    "    'Date':pd.date_range('20180715',periods=4),\n",
    "    'Password':['john@gmail.com','harry@gmail.com','harmaini@gmail.com','lordvoldmort@gmail.com']\n",
    "},index=[1,2,3,4])\n",
    "print(df3)\n",
    "\n",
    "print()\n",
    "print(df3['Username'][3])\n",
    "print(df3.Username[3])"
   ]
  },
  {
   "cell_type": "code",
   "execution_count": 13,
   "metadata": {},
   "outputs": [
    {
     "name": "stdout",
     "output_type": "stream",
     "text": [
      "   0  1  2   3                   4\n",
      "0  1  2  3  45                   5\n",
      "1  1  2  4   5  561234565499998877\n",
      "<class 'pandas.core.frame.DataFrame'>\n",
      "RangeIndex: 2 entries, 0 to 1\n",
      "Data columns (total 5 columns):\n",
      "0    2 non-null int64\n",
      "1    2 non-null int64\n",
      "2    2 non-null int64\n",
      "3    2 non-null int64\n",
      "4    2 non-null int64\n",
      "dtypes: int64(5)\n",
      "memory usage: 160.0 bytes\n"
     ]
    },
    {
     "data": {
      "text/html": [
       "<div>\n",
       "<style scoped>\n",
       "    .dataframe tbody tr th:only-of-type {\n",
       "        vertical-align: middle;\n",
       "    }\n",
       "\n",
       "    .dataframe tbody tr th {\n",
       "        vertical-align: top;\n",
       "    }\n",
       "\n",
       "    .dataframe thead th {\n",
       "        text-align: right;\n",
       "    }\n",
       "</style>\n",
       "<table border=\"1\" class=\"dataframe\">\n",
       "  <thead>\n",
       "    <tr style=\"text-align: right;\">\n",
       "      <th></th>\n",
       "      <th>0</th>\n",
       "      <th>1</th>\n",
       "      <th>2</th>\n",
       "      <th>3</th>\n",
       "      <th>4</th>\n",
       "    </tr>\n",
       "  </thead>\n",
       "  <tbody>\n",
       "    <tr>\n",
       "      <th>0</th>\n",
       "      <td>1</td>\n",
       "      <td>2</td>\n",
       "      <td>3</td>\n",
       "      <td>45</td>\n",
       "      <td>5</td>\n",
       "    </tr>\n",
       "    <tr>\n",
       "      <th>1</th>\n",
       "      <td>1</td>\n",
       "      <td>2</td>\n",
       "      <td>4</td>\n",
       "      <td>5</td>\n",
       "      <td>561234565499998877</td>\n",
       "    </tr>\n",
       "  </tbody>\n",
       "</table>\n",
       "</div>"
      ],
      "text/plain": [
       "   0  1  2   3                   4\n",
       "0  1  2  3  45                   5\n",
       "1  1  2  4   5  561234565499998877"
      ]
     },
     "execution_count": 13,
     "metadata": {},
     "output_type": "execute_result"
    }
   ],
   "source": [
    "df4=pd.DataFrame([[1,2,3,45,5],[1,2,4,5,561234565499998877]])\n",
    "print(df4)\n",
    "df4.dtypes\n",
    "df4.info()\n",
    "df4"
   ]
  },
  {
   "cell_type": "code",
   "execution_count": 14,
   "metadata": {},
   "outputs": [
    {
     "name": "stdout",
     "output_type": "stream",
     "text": [
      "0 1\n"
     ]
    }
   ],
   "source": [
    "print(*(df4.index))# iterator"
   ]
  },
  {
   "cell_type": "code",
   "execution_count": 15,
   "metadata": {},
   "outputs": [
    {
     "data": {
      "text/plain": [
       "RangeIndex(start=0, stop=5, step=1)"
      ]
     },
     "execution_count": 15,
     "metadata": {},
     "output_type": "execute_result"
    }
   ],
   "source": [
    "df4.columns # if columns are in sequence format that it's type is RangeIndex "
   ]
  },
  {
   "cell_type": "code",
   "execution_count": 16,
   "metadata": {},
   "outputs": [
    {
     "data": {
      "text/html": [
       "<div>\n",
       "<style scoped>\n",
       "    .dataframe tbody tr th:only-of-type {\n",
       "        vertical-align: middle;\n",
       "    }\n",
       "\n",
       "    .dataframe tbody tr th {\n",
       "        vertical-align: top;\n",
       "    }\n",
       "\n",
       "    .dataframe thead th {\n",
       "        text-align: right;\n",
       "    }\n",
       "</style>\n",
       "<table border=\"1\" class=\"dataframe\">\n",
       "  <thead>\n",
       "    <tr style=\"text-align: right;\">\n",
       "      <th></th>\n",
       "      <th>0</th>\n",
       "      <th>1</th>\n",
       "      <th>2</th>\n",
       "      <th>3</th>\n",
       "      <th>4</th>\n",
       "    </tr>\n",
       "  </thead>\n",
       "  <tbody>\n",
       "    <tr>\n",
       "      <th>count</th>\n",
       "      <td>2.0</td>\n",
       "      <td>2.0</td>\n",
       "      <td>2.000000</td>\n",
       "      <td>2.000000</td>\n",
       "      <td>2.000000e+00</td>\n",
       "    </tr>\n",
       "    <tr>\n",
       "      <th>mean</th>\n",
       "      <td>1.0</td>\n",
       "      <td>2.0</td>\n",
       "      <td>3.500000</td>\n",
       "      <td>25.000000</td>\n",
       "      <td>2.806173e+17</td>\n",
       "    </tr>\n",
       "    <tr>\n",
       "      <th>std</th>\n",
       "      <td>0.0</td>\n",
       "      <td>0.0</td>\n",
       "      <td>0.707107</td>\n",
       "      <td>28.284271</td>\n",
       "      <td>3.968528e+17</td>\n",
       "    </tr>\n",
       "    <tr>\n",
       "      <th>min</th>\n",
       "      <td>1.0</td>\n",
       "      <td>2.0</td>\n",
       "      <td>3.000000</td>\n",
       "      <td>5.000000</td>\n",
       "      <td>5.000000e+00</td>\n",
       "    </tr>\n",
       "    <tr>\n",
       "      <th>25%</th>\n",
       "      <td>1.0</td>\n",
       "      <td>2.0</td>\n",
       "      <td>3.250000</td>\n",
       "      <td>15.000000</td>\n",
       "      <td>1.403086e+17</td>\n",
       "    </tr>\n",
       "    <tr>\n",
       "      <th>50%</th>\n",
       "      <td>1.0</td>\n",
       "      <td>2.0</td>\n",
       "      <td>3.500000</td>\n",
       "      <td>25.000000</td>\n",
       "      <td>2.806173e+17</td>\n",
       "    </tr>\n",
       "    <tr>\n",
       "      <th>75%</th>\n",
       "      <td>1.0</td>\n",
       "      <td>2.0</td>\n",
       "      <td>3.750000</td>\n",
       "      <td>35.000000</td>\n",
       "      <td>4.209259e+17</td>\n",
       "    </tr>\n",
       "    <tr>\n",
       "      <th>max</th>\n",
       "      <td>1.0</td>\n",
       "      <td>2.0</td>\n",
       "      <td>4.000000</td>\n",
       "      <td>45.000000</td>\n",
       "      <td>5.612346e+17</td>\n",
       "    </tr>\n",
       "  </tbody>\n",
       "</table>\n",
       "</div>"
      ],
      "text/plain": [
       "         0    1         2          3             4\n",
       "count  2.0  2.0  2.000000   2.000000  2.000000e+00\n",
       "mean   1.0  2.0  3.500000  25.000000  2.806173e+17\n",
       "std    0.0  0.0  0.707107  28.284271  3.968528e+17\n",
       "min    1.0  2.0  3.000000   5.000000  5.000000e+00\n",
       "25%    1.0  2.0  3.250000  15.000000  1.403086e+17\n",
       "50%    1.0  2.0  3.500000  25.000000  2.806173e+17\n",
       "75%    1.0  2.0  3.750000  35.000000  4.209259e+17\n",
       "max    1.0  2.0  4.000000  45.000000  5.612346e+17"
      ]
     },
     "execution_count": 16,
     "metadata": {},
     "output_type": "execute_result"
    }
   ],
   "source": [
    "df4.describe()"
   ]
  },
  {
   "cell_type": "code",
   "execution_count": 17,
   "metadata": {},
   "outputs": [
    {
     "data": {
      "text/html": [
       "<div>\n",
       "<style scoped>\n",
       "    .dataframe tbody tr th:only-of-type {\n",
       "        vertical-align: middle;\n",
       "    }\n",
       "\n",
       "    .dataframe tbody tr th {\n",
       "        vertical-align: top;\n",
       "    }\n",
       "\n",
       "    .dataframe thead th {\n",
       "        text-align: right;\n",
       "    }\n",
       "</style>\n",
       "<table border=\"1\" class=\"dataframe\">\n",
       "  <thead>\n",
       "    <tr style=\"text-align: right;\">\n",
       "      <th></th>\n",
       "      <th>1</th>\n",
       "      <th>2</th>\n",
       "      <th>3</th>\n",
       "      <th>4</th>\n",
       "    </tr>\n",
       "  </thead>\n",
       "  <tbody>\n",
       "    <tr>\n",
       "      <th>Username</th>\n",
       "      <td>John</td>\n",
       "      <td>Harry</td>\n",
       "      <td>Harmaini</td>\n",
       "      <td>Lord Voldmort</td>\n",
       "    </tr>\n",
       "    <tr>\n",
       "      <th>Date</th>\n",
       "      <td>2018-07-15 00:00:00</td>\n",
       "      <td>2018-07-16 00:00:00</td>\n",
       "      <td>2018-07-17 00:00:00</td>\n",
       "      <td>2018-07-18 00:00:00</td>\n",
       "    </tr>\n",
       "    <tr>\n",
       "      <th>Password</th>\n",
       "      <td>john@gmail.com</td>\n",
       "      <td>harry@gmail.com</td>\n",
       "      <td>harmaini@gmail.com</td>\n",
       "      <td>lordvoldmort@gmail.com</td>\n",
       "    </tr>\n",
       "  </tbody>\n",
       "</table>\n",
       "</div>"
      ],
      "text/plain": [
       "                            1                    2                    3  \\\n",
       "Username                 John                Harry             Harmaini   \n",
       "Date      2018-07-15 00:00:00  2018-07-16 00:00:00  2018-07-17 00:00:00   \n",
       "Password       john@gmail.com      harry@gmail.com   harmaini@gmail.com   \n",
       "\n",
       "                               4  \n",
       "Username           Lord Voldmort  \n",
       "Date         2018-07-18 00:00:00  \n",
       "Password  lordvoldmort@gmail.com  "
      ]
     },
     "execution_count": 17,
     "metadata": {},
     "output_type": "execute_result"
    }
   ],
   "source": [
    "# Transpose\n",
    "df3.T"
   ]
  },
  {
   "cell_type": "code",
   "execution_count": 18,
   "metadata": {},
   "outputs": [
    {
     "data": {
      "text/html": [
       "<div>\n",
       "<style scoped>\n",
       "    .dataframe tbody tr th:only-of-type {\n",
       "        vertical-align: middle;\n",
       "    }\n",
       "\n",
       "    .dataframe tbody tr th {\n",
       "        vertical-align: top;\n",
       "    }\n",
       "\n",
       "    .dataframe thead th {\n",
       "        text-align: right;\n",
       "    }\n",
       "</style>\n",
       "<table border=\"1\" class=\"dataframe\">\n",
       "  <thead>\n",
       "    <tr style=\"text-align: right;\">\n",
       "      <th></th>\n",
       "      <th>c4</th>\n",
       "      <th>c3</th>\n",
       "      <th>c2</th>\n",
       "      <th>c1</th>\n",
       "    </tr>\n",
       "  </thead>\n",
       "  <tbody>\n",
       "    <tr>\n",
       "      <th>2018-01-01</th>\n",
       "      <td>0.707132</td>\n",
       "      <td>0.054232</td>\n",
       "      <td>1.224365</td>\n",
       "      <td>-0.294096</td>\n",
       "    </tr>\n",
       "    <tr>\n",
       "      <th>2018-01-02</th>\n",
       "      <td>0.201389</td>\n",
       "      <td>-0.281308</td>\n",
       "      <td>-0.148909</td>\n",
       "      <td>-0.148991</td>\n",
       "    </tr>\n",
       "    <tr>\n",
       "      <th>2018-01-03</th>\n",
       "      <td>-0.769114</td>\n",
       "      <td>-0.540481</td>\n",
       "      <td>-0.333797</td>\n",
       "      <td>-1.383170</td>\n",
       "    </tr>\n",
       "    <tr>\n",
       "      <th>2018-01-04</th>\n",
       "      <td>0.442808</td>\n",
       "      <td>-0.341448</td>\n",
       "      <td>0.593449</td>\n",
       "      <td>1.162379</td>\n",
       "    </tr>\n",
       "    <tr>\n",
       "      <th>2018-01-05</th>\n",
       "      <td>-0.690127</td>\n",
       "      <td>0.386906</td>\n",
       "      <td>0.145771</td>\n",
       "      <td>0.215481</td>\n",
       "    </tr>\n",
       "    <tr>\n",
       "      <th>2018-01-06</th>\n",
       "      <td>0.531979</td>\n",
       "      <td>-0.583362</td>\n",
       "      <td>0.662431</td>\n",
       "      <td>0.582719</td>\n",
       "    </tr>\n",
       "  </tbody>\n",
       "</table>\n",
       "</div>"
      ],
      "text/plain": [
       "                  c4        c3        c2        c1\n",
       "2018-01-01  0.707132  0.054232  1.224365 -0.294096\n",
       "2018-01-02  0.201389 -0.281308 -0.148909 -0.148991\n",
       "2018-01-03 -0.769114 -0.540481 -0.333797 -1.383170\n",
       "2018-01-04  0.442808 -0.341448  0.593449  1.162379\n",
       "2018-01-05 -0.690127  0.386906  0.145771  0.215481\n",
       "2018-01-06  0.531979 -0.583362  0.662431  0.582719"
      ]
     },
     "execution_count": 18,
     "metadata": {},
     "output_type": "execute_result"
    }
   ],
   "source": [
    "df.sort_index(axis=1,ascending=False) # axis = 0 row wise sort axis = 1  column vise sort\n",
    "# reverse order sorting\n",
    "# column and index wise sorting"
   ]
  },
  {
   "cell_type": "code",
   "execution_count": 19,
   "metadata": {},
   "outputs": [
    {
     "data": {
      "text/html": [
       "<div>\n",
       "<style scoped>\n",
       "    .dataframe tbody tr th:only-of-type {\n",
       "        vertical-align: middle;\n",
       "    }\n",
       "\n",
       "    .dataframe tbody tr th {\n",
       "        vertical-align: top;\n",
       "    }\n",
       "\n",
       "    .dataframe thead th {\n",
       "        text-align: right;\n",
       "    }\n",
       "</style>\n",
       "<table border=\"1\" class=\"dataframe\">\n",
       "  <thead>\n",
       "    <tr style=\"text-align: right;\">\n",
       "      <th></th>\n",
       "      <th>c1</th>\n",
       "      <th>c2</th>\n",
       "      <th>c3</th>\n",
       "      <th>c4</th>\n",
       "    </tr>\n",
       "  </thead>\n",
       "  <tbody>\n",
       "    <tr>\n",
       "      <th>2018-01-06</th>\n",
       "      <td>0.582719</td>\n",
       "      <td>0.662431</td>\n",
       "      <td>-0.583362</td>\n",
       "      <td>0.531979</td>\n",
       "    </tr>\n",
       "    <tr>\n",
       "      <th>2018-01-03</th>\n",
       "      <td>-1.383170</td>\n",
       "      <td>-0.333797</td>\n",
       "      <td>-0.540481</td>\n",
       "      <td>-0.769114</td>\n",
       "    </tr>\n",
       "    <tr>\n",
       "      <th>2018-01-04</th>\n",
       "      <td>1.162379</td>\n",
       "      <td>0.593449</td>\n",
       "      <td>-0.341448</td>\n",
       "      <td>0.442808</td>\n",
       "    </tr>\n",
       "    <tr>\n",
       "      <th>2018-01-02</th>\n",
       "      <td>-0.148991</td>\n",
       "      <td>-0.148909</td>\n",
       "      <td>-0.281308</td>\n",
       "      <td>0.201389</td>\n",
       "    </tr>\n",
       "    <tr>\n",
       "      <th>2018-01-01</th>\n",
       "      <td>-0.294096</td>\n",
       "      <td>1.224365</td>\n",
       "      <td>0.054232</td>\n",
       "      <td>0.707132</td>\n",
       "    </tr>\n",
       "    <tr>\n",
       "      <th>2018-01-05</th>\n",
       "      <td>0.215481</td>\n",
       "      <td>0.145771</td>\n",
       "      <td>0.386906</td>\n",
       "      <td>-0.690127</td>\n",
       "    </tr>\n",
       "  </tbody>\n",
       "</table>\n",
       "</div>"
      ],
      "text/plain": [
       "                  c1        c2        c3        c4\n",
       "2018-01-06  0.582719  0.662431 -0.583362  0.531979\n",
       "2018-01-03 -1.383170 -0.333797 -0.540481 -0.769114\n",
       "2018-01-04  1.162379  0.593449 -0.341448  0.442808\n",
       "2018-01-02 -0.148991 -0.148909 -0.281308  0.201389\n",
       "2018-01-01 -0.294096  1.224365  0.054232  0.707132\n",
       "2018-01-05  0.215481  0.145771  0.386906 -0.690127"
      ]
     },
     "execution_count": 19,
     "metadata": {},
     "output_type": "execute_result"
    }
   ],
   "source": [
    "df.sort_values('c3')\n",
    "# values wise sorting"
   ]
  },
  {
   "cell_type": "code",
   "execution_count": 20,
   "metadata": {},
   "outputs": [
    {
     "data": {
      "text/html": [
       "<div>\n",
       "<style scoped>\n",
       "    .dataframe tbody tr th:only-of-type {\n",
       "        vertical-align: middle;\n",
       "    }\n",
       "\n",
       "    .dataframe tbody tr th {\n",
       "        vertical-align: top;\n",
       "    }\n",
       "\n",
       "    .dataframe thead th {\n",
       "        text-align: right;\n",
       "    }\n",
       "</style>\n",
       "<table border=\"1\" class=\"dataframe\">\n",
       "  <thead>\n",
       "    <tr style=\"text-align: right;\">\n",
       "      <th></th>\n",
       "      <th>Username</th>\n",
       "      <th>Date</th>\n",
       "      <th>Password</th>\n",
       "    </tr>\n",
       "  </thead>\n",
       "  <tbody>\n",
       "    <tr>\n",
       "      <th>1</th>\n",
       "      <td>John</td>\n",
       "      <td>2018-07-15</td>\n",
       "      <td>john@gmail.com</td>\n",
       "    </tr>\n",
       "    <tr>\n",
       "      <th>2</th>\n",
       "      <td>Harry</td>\n",
       "      <td>2018-07-16</td>\n",
       "      <td>harry@gmail.com</td>\n",
       "    </tr>\n",
       "    <tr>\n",
       "      <th>3</th>\n",
       "      <td>Harmaini</td>\n",
       "      <td>2018-07-17</td>\n",
       "      <td>harmaini@gmail.com</td>\n",
       "    </tr>\n",
       "    <tr>\n",
       "      <th>4</th>\n",
       "      <td>Lord Voldmort</td>\n",
       "      <td>2018-07-18</td>\n",
       "      <td>lordvoldmort@gmail.com</td>\n",
       "    </tr>\n",
       "  </tbody>\n",
       "</table>\n",
       "</div>"
      ],
      "text/plain": [
       "        Username       Date                Password\n",
       "1           John 2018-07-15          john@gmail.com\n",
       "2          Harry 2018-07-16         harry@gmail.com\n",
       "3       Harmaini 2018-07-17      harmaini@gmail.com\n",
       "4  Lord Voldmort 2018-07-18  lordvoldmort@gmail.com"
      ]
     },
     "execution_count": 20,
     "metadata": {},
     "output_type": "execute_result"
    }
   ],
   "source": [
    "df3"
   ]
  },
  {
   "cell_type": "code",
   "execution_count": 21,
   "metadata": {},
   "outputs": [
    {
     "data": {
      "text/html": [
       "<div>\n",
       "<style scoped>\n",
       "    .dataframe tbody tr th:only-of-type {\n",
       "        vertical-align: middle;\n",
       "    }\n",
       "\n",
       "    .dataframe tbody tr th {\n",
       "        vertical-align: top;\n",
       "    }\n",
       "\n",
       "    .dataframe thead th {\n",
       "        text-align: right;\n",
       "    }\n",
       "</style>\n",
       "<table border=\"1\" class=\"dataframe\">\n",
       "  <thead>\n",
       "    <tr style=\"text-align: right;\">\n",
       "      <th></th>\n",
       "      <th>Username</th>\n",
       "      <th>Date</th>\n",
       "      <th>Password</th>\n",
       "    </tr>\n",
       "  </thead>\n",
       "  <tbody>\n",
       "    <tr>\n",
       "      <th>1</th>\n",
       "      <td>John</td>\n",
       "      <td>2018-07-15</td>\n",
       "      <td>john@gmail.com</td>\n",
       "    </tr>\n",
       "    <tr>\n",
       "      <th>2</th>\n",
       "      <td>Harry</td>\n",
       "      <td>2018-07-16</td>\n",
       "      <td>harry@gmail.com</td>\n",
       "    </tr>\n",
       "  </tbody>\n",
       "</table>\n",
       "</div>"
      ],
      "text/plain": [
       "  Username       Date         Password\n",
       "1     John 2018-07-15   john@gmail.com\n",
       "2    Harry 2018-07-16  harry@gmail.com"
      ]
     },
     "execution_count": 21,
     "metadata": {},
     "output_type": "execute_result"
    }
   ],
   "source": [
    "df3[0:2] # accessing rows"
   ]
  },
  {
   "cell_type": "code",
   "execution_count": 22,
   "metadata": {},
   "outputs": [
    {
     "data": {
      "text/html": [
       "<div>\n",
       "<style scoped>\n",
       "    .dataframe tbody tr th:only-of-type {\n",
       "        vertical-align: middle;\n",
       "    }\n",
       "\n",
       "    .dataframe tbody tr th {\n",
       "        vertical-align: top;\n",
       "    }\n",
       "\n",
       "    .dataframe thead th {\n",
       "        text-align: right;\n",
       "    }\n",
       "</style>\n",
       "<table border=\"1\" class=\"dataframe\">\n",
       "  <thead>\n",
       "    <tr style=\"text-align: right;\">\n",
       "      <th></th>\n",
       "      <th>Date</th>\n",
       "      <th>Password</th>\n",
       "    </tr>\n",
       "  </thead>\n",
       "  <tbody>\n",
       "    <tr>\n",
       "      <th>1</th>\n",
       "      <td>2018-07-15</td>\n",
       "      <td>john@gmail.com</td>\n",
       "    </tr>\n",
       "    <tr>\n",
       "      <th>2</th>\n",
       "      <td>2018-07-16</td>\n",
       "      <td>harry@gmail.com</td>\n",
       "    </tr>\n",
       "    <tr>\n",
       "      <th>3</th>\n",
       "      <td>2018-07-17</td>\n",
       "      <td>harmaini@gmail.com</td>\n",
       "    </tr>\n",
       "    <tr>\n",
       "      <th>4</th>\n",
       "      <td>2018-07-18</td>\n",
       "      <td>lordvoldmort@gmail.com</td>\n",
       "    </tr>\n",
       "  </tbody>\n",
       "</table>\n",
       "</div>"
      ],
      "text/plain": [
       "        Date                Password\n",
       "1 2018-07-15          john@gmail.com\n",
       "2 2018-07-16         harry@gmail.com\n",
       "3 2018-07-17      harmaini@gmail.com\n",
       "4 2018-07-18  lordvoldmort@gmail.com"
      ]
     },
     "execution_count": 22,
     "metadata": {},
     "output_type": "execute_result"
    }
   ],
   "source": [
    "# for getting cross section using a label\n",
    "df3.loc[1:4,['Date','Password']]"
   ]
  },
  {
   "cell_type": "code",
   "execution_count": 23,
   "metadata": {},
   "outputs": [
    {
     "data": {
      "text/html": [
       "<div>\n",
       "<style scoped>\n",
       "    .dataframe tbody tr th:only-of-type {\n",
       "        vertical-align: middle;\n",
       "    }\n",
       "\n",
       "    .dataframe tbody tr th {\n",
       "        vertical-align: top;\n",
       "    }\n",
       "\n",
       "    .dataframe thead th {\n",
       "        text-align: right;\n",
       "    }\n",
       "</style>\n",
       "<table border=\"1\" class=\"dataframe\">\n",
       "  <thead>\n",
       "    <tr style=\"text-align: right;\">\n",
       "      <th></th>\n",
       "      <th>Username</th>\n",
       "      <th>Date</th>\n",
       "      <th>Password</th>\n",
       "    </tr>\n",
       "  </thead>\n",
       "  <tbody>\n",
       "    <tr>\n",
       "      <th>2</th>\n",
       "      <td>Harry</td>\n",
       "      <td>2018-07-16</td>\n",
       "      <td>harry@gmail.com</td>\n",
       "    </tr>\n",
       "    <tr>\n",
       "      <th>3</th>\n",
       "      <td>Harmaini</td>\n",
       "      <td>2018-07-17</td>\n",
       "      <td>harmaini@gmail.com</td>\n",
       "    </tr>\n",
       "  </tbody>\n",
       "</table>\n",
       "</div>"
      ],
      "text/plain": [
       "   Username       Date            Password\n",
       "2     Harry 2018-07-16     harry@gmail.com\n",
       "3  Harmaini 2018-07-17  harmaini@gmail.com"
      ]
     },
     "execution_count": 23,
     "metadata": {},
     "output_type": "execute_result"
    }
   ],
   "source": [
    "df3.loc[2:3]"
   ]
  },
  {
   "cell_type": "code",
   "execution_count": 24,
   "metadata": {},
   "outputs": [
    {
     "data": {
      "text/plain": [
       "'John'"
      ]
     },
     "execution_count": 24,
     "metadata": {},
     "output_type": "execute_result"
    }
   ],
   "source": [
    "df3.at[1,'Username'] # access single value only"
   ]
  },
  {
   "cell_type": "code",
   "execution_count": 25,
   "metadata": {},
   "outputs": [
    {
     "name": "stdout",
     "output_type": "stream",
     "text": [
      "        Username       Date                Password\n",
      "1           John 2018-07-15          john@gmail.com\n",
      "2          Harry 2018-07-16         harry@gmail.com\n",
      "3       Harmaini 2018-07-17      harmaini@gmail.com\n",
      "4  Lord Voldmort 2018-07-18  lordvoldmort@gmail.com\n"
     ]
    },
    {
     "data": {
      "text/html": [
       "<div>\n",
       "<style scoped>\n",
       "    .dataframe tbody tr th:only-of-type {\n",
       "        vertical-align: middle;\n",
       "    }\n",
       "\n",
       "    .dataframe tbody tr th {\n",
       "        vertical-align: top;\n",
       "    }\n",
       "\n",
       "    .dataframe thead th {\n",
       "        text-align: right;\n",
       "    }\n",
       "</style>\n",
       "<table border=\"1\" class=\"dataframe\">\n",
       "  <thead>\n",
       "    <tr style=\"text-align: right;\">\n",
       "      <th></th>\n",
       "      <th>Username</th>\n",
       "      <th>Password</th>\n",
       "    </tr>\n",
       "  </thead>\n",
       "  <tbody>\n",
       "    <tr>\n",
       "      <th>1</th>\n",
       "      <td>John</td>\n",
       "      <td>john@gmail.com</td>\n",
       "    </tr>\n",
       "    <tr>\n",
       "      <th>2</th>\n",
       "      <td>Harry</td>\n",
       "      <td>harry@gmail.com</td>\n",
       "    </tr>\n",
       "    <tr>\n",
       "      <th>3</th>\n",
       "      <td>Harmaini</td>\n",
       "      <td>harmaini@gmail.com</td>\n",
       "    </tr>\n",
       "  </tbody>\n",
       "</table>\n",
       "</div>"
      ],
      "text/plain": [
       "   Username            Password\n",
       "1      John      john@gmail.com\n",
       "2     Harry     harry@gmail.com\n",
       "3  Harmaini  harmaini@gmail.com"
      ]
     },
     "execution_count": 25,
     "metadata": {},
     "output_type": "execute_result"
    }
   ],
   "source": [
    "print(df3)\n",
    "df3.iloc[0:3,[0,2]]  \n",
    "# iloc means index wise accessing"
   ]
  },
  {
   "cell_type": "code",
   "execution_count": 26,
   "metadata": {},
   "outputs": [
    {
     "name": "stdout",
     "output_type": "stream",
     "text": [
      "        Username       Date                Password\n",
      "1           John 2018-07-15          john@gmail.com\n",
      "2          Harry 2018-07-16         harry@gmail.com\n",
      "3       Harmaini 2018-07-17      harmaini@gmail.com\n",
      "4  Lord Voldmort 2018-07-18  lordvoldmort@gmail.com\n",
      "harmaini@gmail.com\n",
      "Harry\n"
     ]
    }
   ],
   "source": [
    "print(df3)\n",
    "print(df3.iat[2,2])         # work like indices\n",
    "print(df3.at[2,'Username']) # access single value only "
   ]
  },
  {
   "cell_type": "code",
   "execution_count": 27,
   "metadata": {},
   "outputs": [],
   "source": [
    "df5=df3.copy() # new space in memory for df5"
   ]
  },
  {
   "cell_type": "code",
   "execution_count": 28,
   "metadata": {},
   "outputs": [],
   "source": [
    "df5['Percent']=[50,30,25,99]"
   ]
  },
  {
   "cell_type": "code",
   "execution_count": 29,
   "metadata": {},
   "outputs": [
    {
     "data": {
      "text/plain": [
       "<matplotlib.axes._subplots.AxesSubplot at 0x17a4e58ac18>"
      ]
     },
     "execution_count": 29,
     "metadata": {},
     "output_type": "execute_result"
    },
    {
     "data": {
      "image/png": "[encoded data removed]",
      "text/plain": [
       "<Figure size 432x288 with 1 Axes>"
      ]
     },
     "metadata": {
      "needs_background": "light"
     },
     "output_type": "display_data"
    }
   ],
   "source": [
    "df5.Percent.plot(kind='bar')"
   ]
  },
  {
   "cell_type": "code",
   "execution_count": 30,
   "metadata": {},
   "outputs": [],
   "source": [
    "d={  # columns: [row1,row2,row3....]\n",
    "    'Name':['kabira','Das','Salman','Aamir','Khali'],\n",
    "    'Height':[5.8,5.6,5.2,6.0,9.8],\n",
    "    'Weight':[70,80,60,40,30],\n",
    "    'DOB':['01-01-1999','02-12-1998','01-01-1989','02-12-1988','23-11-1992']\n",
    "}\n",
    "df=pd.DataFrame(d,index=[1,2,3,4,5])"
   ]
  },
  {
   "cell_type": "code",
   "execution_count": 31,
   "metadata": {},
   "outputs": [
    {
     "data": {
      "text/html": [
       "<div>\n",
       "<style scoped>\n",
       "    .dataframe tbody tr th:only-of-type {\n",
       "        vertical-align: middle;\n",
       "    }\n",
       "\n",
       "    .dataframe tbody tr th {\n",
       "        vertical-align: top;\n",
       "    }\n",
       "\n",
       "    .dataframe thead th {\n",
       "        text-align: right;\n",
       "    }\n",
       "</style>\n",
       "<table border=\"1\" class=\"dataframe\">\n",
       "  <thead>\n",
       "    <tr style=\"text-align: right;\">\n",
       "      <th></th>\n",
       "      <th>Name</th>\n",
       "      <th>Height</th>\n",
       "      <th>Weight</th>\n",
       "      <th>DOB</th>\n",
       "    </tr>\n",
       "  </thead>\n",
       "  <tbody>\n",
       "    <tr>\n",
       "      <th>1</th>\n",
       "      <td>kabira</td>\n",
       "      <td>5.8</td>\n",
       "      <td>70</td>\n",
       "      <td>01-01-1999</td>\n",
       "    </tr>\n",
       "    <tr>\n",
       "      <th>2</th>\n",
       "      <td>Das</td>\n",
       "      <td>5.6</td>\n",
       "      <td>80</td>\n",
       "      <td>02-12-1998</td>\n",
       "    </tr>\n",
       "    <tr>\n",
       "      <th>3</th>\n",
       "      <td>Salman</td>\n",
       "      <td>5.2</td>\n",
       "      <td>60</td>\n",
       "      <td>01-01-1989</td>\n",
       "    </tr>\n",
       "    <tr>\n",
       "      <th>4</th>\n",
       "      <td>Aamir</td>\n",
       "      <td>6.0</td>\n",
       "      <td>40</td>\n",
       "      <td>02-12-1988</td>\n",
       "    </tr>\n",
       "    <tr>\n",
       "      <th>5</th>\n",
       "      <td>Khali</td>\n",
       "      <td>9.8</td>\n",
       "      <td>30</td>\n",
       "      <td>23-11-1992</td>\n",
       "    </tr>\n",
       "  </tbody>\n",
       "</table>\n",
       "</div>"
      ],
      "text/plain": [
       "     Name  Height  Weight         DOB\n",
       "1  kabira     5.8      70  01-01-1999\n",
       "2     Das     5.6      80  02-12-1998\n",
       "3  Salman     5.2      60  01-01-1989\n",
       "4   Aamir     6.0      40  02-12-1988\n",
       "5   Khali     9.8      30  23-11-1992"
      ]
     },
     "execution_count": 31,
     "metadata": {},
     "output_type": "execute_result"
    }
   ],
   "source": [
    "df"
   ]
  },
  {
   "cell_type": "code",
   "execution_count": 32,
   "metadata": {},
   "outputs": [
    {
     "data": {
      "text/html": [
       "<div>\n",
       "<style scoped>\n",
       "    .dataframe tbody tr th:only-of-type {\n",
       "        vertical-align: middle;\n",
       "    }\n",
       "\n",
       "    .dataframe tbody tr th {\n",
       "        vertical-align: top;\n",
       "    }\n",
       "\n",
       "    .dataframe thead th {\n",
       "        text-align: right;\n",
       "    }\n",
       "</style>\n",
       "<table border=\"1\" class=\"dataframe\">\n",
       "  <thead>\n",
       "    <tr style=\"text-align: right;\">\n",
       "      <th></th>\n",
       "      <th>Name</th>\n",
       "      <th>Height</th>\n",
       "      <th>Weight</th>\n",
       "      <th>DOB</th>\n",
       "      <th>Salary</th>\n",
       "    </tr>\n",
       "  </thead>\n",
       "  <tbody>\n",
       "    <tr>\n",
       "      <th>1</th>\n",
       "      <td>kabira</td>\n",
       "      <td>5.8</td>\n",
       "      <td>70</td>\n",
       "      <td>01-01-1999</td>\n",
       "      <td>19000</td>\n",
       "    </tr>\n",
       "    <tr>\n",
       "      <th>2</th>\n",
       "      <td>Das</td>\n",
       "      <td>5.6</td>\n",
       "      <td>80</td>\n",
       "      <td>02-12-1998</td>\n",
       "      <td>20000</td>\n",
       "    </tr>\n",
       "    <tr>\n",
       "      <th>3</th>\n",
       "      <td>Salman</td>\n",
       "      <td>5.2</td>\n",
       "      <td>60</td>\n",
       "      <td>01-01-1989</td>\n",
       "      <td>29000</td>\n",
       "    </tr>\n",
       "    <tr>\n",
       "      <th>4</th>\n",
       "      <td>Aamir</td>\n",
       "      <td>6.0</td>\n",
       "      <td>40</td>\n",
       "      <td>02-12-1988</td>\n",
       "      <td>30000</td>\n",
       "    </tr>\n",
       "    <tr>\n",
       "      <th>5</th>\n",
       "      <td>Khali</td>\n",
       "      <td>9.8</td>\n",
       "      <td>30</td>\n",
       "      <td>23-11-1992</td>\n",
       "      <td>26000</td>\n",
       "    </tr>\n",
       "  </tbody>\n",
       "</table>\n",
       "</div>"
      ],
      "text/plain": [
       "     Name  Height  Weight         DOB  Salary\n",
       "1  kabira     5.8      70  01-01-1999   19000\n",
       "2     Das     5.6      80  02-12-1998   20000\n",
       "3  Salman     5.2      60  01-01-1989   29000\n",
       "4   Aamir     6.0      40  02-12-1988   30000\n",
       "5   Khali     9.8      30  23-11-1992   26000"
      ]
     },
     "execution_count": 32,
     "metadata": {},
     "output_type": "execute_result"
    }
   ],
   "source": [
    "df['Salary']=[19000,20000,29000,30000,26000] # adding new column\n",
    "df # it is extention of dictionary"
   ]
  },
  {
   "cell_type": "code",
   "execution_count": 33,
   "metadata": {},
   "outputs": [
    {
     "data": {
      "text/html": [
       "<div>\n",
       "<style scoped>\n",
       "    .dataframe tbody tr th:only-of-type {\n",
       "        vertical-align: middle;\n",
       "    }\n",
       "\n",
       "    .dataframe tbody tr th {\n",
       "        vertical-align: top;\n",
       "    }\n",
       "\n",
       "    .dataframe thead th {\n",
       "        text-align: right;\n",
       "    }\n",
       "</style>\n",
       "<table border=\"1\" class=\"dataframe\">\n",
       "  <thead>\n",
       "    <tr style=\"text-align: right;\">\n",
       "      <th></th>\n",
       "      <th>Name</th>\n",
       "      <th>Height</th>\n",
       "      <th>Weight</th>\n",
       "      <th>DOB</th>\n",
       "      <th>Salary</th>\n",
       "    </tr>\n",
       "  </thead>\n",
       "  <tbody>\n",
       "    <tr>\n",
       "      <th>1</th>\n",
       "      <td>kabira</td>\n",
       "      <td>6.0</td>\n",
       "      <td>70</td>\n",
       "      <td>01-01-1999</td>\n",
       "      <td>19000</td>\n",
       "    </tr>\n",
       "    <tr>\n",
       "      <th>2</th>\n",
       "      <td>Das</td>\n",
       "      <td>5.8</td>\n",
       "      <td>80</td>\n",
       "      <td>02-12-1998</td>\n",
       "      <td>20000</td>\n",
       "    </tr>\n",
       "    <tr>\n",
       "      <th>3</th>\n",
       "      <td>Salman</td>\n",
       "      <td>5.4</td>\n",
       "      <td>60</td>\n",
       "      <td>01-01-1989</td>\n",
       "      <td>29000</td>\n",
       "    </tr>\n",
       "    <tr>\n",
       "      <th>4</th>\n",
       "      <td>Aamir</td>\n",
       "      <td>6.2</td>\n",
       "      <td>40</td>\n",
       "      <td>02-12-1988</td>\n",
       "      <td>30000</td>\n",
       "    </tr>\n",
       "    <tr>\n",
       "      <th>5</th>\n",
       "      <td>Khali</td>\n",
       "      <td>10.0</td>\n",
       "      <td>30</td>\n",
       "      <td>23-11-1992</td>\n",
       "      <td>26000</td>\n",
       "    </tr>\n",
       "  </tbody>\n",
       "</table>\n",
       "</div>"
      ],
      "text/plain": [
       "     Name  Height  Weight         DOB  Salary\n",
       "1  kabira     6.0      70  01-01-1999   19000\n",
       "2     Das     5.8      80  02-12-1998   20000\n",
       "3  Salman     5.4      60  01-01-1989   29000\n",
       "4   Aamir     6.2      40  02-12-1988   30000\n",
       "5   Khali    10.0      30  23-11-1992   26000"
      ]
     },
     "execution_count": 33,
     "metadata": {},
     "output_type": "execute_result"
    }
   ],
   "source": [
    "df.Height +=0.2\n",
    "df"
   ]
  },
  {
   "cell_type": "code",
   "execution_count": 34,
   "metadata": {},
   "outputs": [],
   "source": [
    "df2 = df.copy()"
   ]
  },
  {
   "cell_type": "code",
   "execution_count": 35,
   "metadata": {},
   "outputs": [
    {
     "data": {
      "text/html": [
       "<div>\n",
       "<style scoped>\n",
       "    .dataframe tbody tr th:only-of-type {\n",
       "        vertical-align: middle;\n",
       "    }\n",
       "\n",
       "    .dataframe tbody tr th {\n",
       "        vertical-align: top;\n",
       "    }\n",
       "\n",
       "    .dataframe thead th {\n",
       "        text-align: right;\n",
       "    }\n",
       "</style>\n",
       "<table border=\"1\" class=\"dataframe\">\n",
       "  <thead>\n",
       "    <tr style=\"text-align: right;\">\n",
       "      <th></th>\n",
       "      <th>Name</th>\n",
       "      <th>Height</th>\n",
       "      <th>Weight</th>\n",
       "      <th>DOB</th>\n",
       "      <th>Salary</th>\n",
       "    </tr>\n",
       "  </thead>\n",
       "  <tbody>\n",
       "    <tr>\n",
       "      <th>1</th>\n",
       "      <td>kabira</td>\n",
       "      <td>6.0</td>\n",
       "      <td>70</td>\n",
       "      <td>01-01-1999</td>\n",
       "      <td>19000</td>\n",
       "    </tr>\n",
       "    <tr>\n",
       "      <th>2</th>\n",
       "      <td>Das</td>\n",
       "      <td>5.8</td>\n",
       "      <td>80</td>\n",
       "      <td>02-12-1998</td>\n",
       "      <td>20000</td>\n",
       "    </tr>\n",
       "    <tr>\n",
       "      <th>3</th>\n",
       "      <td>Salman</td>\n",
       "      <td>5.4</td>\n",
       "      <td>60</td>\n",
       "      <td>01-01-1989</td>\n",
       "      <td>29000</td>\n",
       "    </tr>\n",
       "    <tr>\n",
       "      <th>4</th>\n",
       "      <td>Aamir</td>\n",
       "      <td>6.2</td>\n",
       "      <td>40</td>\n",
       "      <td>02-12-1988</td>\n",
       "      <td>30000</td>\n",
       "    </tr>\n",
       "    <tr>\n",
       "      <th>5</th>\n",
       "      <td>Khali</td>\n",
       "      <td>10.0</td>\n",
       "      <td>30</td>\n",
       "      <td>23-11-1992</td>\n",
       "      <td>26000</td>\n",
       "    </tr>\n",
       "  </tbody>\n",
       "</table>\n",
       "</div>"
      ],
      "text/plain": [
       "     Name  Height  Weight         DOB  Salary\n",
       "1  kabira     6.0      70  01-01-1999   19000\n",
       "2     Das     5.8      80  02-12-1998   20000\n",
       "3  Salman     5.4      60  01-01-1989   29000\n",
       "4   Aamir     6.2      40  02-12-1988   30000\n",
       "5   Khali    10.0      30  23-11-1992   26000"
      ]
     },
     "execution_count": 35,
     "metadata": {},
     "output_type": "execute_result"
    }
   ],
   "source": [
    "df2"
   ]
  },
  {
   "cell_type": "code",
   "execution_count": 36,
   "metadata": {},
   "outputs": [
    {
     "data": {
      "text/plain": [
       "6.6800000000000015"
      ]
     },
     "execution_count": 36,
     "metadata": {},
     "output_type": "execute_result"
    }
   ],
   "source": [
    "df['Height'].mean()"
   ]
  },
  {
   "cell_type": "code",
   "execution_count": 37,
   "metadata": {},
   "outputs": [
    {
     "data": {
      "text/html": [
       "<div>\n",
       "<style scoped>\n",
       "    .dataframe tbody tr th:only-of-type {\n",
       "        vertical-align: middle;\n",
       "    }\n",
       "\n",
       "    .dataframe tbody tr th {\n",
       "        vertical-align: top;\n",
       "    }\n",
       "\n",
       "    .dataframe thead th {\n",
       "        text-align: right;\n",
       "    }\n",
       "</style>\n",
       "<table border=\"1\" class=\"dataframe\">\n",
       "  <thead>\n",
       "    <tr style=\"text-align: right;\">\n",
       "      <th></th>\n",
       "      <th>Name</th>\n",
       "      <th>Height</th>\n",
       "      <th>Weight</th>\n",
       "      <th>DOB</th>\n",
       "      <th>Salary</th>\n",
       "    </tr>\n",
       "  </thead>\n",
       "  <tbody>\n",
       "    <tr>\n",
       "      <th>1</th>\n",
       "      <td>kabira</td>\n",
       "      <td>6.0</td>\n",
       "      <td>70</td>\n",
       "      <td>01-01-1999</td>\n",
       "      <td>19000</td>\n",
       "    </tr>\n",
       "    <tr>\n",
       "      <th>2</th>\n",
       "      <td>Das</td>\n",
       "      <td>5.8</td>\n",
       "      <td>80</td>\n",
       "      <td>02-12-1998</td>\n",
       "      <td>20000</td>\n",
       "    </tr>\n",
       "    <tr>\n",
       "      <th>3</th>\n",
       "      <td>Salman</td>\n",
       "      <td>5.4</td>\n",
       "      <td>60</td>\n",
       "      <td>01-01-1989</td>\n",
       "      <td>29000</td>\n",
       "    </tr>\n",
       "    <tr>\n",
       "      <th>4</th>\n",
       "      <td>Aamir</td>\n",
       "      <td>6.2</td>\n",
       "      <td>40</td>\n",
       "      <td>02-12-1988</td>\n",
       "      <td>30000</td>\n",
       "    </tr>\n",
       "    <tr>\n",
       "      <th>5</th>\n",
       "      <td>Khali</td>\n",
       "      <td>10.0</td>\n",
       "      <td>30</td>\n",
       "      <td>23-11-1992</td>\n",
       "      <td>26000</td>\n",
       "    </tr>\n",
       "  </tbody>\n",
       "</table>\n",
       "</div>"
      ],
      "text/plain": [
       "     Name  Height  Weight         DOB  Salary\n",
       "1  kabira     6.0      70  01-01-1999   19000\n",
       "2     Das     5.8      80  02-12-1998   20000\n",
       "3  Salman     5.4      60  01-01-1989   29000\n",
       "4   Aamir     6.2      40  02-12-1988   30000\n",
       "5   Khali    10.0      30  23-11-1992   26000"
      ]
     },
     "execution_count": 37,
     "metadata": {},
     "output_type": "execute_result"
    }
   ],
   "source": [
    "df"
   ]
  },
  {
   "cell_type": "code",
   "execution_count": 38,
   "metadata": {},
   "outputs": [
    {
     "data": {
      "text/plain": [
       "Int64Index([1, 2], dtype='int64')"
      ]
     },
     "execution_count": 38,
     "metadata": {},
     "output_type": "execute_result"
    }
   ],
   "source": [
    "df[df['Weight'].isin([70,80])].index"
   ]
  },
  {
   "cell_type": "code",
   "execution_count": 39,
   "metadata": {},
   "outputs": [
    {
     "data": {
      "text/html": [
       "<div>\n",
       "<style scoped>\n",
       "    .dataframe tbody tr th:only-of-type {\n",
       "        vertical-align: middle;\n",
       "    }\n",
       "\n",
       "    .dataframe tbody tr th {\n",
       "        vertical-align: top;\n",
       "    }\n",
       "\n",
       "    .dataframe thead th {\n",
       "        text-align: right;\n",
       "    }\n",
       "</style>\n",
       "<table border=\"1\" class=\"dataframe\">\n",
       "  <thead>\n",
       "    <tr style=\"text-align: right;\">\n",
       "      <th></th>\n",
       "      <th>Name</th>\n",
       "      <th>Height</th>\n",
       "      <th>Weight</th>\n",
       "      <th>DOB</th>\n",
       "      <th>Salary</th>\n",
       "    </tr>\n",
       "  </thead>\n",
       "  <tbody>\n",
       "    <tr>\n",
       "      <th>1</th>\n",
       "      <td>kabira</td>\n",
       "      <td>6.0</td>\n",
       "      <td>70</td>\n",
       "      <td>01-01-1999</td>\n",
       "      <td>19000</td>\n",
       "    </tr>\n",
       "    <tr>\n",
       "      <th>3</th>\n",
       "      <td>Salman</td>\n",
       "      <td>5.4</td>\n",
       "      <td>60</td>\n",
       "      <td>01-01-1989</td>\n",
       "      <td>29000</td>\n",
       "    </tr>\n",
       "    <tr>\n",
       "      <th>5</th>\n",
       "      <td>Khali</td>\n",
       "      <td>10.0</td>\n",
       "      <td>30</td>\n",
       "      <td>23-11-1992</td>\n",
       "      <td>26000</td>\n",
       "    </tr>\n",
       "  </tbody>\n",
       "</table>\n",
       "</div>"
      ],
      "text/plain": [
       "     Name  Height  Weight         DOB  Salary\n",
       "1  kabira     6.0      70  01-01-1999   19000\n",
       "3  Salman     5.4      60  01-01-1989   29000\n",
       "5   Khali    10.0      30  23-11-1992   26000"
      ]
     },
     "execution_count": 39,
     "metadata": {},
     "output_type": "execute_result"
    }
   ],
   "source": [
    "df[[True,False,True,False,True]]"
   ]
  },
  {
   "cell_type": "code",
   "execution_count": 40,
   "metadata": {},
   "outputs": [
    {
     "data": {
      "text/html": [
       "<div>\n",
       "<style scoped>\n",
       "    .dataframe tbody tr th:only-of-type {\n",
       "        vertical-align: middle;\n",
       "    }\n",
       "\n",
       "    .dataframe tbody tr th {\n",
       "        vertical-align: top;\n",
       "    }\n",
       "\n",
       "    .dataframe thead th {\n",
       "        text-align: right;\n",
       "    }\n",
       "</style>\n",
       "<table border=\"1\" class=\"dataframe\">\n",
       "  <thead>\n",
       "    <tr style=\"text-align: right;\">\n",
       "      <th></th>\n",
       "      <th>Name</th>\n",
       "      <th>Height</th>\n",
       "      <th>Weight</th>\n",
       "      <th>DOB</th>\n",
       "      <th>Salary</th>\n",
       "    </tr>\n",
       "  </thead>\n",
       "  <tbody>\n",
       "    <tr>\n",
       "      <th>1</th>\n",
       "      <td>kabira</td>\n",
       "      <td>6.0</td>\n",
       "      <td>70</td>\n",
       "      <td>01-01-1999</td>\n",
       "      <td>19000</td>\n",
       "    </tr>\n",
       "    <tr>\n",
       "      <th>2</th>\n",
       "      <td>Das</td>\n",
       "      <td>5.8</td>\n",
       "      <td>80</td>\n",
       "      <td>02-12-1998</td>\n",
       "      <td>20000</td>\n",
       "    </tr>\n",
       "    <tr>\n",
       "      <th>3</th>\n",
       "      <td>Salman</td>\n",
       "      <td>5.4</td>\n",
       "      <td>60</td>\n",
       "      <td>01-01-1989</td>\n",
       "      <td>29000</td>\n",
       "    </tr>\n",
       "  </tbody>\n",
       "</table>\n",
       "</div>"
      ],
      "text/plain": [
       "     Name  Height  Weight         DOB  Salary\n",
       "1  kabira     6.0      70  01-01-1999   19000\n",
       "2     Das     5.8      80  02-12-1998   20000\n",
       "3  Salman     5.4      60  01-01-1989   29000"
      ]
     },
     "execution_count": 40,
     "metadata": {},
     "output_type": "execute_result"
    }
   ],
   "source": [
    "#df [condition][access_whatever_you_want]\n",
    "df[df['Weight']>50]"
   ]
  },
  {
   "cell_type": "code",
   "execution_count": 41,
   "metadata": {},
   "outputs": [
    {
     "data": {
      "text/html": [
       "<div>\n",
       "<style scoped>\n",
       "    .dataframe tbody tr th:only-of-type {\n",
       "        vertical-align: middle;\n",
       "    }\n",
       "\n",
       "    .dataframe tbody tr th {\n",
       "        vertical-align: top;\n",
       "    }\n",
       "\n",
       "    .dataframe thead th {\n",
       "        text-align: right;\n",
       "    }\n",
       "</style>\n",
       "<table border=\"1\" class=\"dataframe\">\n",
       "  <thead>\n",
       "    <tr style=\"text-align: right;\">\n",
       "      <th></th>\n",
       "      <th>Name</th>\n",
       "      <th>DOB</th>\n",
       "    </tr>\n",
       "  </thead>\n",
       "  <tbody>\n",
       "    <tr>\n",
       "      <th>1</th>\n",
       "      <td>kabira</td>\n",
       "      <td>01-01-1999</td>\n",
       "    </tr>\n",
       "    <tr>\n",
       "      <th>2</th>\n",
       "      <td>Das</td>\n",
       "      <td>02-12-1998</td>\n",
       "    </tr>\n",
       "    <tr>\n",
       "      <th>3</th>\n",
       "      <td>Salman</td>\n",
       "      <td>01-01-1989</td>\n",
       "    </tr>\n",
       "  </tbody>\n",
       "</table>\n",
       "</div>"
      ],
      "text/plain": [
       "     Name         DOB\n",
       "1  kabira  01-01-1999\n",
       "2     Das  02-12-1998\n",
       "3  Salman  01-01-1989"
      ]
     },
     "execution_count": 41,
     "metadata": {},
     "output_type": "execute_result"
    }
   ],
   "source": [
    "df[df['Weight']>50].loc[:,['Name','DOB']]"
   ]
  },
  {
   "cell_type": "code",
   "execution_count": 42,
   "metadata": {},
   "outputs": [
    {
     "data": {
      "text/plain": [
       "1    False\n",
       "2    False\n",
       "3    False\n",
       "4     True\n",
       "5     True\n",
       "Name: Weight, dtype: bool"
      ]
     },
     "execution_count": 42,
     "metadata": {},
     "output_type": "execute_result"
    }
   ],
   "source": [
    "df['Weight'].isin(range(50))"
   ]
  },
  {
   "cell_type": "code",
   "execution_count": 71,
   "metadata": {},
   "outputs": [
    {
     "data": {
      "text/html": [
       "<div>\n",
       "<style scoped>\n",
       "    .dataframe tbody tr th:only-of-type {\n",
       "        vertical-align: middle;\n",
       "    }\n",
       "\n",
       "    .dataframe tbody tr th {\n",
       "        vertical-align: top;\n",
       "    }\n",
       "\n",
       "    .dataframe thead th {\n",
       "        text-align: right;\n",
       "    }\n",
       "</style>\n",
       "<table border=\"1\" class=\"dataframe\">\n",
       "  <thead>\n",
       "    <tr style=\"text-align: right;\">\n",
       "      <th></th>\n",
       "      <th>Name</th>\n",
       "      <th>Height</th>\n",
       "      <th>Weight</th>\n",
       "      <th>DOB</th>\n",
       "      <th>Salary</th>\n",
       "    </tr>\n",
       "  </thead>\n",
       "  <tbody>\n",
       "    <tr>\n",
       "      <th>1</th>\n",
       "      <td>kabira</td>\n",
       "      <td>6.0</td>\n",
       "      <td>70</td>\n",
       "      <td>01-01-1999</td>\n",
       "      <td>19000</td>\n",
       "    </tr>\n",
       "    <tr>\n",
       "      <th>2</th>\n",
       "      <td>Das</td>\n",
       "      <td>5.8</td>\n",
       "      <td>80</td>\n",
       "      <td>02-12-1998</td>\n",
       "      <td>20000</td>\n",
       "    </tr>\n",
       "    <tr>\n",
       "      <th>3</th>\n",
       "      <td>Salman</td>\n",
       "      <td>5.4</td>\n",
       "      <td>60</td>\n",
       "      <td>01-01-1989</td>\n",
       "      <td>29000</td>\n",
       "    </tr>\n",
       "    <tr>\n",
       "      <th>4</th>\n",
       "      <td>Aamir</td>\n",
       "      <td>6.2</td>\n",
       "      <td>-10</td>\n",
       "      <td>02-12-1988</td>\n",
       "      <td>30000</td>\n",
       "    </tr>\n",
       "    <tr>\n",
       "      <th>5</th>\n",
       "      <td>Khali</td>\n",
       "      <td>10.0</td>\n",
       "      <td>-10</td>\n",
       "      <td>23-11-1992</td>\n",
       "      <td>26000</td>\n",
       "    </tr>\n",
       "  </tbody>\n",
       "</table>\n",
       "</div>"
      ],
      "text/plain": [
       "     Name  Height  Weight         DOB  Salary\n",
       "1  kabira     6.0      70  01-01-1999   19000\n",
       "2     Das     5.8      80  02-12-1998   20000\n",
       "3  Salman     5.4      60  01-01-1989   29000\n",
       "4   Aamir     6.2     -10  02-12-1988   30000\n",
       "5   Khali    10.0     -10  23-11-1992   26000"
      ]
     },
     "execution_count": 71,
     "metadata": {},
     "output_type": "execute_result"
    }
   ],
   "source": [
    "df.loc[ df['Weight'].isin(range(51)) , 'Weight' ] -= 10\n",
    "df"
   ]
  },
  {
   "cell_type": "code",
   "execution_count": 80,
   "metadata": {},
   "outputs": [
    {
     "data": {
      "text/html": [
       "<div>\n",
       "<style scoped>\n",
       "    .dataframe tbody tr th:only-of-type {\n",
       "        vertical-align: middle;\n",
       "    }\n",
       "\n",
       "    .dataframe tbody tr th {\n",
       "        vertical-align: top;\n",
       "    }\n",
       "\n",
       "    .dataframe thead th {\n",
       "        text-align: right;\n",
       "    }\n",
       "</style>\n",
       "<table border=\"1\" class=\"dataframe\">\n",
       "  <thead>\n",
       "    <tr style=\"text-align: right;\">\n",
       "      <th></th>\n",
       "      <th>Name</th>\n",
       "      <th>Height</th>\n",
       "      <th>Weight</th>\n",
       "      <th>DOB</th>\n",
       "      <th>Salary</th>\n",
       "    </tr>\n",
       "  </thead>\n",
       "  <tbody>\n",
       "    <tr>\n",
       "      <th>1</th>\n",
       "      <td>kabira</td>\n",
       "      <td>6.0</td>\n",
       "      <td>70</td>\n",
       "      <td>01-01-1999</td>\n",
       "      <td>19000</td>\n",
       "    </tr>\n",
       "    <tr>\n",
       "      <th>2</th>\n",
       "      <td>Das</td>\n",
       "      <td>5.8</td>\n",
       "      <td>80</td>\n",
       "      <td>02-12-1998</td>\n",
       "      <td>20000</td>\n",
       "    </tr>\n",
       "    <tr>\n",
       "      <th>3</th>\n",
       "      <td>Salman</td>\n",
       "      <td>5.4</td>\n",
       "      <td>60</td>\n",
       "      <td>01-01-1989</td>\n",
       "      <td>389000</td>\n",
       "    </tr>\n",
       "    <tr>\n",
       "      <th>4</th>\n",
       "      <td>Aamir</td>\n",
       "      <td>6.2</td>\n",
       "      <td>-10</td>\n",
       "      <td>02-12-1988</td>\n",
       "      <td>390000</td>\n",
       "    </tr>\n",
       "    <tr>\n",
       "      <th>5</th>\n",
       "      <td>Khali</td>\n",
       "      <td>10.0</td>\n",
       "      <td>-10</td>\n",
       "      <td>23-11-1992</td>\n",
       "      <td>386000</td>\n",
       "    </tr>\n",
       "  </tbody>\n",
       "</table>\n",
       "</div>"
      ],
      "text/plain": [
       "     Name  Height  Weight         DOB  Salary\n",
       "1  kabira     6.0      70  01-01-1999   19000\n",
       "2     Das     5.8      80  02-12-1998   20000\n",
       "3  Salman     5.4      60  01-01-1989  389000\n",
       "4   Aamir     6.2     -10  02-12-1988  390000\n",
       "5   Khali    10.0     -10  23-11-1992  386000"
      ]
     },
     "execution_count": 80,
     "metadata": {},
     "output_type": "execute_result"
    }
   ],
   "source": [
    "df.loc[df.Salary > 25000,'Salary'] +=90000\n",
    "df"
   ]
  },
  {
   "cell_type": "code",
   "execution_count": 81,
   "metadata": {},
   "outputs": [
    {
     "data": {
      "text/plain": [
       "1     6.0\n",
       "2     5.8\n",
       "3     5.4\n",
       "4     6.2\n",
       "5    10.0\n",
       "Name: Height, dtype: float64"
      ]
     },
     "execution_count": 81,
     "metadata": {},
     "output_type": "execute_result"
    }
   ],
   "source": [
    "df['Height']"
   ]
  },
  {
   "cell_type": "code",
   "execution_count": 82,
   "metadata": {},
   "outputs": [],
   "source": [
    "import pandas as pd\n",
    "?pd.melt"
   ]
  },
  {
   "cell_type": "code",
   "execution_count": 84,
   "metadata": {},
   "outputs": [
    {
     "name": "stdout",
     "output_type": "stream",
     "text": [
      "     Name  Height  Weight         DOB  Salary\n",
      "1  kabira     6.0      70  01-01-1999   19000\n",
      "2     Das     5.8      80  02-12-1998   20000\n",
      "3  Salman     5.4      60  01-01-1989   29000\n",
      "4   Aamir     6.2      40  02-12-1988   30000\n",
      "5   Khali    10.0      30  23-11-1992   26000\n"
     ]
    },
    {
     "data": {
      "text/html": [
       "<div>\n",
       "<style scoped>\n",
       "    .dataframe tbody tr th:only-of-type {\n",
       "        vertical-align: middle;\n",
       "    }\n",
       "\n",
       "    .dataframe tbody tr th {\n",
       "        vertical-align: top;\n",
       "    }\n",
       "\n",
       "    .dataframe thead th {\n",
       "        text-align: right;\n",
       "    }\n",
       "</style>\n",
       "<table border=\"1\" class=\"dataframe\">\n",
       "  <thead>\n",
       "    <tr style=\"text-align: right;\">\n",
       "      <th></th>\n",
       "      <th>variable</th>\n",
       "      <th>value</th>\n",
       "    </tr>\n",
       "  </thead>\n",
       "  <tbody>\n",
       "    <tr>\n",
       "      <th>0</th>\n",
       "      <td>Name</td>\n",
       "      <td>kabira</td>\n",
       "    </tr>\n",
       "    <tr>\n",
       "      <th>1</th>\n",
       "      <td>Name</td>\n",
       "      <td>Das</td>\n",
       "    </tr>\n",
       "    <tr>\n",
       "      <th>2</th>\n",
       "      <td>Name</td>\n",
       "      <td>Salman</td>\n",
       "    </tr>\n",
       "    <tr>\n",
       "      <th>3</th>\n",
       "      <td>Name</td>\n",
       "      <td>Aamir</td>\n",
       "    </tr>\n",
       "    <tr>\n",
       "      <th>4</th>\n",
       "      <td>Name</td>\n",
       "      <td>Khali</td>\n",
       "    </tr>\n",
       "    <tr>\n",
       "      <th>5</th>\n",
       "      <td>Height</td>\n",
       "      <td>6</td>\n",
       "    </tr>\n",
       "    <tr>\n",
       "      <th>6</th>\n",
       "      <td>Height</td>\n",
       "      <td>5.8</td>\n",
       "    </tr>\n",
       "    <tr>\n",
       "      <th>7</th>\n",
       "      <td>Height</td>\n",
       "      <td>5.4</td>\n",
       "    </tr>\n",
       "    <tr>\n",
       "      <th>8</th>\n",
       "      <td>Height</td>\n",
       "      <td>6.2</td>\n",
       "    </tr>\n",
       "    <tr>\n",
       "      <th>9</th>\n",
       "      <td>Height</td>\n",
       "      <td>10</td>\n",
       "    </tr>\n",
       "    <tr>\n",
       "      <th>10</th>\n",
       "      <td>Weight</td>\n",
       "      <td>70</td>\n",
       "    </tr>\n",
       "    <tr>\n",
       "      <th>11</th>\n",
       "      <td>Weight</td>\n",
       "      <td>80</td>\n",
       "    </tr>\n",
       "    <tr>\n",
       "      <th>12</th>\n",
       "      <td>Weight</td>\n",
       "      <td>60</td>\n",
       "    </tr>\n",
       "    <tr>\n",
       "      <th>13</th>\n",
       "      <td>Weight</td>\n",
       "      <td>40</td>\n",
       "    </tr>\n",
       "    <tr>\n",
       "      <th>14</th>\n",
       "      <td>Weight</td>\n",
       "      <td>30</td>\n",
       "    </tr>\n",
       "    <tr>\n",
       "      <th>15</th>\n",
       "      <td>DOB</td>\n",
       "      <td>01-01-1999</td>\n",
       "    </tr>\n",
       "    <tr>\n",
       "      <th>16</th>\n",
       "      <td>DOB</td>\n",
       "      <td>02-12-1998</td>\n",
       "    </tr>\n",
       "    <tr>\n",
       "      <th>17</th>\n",
       "      <td>DOB</td>\n",
       "      <td>01-01-1989</td>\n",
       "    </tr>\n",
       "    <tr>\n",
       "      <th>18</th>\n",
       "      <td>DOB</td>\n",
       "      <td>02-12-1988</td>\n",
       "    </tr>\n",
       "    <tr>\n",
       "      <th>19</th>\n",
       "      <td>DOB</td>\n",
       "      <td>23-11-1992</td>\n",
       "    </tr>\n",
       "    <tr>\n",
       "      <th>20</th>\n",
       "      <td>Salary</td>\n",
       "      <td>19000</td>\n",
       "    </tr>\n",
       "    <tr>\n",
       "      <th>21</th>\n",
       "      <td>Salary</td>\n",
       "      <td>20000</td>\n",
       "    </tr>\n",
       "    <tr>\n",
       "      <th>22</th>\n",
       "      <td>Salary</td>\n",
       "      <td>29000</td>\n",
       "    </tr>\n",
       "    <tr>\n",
       "      <th>23</th>\n",
       "      <td>Salary</td>\n",
       "      <td>30000</td>\n",
       "    </tr>\n",
       "    <tr>\n",
       "      <th>24</th>\n",
       "      <td>Salary</td>\n",
       "      <td>26000</td>\n",
       "    </tr>\n",
       "  </tbody>\n",
       "</table>\n",
       "</div>"
      ],
      "text/plain": [
       "   variable       value\n",
       "0      Name      kabira\n",
       "1      Name         Das\n",
       "2      Name      Salman\n",
       "3      Name       Aamir\n",
       "4      Name       Khali\n",
       "5    Height           6\n",
       "6    Height         5.8\n",
       "7    Height         5.4\n",
       "8    Height         6.2\n",
       "9    Height          10\n",
       "10   Weight          70\n",
       "11   Weight          80\n",
       "12   Weight          60\n",
       "13   Weight          40\n",
       "14   Weight          30\n",
       "15      DOB  01-01-1999\n",
       "16      DOB  02-12-1998\n",
       "17      DOB  01-01-1989\n",
       "18      DOB  02-12-1988\n",
       "19      DOB  23-11-1992\n",
       "20   Salary       19000\n",
       "21   Salary       20000\n",
       "22   Salary       29000\n",
       "23   Salary       30000\n",
       "24   Salary       26000"
      ]
     },
     "execution_count": 84,
     "metadata": {},
     "output_type": "execute_result"
    }
   ],
   "source": [
    "print(df2)\n",
    "pd.melt(df2)"
   ]
  },
  {
   "cell_type": "code",
   "execution_count": 85,
   "metadata": {},
   "outputs": [
    {
     "data": {
      "text/plain": [
       "'1-2-3-4'"
      ]
     },
     "execution_count": 85,
     "metadata": {},
     "output_type": "execute_result"
    }
   ],
   "source": [
    "a = '-'\n",
    "z = '1234'\n",
    "a.join(z)"
   ]
  },
  {
   "cell_type": "code",
   "execution_count": 86,
   "metadata": {},
   "outputs": [
    {
     "name": "stdout",
     "output_type": "stream",
     "text": [
      "Int64Index([1, 2, 3, 4, 5], dtype='int64')\n",
      "Index(['Name', 'Height', 'Weight', 'DOB', 'Salary'], dtype='object')\n"
     ]
    },
    {
     "data": {
      "text/html": [
       "<div>\n",
       "<style scoped>\n",
       "    .dataframe tbody tr th:only-of-type {\n",
       "        vertical-align: middle;\n",
       "    }\n",
       "\n",
       "    .dataframe tbody tr th {\n",
       "        vertical-align: top;\n",
       "    }\n",
       "\n",
       "    .dataframe thead th {\n",
       "        text-align: right;\n",
       "    }\n",
       "</style>\n",
       "<table border=\"1\" class=\"dataframe\">\n",
       "  <thead>\n",
       "    <tr style=\"text-align: right;\">\n",
       "      <th></th>\n",
       "      <th>Height</th>\n",
       "      <th>Weight</th>\n",
       "      <th>Salary</th>\n",
       "    </tr>\n",
       "  </thead>\n",
       "  <tbody>\n",
       "    <tr>\n",
       "      <th>count</th>\n",
       "      <td>5.000000</td>\n",
       "      <td>5.000000</td>\n",
       "      <td>5.000000</td>\n",
       "    </tr>\n",
       "    <tr>\n",
       "      <th>mean</th>\n",
       "      <td>6.680000</td>\n",
       "      <td>56.000000</td>\n",
       "      <td>24800.000000</td>\n",
       "    </tr>\n",
       "    <tr>\n",
       "      <th>std</th>\n",
       "      <td>1.879362</td>\n",
       "      <td>20.736441</td>\n",
       "      <td>5069.516742</td>\n",
       "    </tr>\n",
       "    <tr>\n",
       "      <th>min</th>\n",
       "      <td>5.400000</td>\n",
       "      <td>30.000000</td>\n",
       "      <td>19000.000000</td>\n",
       "    </tr>\n",
       "    <tr>\n",
       "      <th>25%</th>\n",
       "      <td>5.800000</td>\n",
       "      <td>40.000000</td>\n",
       "      <td>20000.000000</td>\n",
       "    </tr>\n",
       "    <tr>\n",
       "      <th>50%</th>\n",
       "      <td>6.000000</td>\n",
       "      <td>60.000000</td>\n",
       "      <td>26000.000000</td>\n",
       "    </tr>\n",
       "    <tr>\n",
       "      <th>75%</th>\n",
       "      <td>6.200000</td>\n",
       "      <td>70.000000</td>\n",
       "      <td>29000.000000</td>\n",
       "    </tr>\n",
       "    <tr>\n",
       "      <th>max</th>\n",
       "      <td>10.000000</td>\n",
       "      <td>80.000000</td>\n",
       "      <td>30000.000000</td>\n",
       "    </tr>\n",
       "  </tbody>\n",
       "</table>\n",
       "</div>"
      ],
      "text/plain": [
       "          Height     Weight        Salary\n",
       "count   5.000000   5.000000      5.000000\n",
       "mean    6.680000  56.000000  24800.000000\n",
       "std     1.879362  20.736441   5069.516742\n",
       "min     5.400000  30.000000  19000.000000\n",
       "25%     5.800000  40.000000  20000.000000\n",
       "50%     6.000000  60.000000  26000.000000\n",
       "75%     6.200000  70.000000  29000.000000\n",
       "max    10.000000  80.000000  30000.000000"
      ]
     },
     "execution_count": 86,
     "metadata": {},
     "output_type": "execute_result"
    }
   ],
   "source": [
    "print(df2.index)\n",
    "print(df2.columns)\n",
    "df2.describe()"
   ]
  },
  {
   "cell_type": "code",
   "execution_count": 102,
   "metadata": {},
   "outputs": [
    {
     "data": {
      "text/html": [
       "<div>\n",
       "<style scoped>\n",
       "    .dataframe tbody tr th:only-of-type {\n",
       "        vertical-align: middle;\n",
       "    }\n",
       "\n",
       "    .dataframe tbody tr th {\n",
       "        vertical-align: top;\n",
       "    }\n",
       "\n",
       "    .dataframe thead th {\n",
       "        text-align: right;\n",
       "    }\n",
       "</style>\n",
       "<table border=\"1\" class=\"dataframe\">\n",
       "  <thead>\n",
       "    <tr style=\"text-align: right;\">\n",
       "      <th></th>\n",
       "      <th>Name</th>\n",
       "      <th>Height</th>\n",
       "      <th>Weight</th>\n",
       "      <th>DOB</th>\n",
       "      <th>Salary</th>\n",
       "      <th>E</th>\n",
       "    </tr>\n",
       "  </thead>\n",
       "  <tbody>\n",
       "    <tr>\n",
       "      <th>0</th>\n",
       "      <td>NaN</td>\n",
       "      <td>NaN</td>\n",
       "      <td>NaN</td>\n",
       "      <td>NaN</td>\n",
       "      <td>NaN</td>\n",
       "      <td>NaN</td>\n",
       "    </tr>\n",
       "    <tr>\n",
       "      <th>1</th>\n",
       "      <td>kabira</td>\n",
       "      <td>6.0</td>\n",
       "      <td>70.0</td>\n",
       "      <td>01-01-1999</td>\n",
       "      <td>19000.0</td>\n",
       "      <td>NaN</td>\n",
       "    </tr>\n",
       "    <tr>\n",
       "      <th>2</th>\n",
       "      <td>Das</td>\n",
       "      <td>5.8</td>\n",
       "      <td>80.0</td>\n",
       "      <td>02-12-1998</td>\n",
       "      <td>20000.0</td>\n",
       "      <td>NaN</td>\n",
       "    </tr>\n",
       "    <tr>\n",
       "      <th>3</th>\n",
       "      <td>Salman</td>\n",
       "      <td>5.4</td>\n",
       "      <td>60.0</td>\n",
       "      <td>01-01-1989</td>\n",
       "      <td>29000.0</td>\n",
       "      <td>NaN</td>\n",
       "    </tr>\n",
       "    <tr>\n",
       "      <th>4</th>\n",
       "      <td>Aamir</td>\n",
       "      <td>6.2</td>\n",
       "      <td>40.0</td>\n",
       "      <td>02-12-1988</td>\n",
       "      <td>30000.0</td>\n",
       "      <td>NaN</td>\n",
       "    </tr>\n",
       "  </tbody>\n",
       "</table>\n",
       "</div>"
      ],
      "text/plain": [
       "     Name  Height  Weight         DOB   Salary   E\n",
       "0     NaN     NaN     NaN         NaN      NaN NaN\n",
       "1  kabira     6.0    70.0  01-01-1999  19000.0 NaN\n",
       "2     Das     5.8    80.0  02-12-1998  20000.0 NaN\n",
       "3  Salman     5.4    60.0  01-01-1989  29000.0 NaN\n",
       "4   Aamir     6.2    40.0  02-12-1988  30000.0 NaN"
      ]
     },
     "execution_count": 102,
     "metadata": {},
     "output_type": "execute_result"
    }
   ],
   "source": [
    "# REINDEX it reindex all rows and columns of dataframe \n",
    "# it also add empty row into dataframe\n",
    "df3 = df2.reindex(index = range(0,5),columns = list(df2.columns) + ['E'])\n",
    "df3"
   ]
  },
  {
   "cell_type": "code",
   "execution_count": 103,
   "metadata": {},
   "outputs": [],
   "source": [
    "# to drop any row data which contain NaN value\n",
    "import numpy as np\n",
    "df3.E = np.random.randint(10,50,5)  "
   ]
  },
  {
   "cell_type": "code",
   "execution_count": 104,
   "metadata": {},
   "outputs": [
    {
     "data": {
      "text/html": [
       "<div>\n",
       "<style scoped>\n",
       "    .dataframe tbody tr th:only-of-type {\n",
       "        vertical-align: middle;\n",
       "    }\n",
       "\n",
       "    .dataframe tbody tr th {\n",
       "        vertical-align: top;\n",
       "    }\n",
       "\n",
       "    .dataframe thead th {\n",
       "        text-align: right;\n",
       "    }\n",
       "</style>\n",
       "<table border=\"1\" class=\"dataframe\">\n",
       "  <thead>\n",
       "    <tr style=\"text-align: right;\">\n",
       "      <th></th>\n",
       "      <th>Name</th>\n",
       "      <th>Height</th>\n",
       "      <th>Weight</th>\n",
       "      <th>DOB</th>\n",
       "      <th>Salary</th>\n",
       "      <th>E</th>\n",
       "    </tr>\n",
       "  </thead>\n",
       "  <tbody>\n",
       "    <tr>\n",
       "      <th>0</th>\n",
       "      <td>NaN</td>\n",
       "      <td>NaN</td>\n",
       "      <td>NaN</td>\n",
       "      <td>NaN</td>\n",
       "      <td>NaN</td>\n",
       "      <td>41</td>\n",
       "    </tr>\n",
       "    <tr>\n",
       "      <th>1</th>\n",
       "      <td>kabira</td>\n",
       "      <td>6.0</td>\n",
       "      <td>70.0</td>\n",
       "      <td>01-01-1999</td>\n",
       "      <td>19000.0</td>\n",
       "      <td>11</td>\n",
       "    </tr>\n",
       "    <tr>\n",
       "      <th>2</th>\n",
       "      <td>Das</td>\n",
       "      <td>5.8</td>\n",
       "      <td>80.0</td>\n",
       "      <td>02-12-1998</td>\n",
       "      <td>20000.0</td>\n",
       "      <td>35</td>\n",
       "    </tr>\n",
       "    <tr>\n",
       "      <th>3</th>\n",
       "      <td>Salman</td>\n",
       "      <td>5.4</td>\n",
       "      <td>60.0</td>\n",
       "      <td>01-01-1989</td>\n",
       "      <td>29000.0</td>\n",
       "      <td>38</td>\n",
       "    </tr>\n",
       "    <tr>\n",
       "      <th>4</th>\n",
       "      <td>Aamir</td>\n",
       "      <td>6.2</td>\n",
       "      <td>40.0</td>\n",
       "      <td>02-12-1988</td>\n",
       "      <td>30000.0</td>\n",
       "      <td>23</td>\n",
       "    </tr>\n",
       "  </tbody>\n",
       "</table>\n",
       "</div>"
      ],
      "text/plain": [
       "     Name  Height  Weight         DOB   Salary   E\n",
       "0     NaN     NaN     NaN         NaN      NaN  41\n",
       "1  kabira     6.0    70.0  01-01-1999  19000.0  11\n",
       "2     Das     5.8    80.0  02-12-1998  20000.0  35\n",
       "3  Salman     5.4    60.0  01-01-1989  29000.0  38\n",
       "4   Aamir     6.2    40.0  02-12-1988  30000.0  23"
      ]
     },
     "execution_count": 104,
     "metadata": {},
     "output_type": "execute_result"
    }
   ],
   "source": [
    "df3"
   ]
  },
  {
   "cell_type": "code",
   "execution_count": 118,
   "metadata": {},
   "outputs": [
    {
     "data": {
      "text/html": [
       "<div>\n",
       "<style scoped>\n",
       "    .dataframe tbody tr th:only-of-type {\n",
       "        vertical-align: middle;\n",
       "    }\n",
       "\n",
       "    .dataframe tbody tr th {\n",
       "        vertical-align: top;\n",
       "    }\n",
       "\n",
       "    .dataframe thead th {\n",
       "        text-align: right;\n",
       "    }\n",
       "</style>\n",
       "<table border=\"1\" class=\"dataframe\">\n",
       "  <thead>\n",
       "    <tr style=\"text-align: right;\">\n",
       "      <th></th>\n",
       "      <th>Name</th>\n",
       "      <th>Height</th>\n",
       "      <th>Weight</th>\n",
       "      <th>DOB</th>\n",
       "      <th>Salary</th>\n",
       "      <th>E</th>\n",
       "    </tr>\n",
       "  </thead>\n",
       "  <tbody>\n",
       "    <tr>\n",
       "      <th>0</th>\n",
       "      <td>Khalibali</td>\n",
       "      <td>10.2</td>\n",
       "      <td>451</td>\n",
       "      <td>15-08-1947</td>\n",
       "      <td>852852451.0</td>\n",
       "      <td>78</td>\n",
       "    </tr>\n",
       "    <tr>\n",
       "      <th>1</th>\n",
       "      <td>kabira</td>\n",
       "      <td>6.0</td>\n",
       "      <td>70</td>\n",
       "      <td>01-01-1999</td>\n",
       "      <td>19000.0</td>\n",
       "      <td>11</td>\n",
       "    </tr>\n",
       "    <tr>\n",
       "      <th>2</th>\n",
       "      <td>Das</td>\n",
       "      <td>5.8</td>\n",
       "      <td>80</td>\n",
       "      <td>02-12-1998</td>\n",
       "      <td>20000.0</td>\n",
       "      <td>35</td>\n",
       "    </tr>\n",
       "    <tr>\n",
       "      <th>3</th>\n",
       "      <td>Salman</td>\n",
       "      <td>5.4</td>\n",
       "      <td>60</td>\n",
       "      <td>01-01-1989</td>\n",
       "      <td>29000.0</td>\n",
       "      <td>38</td>\n",
       "    </tr>\n",
       "    <tr>\n",
       "      <th>4</th>\n",
       "      <td>Aamir</td>\n",
       "      <td>NaN</td>\n",
       "      <td>40</td>\n",
       "      <td>02-12-1988</td>\n",
       "      <td>30000.0</td>\n",
       "      <td>23</td>\n",
       "    </tr>\n",
       "  </tbody>\n",
       "</table>\n",
       "</div>"
      ],
      "text/plain": [
       "        Name  Height Weight         DOB       Salary   E\n",
       "0  Khalibali    10.2    451  15-08-1947  852852451.0  78\n",
       "1     kabira     6.0     70  01-01-1999      19000.0  11\n",
       "2        Das     5.8     80  02-12-1998      20000.0  35\n",
       "3     Salman     5.4     60  01-01-1989      29000.0  38\n",
       "4      Aamir     NaN     40  02-12-1988      30000.0  23"
      ]
     },
     "execution_count": 118,
     "metadata": {},
     "output_type": "execute_result"
    }
   ],
   "source": [
    "df3.iloc[0]=['Khalibali',10.2,451,'15-08-1947',852852451,78]\n",
    "df3.iat[4,1] = 'NaN'\n",
    "df3\n"
   ]
  },
  {
   "cell_type": "code",
   "execution_count": 119,
   "metadata": {},
   "outputs": [
    {
     "data": {
      "text/html": [
       "<div>\n",
       "<style scoped>\n",
       "    .dataframe tbody tr th:only-of-type {\n",
       "        vertical-align: middle;\n",
       "    }\n",
       "\n",
       "    .dataframe tbody tr th {\n",
       "        vertical-align: top;\n",
       "    }\n",
       "\n",
       "    .dataframe thead th {\n",
       "        text-align: right;\n",
       "    }\n",
       "</style>\n",
       "<table border=\"1\" class=\"dataframe\">\n",
       "  <thead>\n",
       "    <tr style=\"text-align: right;\">\n",
       "      <th></th>\n",
       "      <th>Name</th>\n",
       "      <th>Weight</th>\n",
       "      <th>DOB</th>\n",
       "      <th>Salary</th>\n",
       "      <th>E</th>\n",
       "    </tr>\n",
       "  </thead>\n",
       "  <tbody>\n",
       "    <tr>\n",
       "      <th>0</th>\n",
       "      <td>Khalibali</td>\n",
       "      <td>451</td>\n",
       "      <td>15-08-1947</td>\n",
       "      <td>852852451.0</td>\n",
       "      <td>78</td>\n",
       "    </tr>\n",
       "    <tr>\n",
       "      <th>1</th>\n",
       "      <td>kabira</td>\n",
       "      <td>70</td>\n",
       "      <td>01-01-1999</td>\n",
       "      <td>19000.0</td>\n",
       "      <td>11</td>\n",
       "    </tr>\n",
       "    <tr>\n",
       "      <th>2</th>\n",
       "      <td>Das</td>\n",
       "      <td>80</td>\n",
       "      <td>02-12-1998</td>\n",
       "      <td>20000.0</td>\n",
       "      <td>35</td>\n",
       "    </tr>\n",
       "    <tr>\n",
       "      <th>3</th>\n",
       "      <td>Salman</td>\n",
       "      <td>60</td>\n",
       "      <td>01-01-1989</td>\n",
       "      <td>29000.0</td>\n",
       "      <td>38</td>\n",
       "    </tr>\n",
       "    <tr>\n",
       "      <th>4</th>\n",
       "      <td>Aamir</td>\n",
       "      <td>40</td>\n",
       "      <td>02-12-1988</td>\n",
       "      <td>30000.0</td>\n",
       "      <td>23</td>\n",
       "    </tr>\n",
       "  </tbody>\n",
       "</table>\n",
       "</div>"
      ],
      "text/plain": [
       "        Name Weight         DOB       Salary   E\n",
       "0  Khalibali    451  15-08-1947  852852451.0  78\n",
       "1     kabira     70  01-01-1999      19000.0  11\n",
       "2        Das     80  02-12-1998      20000.0  35\n",
       "3     Salman     60  01-01-1989      29000.0  38\n",
       "4      Aamir     40  02-12-1988      30000.0  23"
      ]
     },
     "execution_count": 119,
     "metadata": {},
     "output_type": "execute_result"
    }
   ],
   "source": [
    "df3\n",
    "df3.dropna(how='any',axis = 1) # it drop whole column"
   ]
  },
  {
   "cell_type": "code",
   "execution_count": 132,
   "metadata": {},
   "outputs": [
    {
     "data": {
      "text/plain": [
       "Name      0\n",
       "Height    1\n",
       "Weight    0\n",
       "DOB       0\n",
       "Salary    0\n",
       "E         0\n",
       "dtype: int64"
      ]
     },
     "execution_count": 132,
     "metadata": {},
     "output_type": "execute_result"
    }
   ],
   "source": [
    "# filling missing data\n",
    "df3.isna().sum()"
   ]
  },
  {
   "cell_type": "code",
   "execution_count": 154,
   "metadata": {},
   "outputs": [
    {
     "data": {
      "text/html": [
       "<div>\n",
       "<style scoped>\n",
       "    .dataframe tbody tr th:only-of-type {\n",
       "        vertical-align: middle;\n",
       "    }\n",
       "\n",
       "    .dataframe tbody tr th {\n",
       "        vertical-align: top;\n",
       "    }\n",
       "\n",
       "    .dataframe thead th {\n",
       "        text-align: right;\n",
       "    }\n",
       "</style>\n",
       "<table border=\"1\" class=\"dataframe\">\n",
       "  <thead>\n",
       "    <tr style=\"text-align: right;\">\n",
       "      <th></th>\n",
       "      <th>Name</th>\n",
       "      <th>Height</th>\n",
       "      <th>Weight</th>\n",
       "      <th>DOB</th>\n",
       "      <th>Salary</th>\n",
       "      <th>E</th>\n",
       "    </tr>\n",
       "  </thead>\n",
       "  <tbody>\n",
       "    <tr>\n",
       "      <th>4</th>\n",
       "      <td>Aamir</td>\n",
       "      <td>NaN</td>\n",
       "      <td>40</td>\n",
       "      <td>02-12-1988</td>\n",
       "      <td>30000.0</td>\n",
       "      <td>23</td>\n",
       "    </tr>\n",
       "  </tbody>\n",
       "</table>\n",
       "</div>"
      ],
      "text/plain": [
       "    Name  Height Weight         DOB   Salary   E\n",
       "4  Aamir     NaN     40  02-12-1988  30000.0  23"
      ]
     },
     "execution_count": 154,
     "metadata": {},
     "output_type": "execute_result"
    }
   ],
   "source": [
    "# best part to access anything df.loc[rows:columns]  or df.loc[condition:condition]\n",
    "df3.loc[df3.Height.isna()]"
   ]
  },
  {
   "cell_type": "markdown",
   "metadata": {},
   "source": [
    "# States Operations"
   ]
  },
  {
   "cell_type": "code",
   "execution_count": 159,
   "metadata": {},
   "outputs": [
    {
     "name": "stdout",
     "output_type": "stream",
     "text": [
      "0    2.842842e+08\n",
      "1    6.339000e+03\n",
      "2    6.680267e+03\n",
      "3    9.681133e+03\n",
      "4    1.501150e+04\n",
      "dtype: float64\n",
      "Height    6.850000e+00\n",
      "Salary    1.705901e+08\n",
      "E         3.700000e+01\n",
      "dtype: float64\n"
     ]
    }
   ],
   "source": [
    "# performing a descriptive statistic\n",
    "print(df3.mean(axis=1)) # column wise operation\n",
    "print(df3.mean(axis=0))"
   ]
  },
  {
   "cell_type": "code",
   "execution_count": 162,
   "metadata": {},
   "outputs": [
    {
     "name": "stdout",
     "output_type": "stream",
     "text": [
      "0    1.0\n",
      "1    2.0\n",
      "2    3.0\n",
      "3    4.0\n",
      "4    5.0\n",
      "5    6.0\n",
      "6    NaN\n",
      "7    4.0\n",
      "dtype: float64\n",
      "0    NaN\n",
      "1    NaN\n",
      "2    NaN\n",
      "3    NaN\n",
      "4    1.0\n",
      "5    2.0\n",
      "6    3.0\n",
      "7    4.0\n",
      "dtype: float64\n"
     ]
    }
   ],
   "source": [
    "s1 = pd.Series([1,2,3,4,5,6,np.nan,4])\n",
    "s2 = pd.Series([1,2,3,4,5,6,np.nan,4]).shift(4) # shift 4 means values starting from 4th indexes\n",
    "print(s1)\n",
    "print(s2)"
   ]
  },
  {
   "cell_type": "code",
   "execution_count": 163,
   "metadata": {},
   "outputs": [
    {
     "data": {
      "text/html": [
       "<div>\n",
       "<style scoped>\n",
       "    .dataframe tbody tr th:only-of-type {\n",
       "        vertical-align: middle;\n",
       "    }\n",
       "\n",
       "    .dataframe tbody tr th {\n",
       "        vertical-align: top;\n",
       "    }\n",
       "\n",
       "    .dataframe thead th {\n",
       "        text-align: right;\n",
       "    }\n",
       "</style>\n",
       "<table border=\"1\" class=\"dataframe\">\n",
       "  <thead>\n",
       "    <tr style=\"text-align: right;\">\n",
       "      <th></th>\n",
       "      <th>Name</th>\n",
       "      <th>Height</th>\n",
       "      <th>Weight</th>\n",
       "      <th>DOB</th>\n",
       "      <th>Salary</th>\n",
       "      <th>E</th>\n",
       "    </tr>\n",
       "  </thead>\n",
       "  <tbody>\n",
       "    <tr>\n",
       "      <th>1</th>\n",
       "      <td>kabira</td>\n",
       "      <td>6.0</td>\n",
       "      <td>70</td>\n",
       "      <td>01-01-1999</td>\n",
       "      <td>19000.0</td>\n",
       "      <td>11</td>\n",
       "    </tr>\n",
       "    <tr>\n",
       "      <th>2</th>\n",
       "      <td>Das</td>\n",
       "      <td>5.8</td>\n",
       "      <td>80</td>\n",
       "      <td>02-12-1998</td>\n",
       "      <td>20000.0</td>\n",
       "      <td>35</td>\n",
       "    </tr>\n",
       "  </tbody>\n",
       "</table>\n",
       "</div>"
      ],
      "text/plain": [
       "     Name  Height Weight         DOB   Salary   E\n",
       "1  kabira     6.0     70  01-01-1999  19000.0  11\n",
       "2     Das     5.8     80  02-12-1998  20000.0  35"
      ]
     },
     "execution_count": 163,
     "metadata": {},
     "output_type": "execute_result"
    }
   ],
   "source": [
    "# For checking some value in data frame\n",
    "#df3.sub(s , axis = 'index')\n",
    "\n",
    "df3[df3['Height'].isin([9.2,6.0,5.8])]"
   ]
  },
  {
   "cell_type": "markdown",
   "metadata": {},
   "source": [
    "# Apply"
   ]
  },
  {
   "cell_type": "code",
   "execution_count": 165,
   "metadata": {},
   "outputs": [
    {
     "name": "stdout",
     "output_type": "stream",
     "text": [
      "        Name  Height Weight         DOB       Salary   E\n",
      "0  Khalibali    10.2    451  15-08-1947  852852451.0  78\n",
      "1     kabira     6.0     70  01-01-1999      19000.0  11\n",
      "2        Das     5.8     80  02-12-1998      20000.0  35\n",
      "3     Salman     5.4     60  01-01-1989      29000.0  38\n",
      "4      Aamir     NaN     40  02-12-1988      30000.0  23\n"
     ]
    },
    {
     "data": {
      "text/html": [
       "<div>\n",
       "<style scoped>\n",
       "    .dataframe tbody tr th:only-of-type {\n",
       "        vertical-align: middle;\n",
       "    }\n",
       "\n",
       "    .dataframe tbody tr th {\n",
       "        vertical-align: top;\n",
       "    }\n",
       "\n",
       "    .dataframe thead th {\n",
       "        text-align: right;\n",
       "    }\n",
       "</style>\n",
       "<table border=\"1\" class=\"dataframe\">\n",
       "  <thead>\n",
       "    <tr style=\"text-align: right;\">\n",
       "      <th></th>\n",
       "      <th>Name</th>\n",
       "      <th>Height</th>\n",
       "      <th>Weight</th>\n",
       "      <th>DOB</th>\n",
       "      <th>Salary</th>\n",
       "      <th>E</th>\n",
       "    </tr>\n",
       "  </thead>\n",
       "  <tbody>\n",
       "    <tr>\n",
       "      <th>0</th>\n",
       "      <td>Khalibali</td>\n",
       "      <td>10.2</td>\n",
       "      <td>451</td>\n",
       "      <td>15-08-1947</td>\n",
       "      <td>852852451.0</td>\n",
       "      <td>78</td>\n",
       "    </tr>\n",
       "    <tr>\n",
       "      <th>1</th>\n",
       "      <td>Khalibalikabira</td>\n",
       "      <td>16.2</td>\n",
       "      <td>521</td>\n",
       "      <td>15-08-194701-01-1999</td>\n",
       "      <td>852871451.0</td>\n",
       "      <td>89</td>\n",
       "    </tr>\n",
       "    <tr>\n",
       "      <th>2</th>\n",
       "      <td>KhalibalikabiraDas</td>\n",
       "      <td>22.0</td>\n",
       "      <td>601</td>\n",
       "      <td>15-08-194701-01-199902-12-1998</td>\n",
       "      <td>852891451.0</td>\n",
       "      <td>124</td>\n",
       "    </tr>\n",
       "    <tr>\n",
       "      <th>3</th>\n",
       "      <td>KhalibalikabiraDasSalman</td>\n",
       "      <td>27.4</td>\n",
       "      <td>661</td>\n",
       "      <td>15-08-194701-01-199902-12-199801-01-1989</td>\n",
       "      <td>852920451.0</td>\n",
       "      <td>162</td>\n",
       "    </tr>\n",
       "    <tr>\n",
       "      <th>4</th>\n",
       "      <td>KhalibalikabiraDasSalmanAamir</td>\n",
       "      <td>NaN</td>\n",
       "      <td>701</td>\n",
       "      <td>15-08-194701-01-199902-12-199801-01-198902-12-...</td>\n",
       "      <td>852950451.0</td>\n",
       "      <td>185</td>\n",
       "    </tr>\n",
       "  </tbody>\n",
       "</table>\n",
       "</div>"
      ],
      "text/plain": [
       "                            Name  Height Weight  \\\n",
       "0                      Khalibali    10.2    451   \n",
       "1                Khalibalikabira    16.2    521   \n",
       "2             KhalibalikabiraDas    22.0    601   \n",
       "3       KhalibalikabiraDasSalman    27.4    661   \n",
       "4  KhalibalikabiraDasSalmanAamir     NaN    701   \n",
       "\n",
       "                                                 DOB       Salary    E  \n",
       "0                                         15-08-1947  852852451.0   78  \n",
       "1                               15-08-194701-01-1999  852871451.0   89  \n",
       "2                     15-08-194701-01-199902-12-1998  852891451.0  124  \n",
       "3           15-08-194701-01-199902-12-199801-01-1989  852920451.0  162  \n",
       "4  15-08-194701-01-199902-12-199801-01-198902-12-...  852950451.0  185  "
      ]
     },
     "execution_count": 165,
     "metadata": {},
     "output_type": "execute_result"
    }
   ],
   "source": [
    "#apply take column by column and apply a function\n",
    "print(df3)\n",
    "df3_cumsum = df3.apply(np.cumsum)\n",
    "df3_cumsum"
   ]
  },
  {
   "cell_type": "code",
   "execution_count": 170,
   "metadata": {},
   "outputs": [
    {
     "data": {
      "text/html": [
       "<div>\n",
       "<style scoped>\n",
       "    .dataframe tbody tr th:only-of-type {\n",
       "        vertical-align: middle;\n",
       "    }\n",
       "\n",
       "    .dataframe tbody tr th {\n",
       "        vertical-align: top;\n",
       "    }\n",
       "\n",
       "    .dataframe thead th {\n",
       "        text-align: right;\n",
       "    }\n",
       "</style>\n",
       "<table border=\"1\" class=\"dataframe\">\n",
       "  <thead>\n",
       "    <tr style=\"text-align: right;\">\n",
       "      <th></th>\n",
       "      <th>Name</th>\n",
       "      <th>Height</th>\n",
       "      <th>Weight</th>\n",
       "      <th>DOB</th>\n",
       "      <th>Salary</th>\n",
       "      <th>E</th>\n",
       "    </tr>\n",
       "  </thead>\n",
       "  <tbody>\n",
       "    <tr>\n",
       "      <th>0</th>\n",
       "      <td>Khalibali</td>\n",
       "      <td>10.2</td>\n",
       "      <td>451</td>\n",
       "      <td>15-08-1947</td>\n",
       "      <td>852852451.0</td>\n",
       "      <td>78</td>\n",
       "    </tr>\n",
       "    <tr>\n",
       "      <th>1</th>\n",
       "      <td>kabira</td>\n",
       "      <td>6.0</td>\n",
       "      <td>972</td>\n",
       "      <td>01-01-1999</td>\n",
       "      <td>19000.0</td>\n",
       "      <td>11</td>\n",
       "    </tr>\n",
       "    <tr>\n",
       "      <th>2</th>\n",
       "      <td>Das</td>\n",
       "      <td>5.8</td>\n",
       "      <td>1573</td>\n",
       "      <td>02-12-1998</td>\n",
       "      <td>20000.0</td>\n",
       "      <td>35</td>\n",
       "    </tr>\n",
       "    <tr>\n",
       "      <th>3</th>\n",
       "      <td>Salman</td>\n",
       "      <td>5.4</td>\n",
       "      <td>2234</td>\n",
       "      <td>01-01-1989</td>\n",
       "      <td>29000.0</td>\n",
       "      <td>38</td>\n",
       "    </tr>\n",
       "    <tr>\n",
       "      <th>4</th>\n",
       "      <td>Aamir</td>\n",
       "      <td>NaN</td>\n",
       "      <td>2935</td>\n",
       "      <td>02-12-1988</td>\n",
       "      <td>30000.0</td>\n",
       "      <td>23</td>\n",
       "    </tr>\n",
       "  </tbody>\n",
       "</table>\n",
       "</div>"
      ],
      "text/plain": [
       "        Name  Height Weight         DOB       Salary   E\n",
       "0  Khalibali    10.2    451  15-08-1947  852852451.0  78\n",
       "1     kabira     6.0    972  01-01-1999      19000.0  11\n",
       "2        Das     5.8   1573  02-12-1998      20000.0  35\n",
       "3     Salman     5.4   2234  01-01-1989      29000.0  38\n",
       "4      Aamir     NaN   2935  02-12-1988      30000.0  23"
      ]
     },
     "execution_count": 170,
     "metadata": {},
     "output_type": "execute_result"
    }
   ],
   "source": [
    "df3.Weight = df3.Weight.cumsum()\n",
    "df3"
   ]
  },
  {
   "cell_type": "markdown",
   "metadata": {},
   "source": [
    "# Histogramming"
   ]
  },
  {
   "cell_type": "code",
   "execution_count": 171,
   "metadata": {},
   "outputs": [],
   "source": [
    "s = pd.Series(np.random.randint(0,20,10))"
   ]
  },
  {
   "cell_type": "code",
   "execution_count": 172,
   "metadata": {},
   "outputs": [
    {
     "data": {
      "text/plain": [
       "18    2\n",
       "1     2\n",
       "15    1\n",
       "13    1\n",
       "17    1\n",
       "5     1\n",
       "19    1\n",
       "16    1\n",
       "dtype: int64"
      ]
     },
     "execution_count": 172,
     "metadata": {},
     "output_type": "execute_result"
    }
   ],
   "source": [
    "# for calculate frequency\n",
    "s.value_counts()"
   ]
  },
  {
   "cell_type": "code",
   "execution_count": 174,
   "metadata": {},
   "outputs": [
    {
     "data": {
      "text/plain": [
       "<matplotlib.axes._subplots.AxesSubplot at 0x17a5521d438>"
      ]
     },
     "execution_count": 174,
     "metadata": {},
     "output_type": "execute_result"
    },
    {
     "data": {
      "image/png": "[encoded data removed]",
      "text/plain": [
       "<Figure size 432x288 with 1 Axes>"
      ]
     },
     "metadata": {
      "needs_background": "light"
     },
     "output_type": "display_data"
    }
   ],
   "source": [
    "%matplotlib inline\n",
    "s.hist()"
   ]
  },
  {
   "cell_type": "code",
   "execution_count": 175,
   "metadata": {},
   "outputs": [
    {
     "data": {
      "text/plain": [
       "0      ADAS\n",
       "1    ASDSAD\n",
       "2     ZXVSD\n",
       "dtype: object"
      ]
     },
     "execution_count": 175,
     "metadata": {},
     "output_type": "execute_result"
    }
   ],
   "source": [
    "s = pd.Series(['adas','asdsad','zxvsd'])\n",
    "s.str.upper()"
   ]
  },
  {
   "cell_type": "markdown",
   "metadata": {},
   "source": [
    "# Merge"
   ]
  },
  {
   "cell_type": "code",
   "execution_count": 177,
   "metadata": {},
   "outputs": [
    {
     "data": {
      "text/html": [
       "<div>\n",
       "<style scoped>\n",
       "    .dataframe tbody tr th:only-of-type {\n",
       "        vertical-align: middle;\n",
       "    }\n",
       "\n",
       "    .dataframe tbody tr th {\n",
       "        vertical-align: top;\n",
       "    }\n",
       "\n",
       "    .dataframe thead th {\n",
       "        text-align: right;\n",
       "    }\n",
       "</style>\n",
       "<table border=\"1\" class=\"dataframe\">\n",
       "  <thead>\n",
       "    <tr style=\"text-align: right;\">\n",
       "      <th></th>\n",
       "      <th>0</th>\n",
       "      <th>1</th>\n",
       "      <th>2</th>\n",
       "      <th>3</th>\n",
       "    </tr>\n",
       "  </thead>\n",
       "  <tbody>\n",
       "    <tr>\n",
       "      <th>0</th>\n",
       "      <td>37</td>\n",
       "      <td>42</td>\n",
       "      <td>36</td>\n",
       "      <td>30</td>\n",
       "    </tr>\n",
       "    <tr>\n",
       "      <th>1</th>\n",
       "      <td>48</td>\n",
       "      <td>16</td>\n",
       "      <td>12</td>\n",
       "      <td>8</td>\n",
       "    </tr>\n",
       "    <tr>\n",
       "      <th>2</th>\n",
       "      <td>38</td>\n",
       "      <td>7</td>\n",
       "      <td>36</td>\n",
       "      <td>9</td>\n",
       "    </tr>\n",
       "    <tr>\n",
       "      <th>3</th>\n",
       "      <td>39</td>\n",
       "      <td>37</td>\n",
       "      <td>34</td>\n",
       "      <td>17</td>\n",
       "    </tr>\n",
       "  </tbody>\n",
       "</table>\n",
       "</div>"
      ],
      "text/plain": [
       "    0   1   2   3\n",
       "0  37  42  36  30\n",
       "1  48  16  12   8\n",
       "2  38   7  36   9\n",
       "3  39  37  34  17"
      ]
     },
     "execution_count": 177,
     "metadata": {},
     "output_type": "execute_result"
    }
   ],
   "source": [
    "pd.DataFrame(np.random.randint(5,50,16).reshape(4,4))"
   ]
  }
 ],
 "metadata": {
  "kernelspec": {
   "display_name": "Python 3",
   "language": "python",
   "name": "python3"
  },
  "language_info": {
   "codemirror_mode": {
    "name": "ipython",
    "version": 3
   },
   "file_extension": ".py",
   "mimetype": "text/x-python",
   "name": "python",
   "nbconvert_exporter": "python",
   "pygments_lexer": "ipython3",
   "version": "3.6.5"
  }
 },
 "nbformat": 4,
 "nbformat_minor": 2
}

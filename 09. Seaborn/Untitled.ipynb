{
 "cells": [
  {
   "cell_type": "code",
   "execution_count": null,
   "metadata": {},
   "outputs": [],
   "source": [
    "# Create columns of seasons for pair plotting colors\n",
    "seasons = []\n",
    "\n",
    "for month in features['month']:\n",
    "    if month in [1, 2, 12]:\n",
    "        seasons.append('winter')\n",
    "    elif month in [3, 4, 5]:\n",
    "        seasons.append('spring')\n",
    "    elif month in [6, 7, 8]:\n",
    "        seasons.append('summer')\n",
    "    elif month in [9, 10, 11]:\n",
    "        seasons.append('fall')\n",
    "\n",
    "# Will only use six variables for plotting pairs\n",
    "reduced_features = features[['temp_1', 'prcp_1', 'average', 'actual']]\n",
    "reduced_features['season'] = seasons"
   ]
  },
  {
   "cell_type": "code",
   "execution_count": null,
   "metadata": {},
   "outputs": [],
   "source": [
    "# Use seaborn for pair plots\n",
    "import seaborn as sns\n",
    "sns.set(style=\"ticks\", color_codes=True);\n",
    "\n",
    "# Create a custom color palete\n",
    "palette = sns.xkcd_palette(['dark blue', 'dark green', 'gold', 'orange'])\n",
    "\n",
    "# Make the pair plot with a some aesthetic changes\n",
    "sns.pairplot(reduced_features, hue = 'season', diag_kind = 'kde', palette= palette, plot_kws=dict(alpha = 0.7),\n",
    "                   diag_kws=dict(shade=True));"
   ]
  },
  {
   "cell_type": "code",
   "execution_count": null,
   "metadata": {},
   "outputs": [],
   "source": [
    "plt.setstyle('fivethirtyeight')"
   ]
  },
  {
   "cell_type": "code",
   "execution_count": null,
   "metadata": {},
   "outputs": [],
   "source": [
    "# List of features sorted from most to least important\n",
    "sorted_importances = [importance[1] for importance in feature_importances]\n",
    "sorted_features = [importance[0] for importance in feature_importances]\n",
    "\n",
    "# Cumulative importances\n",
    "cumulative_importances = np.cumsum(sorted_importances)\n",
    "\n",
    "# Make a line graph\n",
    "plt.plot(x_values, cumulative_importances, 'g-')\n",
    "\n",
    "# Draw line at 95% of importance retained\n",
    "plt.hlines(y = 0.95, xmin=0, xmax=len(sorted_importances), color = 'r', linestyles = 'dashed')\n",
    "\n",
    "# Format x ticks and labels\n",
    "plt.xticks(x_values, sorted_features, rotation = 'vertical')\n",
    "\n",
    "# Axis labels and title\n",
    "plt.xlabel('Variable'); plt.ylabel('Cumulative Importance'); plt.title('Cumulative Importances');"
   ]
  },
  {
   "cell_type": "code",
   "execution_count": null,
   "metadata": {},
   "outputs": [],
   "source": [
    "\n",
    "# Make plots \n",
    "# Set up the plotting layout\n",
    "fig, (ax1, ax2, ax3) = plt.subplots(nrows=3, ncols=1, figsize = (8,16), sharex = True)\n",
    "\n",
    "# Set up x-axis\n",
    "x_values = [0, 1, 2]\n",
    "labels = list(model_comparison['model'])\n",
    "plt.xticks(x_values, labels)\n",
    "\n",
    "# Set up fonts\n",
    "fontdict = {'fontsize': 18}\n",
    "fontdict_yaxis = {'fontsize': 14}\n",
    "\n",
    "# Error Comparison\n",
    "ax1.bar(x_values, model_comparison['error (degrees)'], color = ['b', 'r', 'g'], edgecolor = 'k', linewidth = 1.5)\n",
    "ax1.set_ylim(bottom = 3.5, top = 4.5)\n",
    "ax1.set_ylabel('Error (degrees) (F)', fontdict = fontdict_yaxis); \n",
    "ax1.set_title('Model Error Comparison', fontdict= fontdict)\n",
    "\n",
    "# Accuracy Comparison\n",
    "ax2.bar(x_values, model_comparison['accuracy'], color = ['b', 'r', 'g'], edgecolor = 'k', linewidth = 1.5)\n",
    "ax2.set_ylim(bottom = 92, top = 94)\n",
    "ax2.set_ylabel('Accuracy (%)', fontdict = fontdict_yaxis); \n",
    "ax2.set_title('Model Accuracy Comparison', fontdict= fontdict)\n",
    "\n",
    "# Run Time Comparison\n",
    "ax3.bar(x_values, model_comparison['run_time (s)'], color = ['b', 'r', 'g'], edgecolor = 'k', linewidth = 1.5)\n",
    "ax3.set_ylim(bottom = 2, top = 12)\n",
    "ax3.set_ylabel('Run Time (sec)', fontdict = fontdict_yaxis); \n",
    "ax3.set_title('Model Run-Time Comparison', fontdict= fontdict);"
   ]
  }
 ],
 "metadata": {
  "kernelspec": {
   "display_name": "Python 3",
   "language": "python",
   "name": "python3"
  },
  "language_info": {
   "codemirror_mode": {
    "name": "ipython",
    "version": 3
   },
   "file_extension": ".py",
   "mimetype": "text/x-python",
   "name": "python",
   "nbconvert_exporter": "python",
   "pygments_lexer": "ipython3",
   "version": "3.6.5"
  }
 },
 "nbformat": 4,
 "nbformat_minor": 2
}

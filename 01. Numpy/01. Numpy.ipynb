{
 "cells": [
  {
   "cell_type": "markdown",
   "metadata": {},
   "source": [
    "# Numpy "
   ]
  },
  {
   "cell_type": "code",
   "execution_count": 11,
   "metadata": {},
   "outputs": [
    {
     "name": "stdout",
     "output_type": "stream",
     "text": [
      "2\n"
     ]
    }
   ],
   "source": [
    "l1=[  # It is 3D array list\n",
    "    [\n",
    "        [1,1,1],\n",
    "        [2,2,2]\n",
    "    ],\n",
    "    [\n",
    "        [3,3,3],\n",
    "        [4,4,4]\n",
    "    ]\n",
    "]\n",
    "l2= l1.copy()\n",
    "r = []\n",
    "print( l1[0][1][1] )"
   ]
  },
  {
   "cell_type": "code",
   "execution_count": 12,
   "metadata": {},
   "outputs": [
    {
     "name": "stdout",
     "output_type": "stream",
     "text": [
      "[[[1, 1, 1], [2, 2, 2]], [[3, 3, 3], [4, 4, 4]]]\n",
      "[[[1, 1, 1], [2, 2, 2]], [[3, 3, 3], [4, 4, 4]]]\n",
      "2\n",
      "[[[2, 2, 2], [4, 4, 4]], [[6, 6, 6], [8, 8, 8]]]\n"
     ]
    }
   ],
   "source": [
    "# We trying to add two matrices using loops\n",
    "print(l1)\n",
    "print(l2)\n",
    "print(len(l1))\n",
    "for row in range(len(l1)):\n",
    "    r1 = []\n",
    "    for inner_row in range(len(l1[0])):\n",
    "        c = []\n",
    "        for col in range(len(l1[0][0])):\n",
    "            s = l1[row][inner_row][col] + l2[row][inner_row][col]\n",
    "            c.append(s)\n",
    "        r1.append(c)\n",
    "    r.append(r1)\n",
    "print(r)"
   ]
  },
  {
   "cell_type": "code",
   "execution_count": 19,
   "metadata": {},
   "outputs": [
    {
     "name": "stdout",
     "output_type": "stream",
     "text": [
      "[[[2 2 2]\n",
      "  [4 4 4]]\n",
      "\n",
      " [[6 6 6]\n",
      "  [8 8 8]]]\n"
     ]
    }
   ],
   "source": [
    "# Now we add l1 and l2 which we trying to add by for loop in upper cells\n",
    "arr_l1 = np.array(l1)\n",
    "arr_l2 = np.array(l2)\n",
    "su = arr_l1 + arr_l2\n",
    "print(su)"
   ]
  },
  {
   "cell_type": "code",
   "execution_count": 20,
   "metadata": {},
   "outputs": [
    {
     "name": "stdout",
     "output_type": "stream",
     "text": [
      "a1 : [1 2 3 4]\n",
      "a2 : [4 5 6 7]\n",
      "l1 : [1, 2, 3, 4]\n",
      "l2 : [4, 5, 6, 7]\n",
      "s1=a1+a2 : [ 5  7  9 11]\n",
      "s2=l1+l2 : [1, 2, 3, 4, 4, 5, 6, 7]\n",
      "type of a1 :  <class 'numpy.ndarray'>\n",
      "type of l1 :  <class 'list'>\n"
     ]
    }
   ],
   "source": [
    "import numpy as np\n",
    "# create of array\n",
    "l1=[1,2,3,4]\n",
    "l2=[4,5,6,7]\n",
    "a1=np.array(l1)\n",
    "a2=np.array(l2)\n",
    "s1=a1+a2  # It add each element with-respect \n",
    "s2=l1+l2  # It append list\n",
    "print('a1 :',a1)\n",
    "print('a2 :',a2)\n",
    "print('l1 :',l1)\n",
    "print('l2 :',l2)\n",
    "print('s1=a1+a2 :',s1)\n",
    "print('s2=l1+l2 :',s2)\n",
    "print('type of a1 : ',type(a1))\n",
    "print('type of l1 : ',type(l1))"
   ]
  },
  {
   "cell_type": "code",
   "execution_count": 24,
   "metadata": {},
   "outputs": [
    {
     "name": "stdout",
     "output_type": "stream",
     "text": [
      "[  1   2   3   4   5   6   7   8   9  10  11  12  13  14  15  16  17  18\n",
      "  19  20  21  22  23  24  25  26  27  28  29  30  31  32  33  34  35  36\n",
      "  37  38  39  40  41  42  43  44  45  46  47  48  49  50  51  52  53  54\n",
      "  55  56  57  58  59  60  61  62  63  64  65  66  67  68  69  70  71  72\n",
      "  73  74  75  76  77  78  79  80  81  82  83  84  85  86  87  88  89  90\n",
      "  91  92  93  94  95  96  97  98  99 100]\n",
      "100\n",
      "100\n",
      "[[  1   2   3   4   5   6   7   8   9  10]\n",
      " [ 11  12  13  14  15  16  17  18  19  20]\n",
      " [ 21  22  23  24  25  26  27  28  29  30]\n",
      " [ 31  32  33  34  35  36  37  38  39  40]\n",
      " [ 41  42  43  44  45  46  47  48  49  50]\n",
      " [ 51  52  53  54  55  56  57  58  59  60]\n",
      " [ 61  62  63  64  65  66  67  68  69  70]\n",
      " [ 71  72  73  74  75  76  77  78  79  80]\n",
      " [ 81  82  83  84  85  86  87  88  89  90]\n",
      " [ 91  92  93  94  95  96  97  98  99 100]]\n",
      "50.5\n",
      "50.5\n",
      "50.5\n",
      "[[  1  11  21  31  41  51  61  71  81  91]\n",
      " [  2  12  22  32  42  52  62  72  82  92]\n",
      " [  3  13  23  33  43  53  63  73  83  93]\n",
      " [  4  14  24  34  44  54  64  74  84  94]\n",
      " [  5  15  25  35  45  55  65  75  85  95]\n",
      " [  6  16  26  36  46  56  66  76  86  96]\n",
      " [  7  17  27  37  47  57  67  77  87  97]\n",
      " [  8  18  28  38  48  58  68  78  88  98]\n",
      " [  9  19  29  39  49  59  69  79  89  99]\n",
      " [ 10  20  30  40  50  60  70  80  90 100]]\n",
      "[[  1  11  21  31  41  51  61  71  81  91]\n",
      " [  2  12  22  32  42  52  62  72  82  92]\n",
      " [  3  13  23  33  43  53  63  73  83  93]\n",
      " [  4  14  24  34  44  54  64  74  84  94]\n",
      " [  5  15  25  35  45  55  65  75  85  95]\n",
      " [  6  16  26  36  46  56  66  76  86  96]\n",
      " [  7  17  27  37  47  57  67  77  87  97]\n",
      " [  8  18  28  38  48  58  68  78  88  98]\n",
      " [  9  19  29  39  49  59  69  79  89  99]\n",
      " [ 10  20  30  40  50  60  70  80  90 100]]\n"
     ]
    }
   ],
   "source": [
    "a=np.arange(1,101)\n",
    "print(a)\n",
    "print(a.size) # this\n",
    "print(len(a))\n",
    "# If we want to create two D matrices\n",
    "b = a.reshape(10,10)\n",
    "print(b)\n",
    "print(a.mean())  # In build function\n",
    "print(np.mean(a))\n",
    "print(np.median(a))\n",
    "print(b.transpose())\n",
    "print(b.T)"
   ]
  },
  {
   "cell_type": "code",
   "execution_count": 25,
   "metadata": {},
   "outputs": [
    {
     "name": "stdout",
     "output_type": "stream",
     "text": [
      "[ 1.          1.47368421  1.94736842  2.42105263  2.89473684  3.36842105\n",
      "  3.84210526  4.31578947  4.78947368  5.26315789  5.73684211  6.21052632\n",
      "  6.68421053  7.15789474  7.63157895  8.10526316  8.57894737  9.05263158\n",
      "  9.52631579 10.        ]\n",
      "20\n",
      "3.3684210526315788\n"
     ]
    }
   ],
   "source": [
    "x=np.linspace(1,10,20)\n",
    "print(x)\n",
    "print(x.size)\n",
    "print(x[5])"
   ]
  },
  {
   "cell_type": "code",
   "execution_count": 26,
   "metadata": {},
   "outputs": [
    {
     "name": "stdout",
     "output_type": "stream",
     "text": [
      "[0. 0. 0. 0. 0. 0. 0. 0. 0. 0. 0. 0.]\n",
      "[[0. 0. 0. 0. 0.]\n",
      " [0. 0. 0. 0. 0.]\n",
      " [0. 0. 0. 0. 0.]\n",
      " [0. 0. 0. 0. 0.]\n",
      " [0. 0. 0. 0. 0.]\n",
      " [0. 0. 0. 0. 0.]]\n",
      "[1. 1. 1. 1. 1. 1. 1. 1. 1. 1. 1. 1.]\n"
     ]
    },
    {
     "data": {
      "text/plain": [
       "array([[0., 0., 0., 0.],\n",
       "       [0., 0., 0., 0.]])"
      ]
     },
     "execution_count": 26,
     "metadata": {},
     "output_type": "execute_result"
    }
   ],
   "source": [
    "k = np.zeros(12)\n",
    "print(k)\n",
    "\n",
    "k = np.zeros((6,5)) # two d array 6 row 5 column\n",
    "print(k)\n",
    "\n",
    "k = np.ones(12)\n",
    "print(k)\n",
    "\n",
    "np.zeros((2,4),dtype=float)"
   ]
  },
  {
   "cell_type": "code",
   "execution_count": 39,
   "metadata": {},
   "outputs": [
    {
     "name": "stdout",
     "output_type": "stream",
     "text": [
      "[[1 0 0 0]\n",
      " [0 1 0 0]\n",
      " [0 0 1 0]\n",
      " [0 0 0 1]]\n"
     ]
    },
    {
     "data": {
      "text/plain": [
       "array([[1, 0, 0, 0, 0, 0, 0, 0, 0, 0],\n",
       "       [0, 1, 0, 0, 0, 0, 0, 0, 0, 0],\n",
       "       [0, 0, 1, 0, 0, 0, 0, 0, 0, 0],\n",
       "       [0, 0, 0, 1, 0, 0, 0, 0, 0, 0]])"
      ]
     },
     "execution_count": 39,
     "metadata": {},
     "output_type": "execute_result"
    }
   ],
   "source": [
    "l = [1,2,3,1]\n",
    "k = np.identity(4,dtype=int) # its take only integer values not a list\n",
    "print(k)  # takes single parameter\n",
    "np.eye(4,10,dtype=int) # take row as well as columns as an parameters"
   ]
  },
  {
   "cell_type": "code",
   "execution_count": 51,
   "metadata": {},
   "outputs": [
    {
     "data": {
      "image/png": "[encoded data removed]",
      "text/plain": [
       "<Figure size 432x288 with 1 Axes>"
      ]
     },
     "metadata": {},
     "output_type": "display_data"
    }
   ],
   "source": [
    "k = np.random.normal(20,5,5000)  # [20 mean ] [5 deviation  range is between 15-25] [ 5] no printed\n",
    "\n",
    "from matplotlib import pyplot as plt\n",
    "plt.hist(k,bins=200)  # frequency plot\n",
    "plt.show()"
   ]
  },
  {
   "cell_type": "markdown",
   "metadata": {
    "collapsed": true
   },
   "source": [
    "# Math Operations\n",
    "1. Sum\n",
    "2. Prod\n"
   ]
  },
  {
   "cell_type": "code",
   "execution_count": 59,
   "metadata": {},
   "outputs": [
    {
     "name": "stdout",
     "output_type": "stream",
     "text": [
      "[[1 2]\n",
      " [3 4]]\n",
      "\n",
      "axis = 0  [[4 6]]\n",
      "\n",
      "axis = 1  [[ 2]\n",
      " [12]]\n"
     ]
    }
   ],
   "source": [
    "#sum(value , axis = 0,1,None)\n",
    "import numpy as np\n",
    "ar1 = np.array([[1,2],[3,4]])\n",
    "print(ar1)\n",
    "print()\n",
    "print('axis = 0 ',np.sum(ar1,axis = 0 , keepdims=True))  # 0 means row wise sum is calculated of all rows \n",
    "print()\n",
    "print('axis = 1 ',np.prod(ar1,axis = 1 , keepdims=True)) # keep dim true mean it return same dim not single dim after summing\n",
    "# axis 1 means columns wise operation\n",
    "# axis 0 means row wise opeartions"
   ]
  },
  {
   "cell_type": "code",
   "execution_count": 60,
   "metadata": {},
   "outputs": [
    {
     "name": "stdout",
     "output_type": "stream",
     "text": [
      "0\n",
      "0.0\n"
     ]
    }
   ],
   "source": [
    "nm=list(map(int,input().split()))\n",
    "a=[]\n",
    "for i in range(nm[0]):\n",
    "    a.append(list(map(int,input().split())))\n",
    "s = np.sum(a , axis = 0)\n",
    "print(np.prod(s))"
   ]
  },
  {
   "cell_type": "markdown",
   "metadata": {
    "collapsed": true
   },
   "source": [
    "# Dot product"
   ]
  },
  {
   "cell_type": "code",
   "execution_count": 62,
   "metadata": {
    "collapsed": true
   },
   "outputs": [
    {
     "name": "stdout",
     "output_type": "stream",
     "text": [
      "4\n",
      "5\n",
      "4\n",
      "4\n",
      "4\n",
      "4\n",
      "4\n",
      "4\n",
      "4\n"
     ]
    },
    {
     "ename": "ValueError",
     "evalue": "shapes (4,1) and (4,1) not aligned: 1 (dim 1) != 4 (dim 0)",
     "output_type": "error",
     "traceback": [
      "\u001b[1;31m---------------------------------------------------------------------------\u001b[0m",
      "\u001b[1;31mValueError\u001b[0m                                Traceback (most recent call last)",
      "\u001b[1;32m<ipython-input-62-bffaab58638f>\u001b[0m in \u001b[0;36m<module>\u001b[1;34m()\u001b[0m\n\u001b[0;32m     11\u001b[0m \u001b[0mo\u001b[0m \u001b[1;33m=\u001b[0m \u001b[0mnp\u001b[0m\u001b[1;33m.\u001b[0m\u001b[0marray\u001b[0m\u001b[1;33m(\u001b[0m\u001b[0mo\u001b[0m\u001b[1;33m)\u001b[0m\u001b[1;33m\u001b[0m\u001b[0m\n\u001b[0;32m     12\u001b[0m \u001b[0mt\u001b[0m \u001b[1;33m=\u001b[0m \u001b[0mnp\u001b[0m\u001b[1;33m.\u001b[0m\u001b[0marray\u001b[0m\u001b[1;33m(\u001b[0m\u001b[0mt\u001b[0m\u001b[1;33m)\u001b[0m\u001b[1;33m\u001b[0m\u001b[0m\n\u001b[1;32m---> 13\u001b[1;33m \u001b[0mprint\u001b[0m\u001b[1;33m(\u001b[0m\u001b[0mnp\u001b[0m\u001b[1;33m.\u001b[0m\u001b[0mdot\u001b[0m\u001b[1;33m(\u001b[0m\u001b[0mo\u001b[0m\u001b[1;33m,\u001b[0m\u001b[0mt\u001b[0m\u001b[1;33m)\u001b[0m\u001b[1;33m)\u001b[0m\u001b[1;33m\u001b[0m\u001b[0m\n\u001b[0m\u001b[0;32m     14\u001b[0m \u001b[1;33m\u001b[0m\u001b[0m\n\u001b[0;32m     15\u001b[0m \u001b[1;33m\u001b[0m\u001b[0m\n",
      "\u001b[1;31mValueError\u001b[0m: shapes (4,1) and (4,1) not aligned: 1 (dim 1) != 4 (dim 0)"
     ]
    }
   ],
   "source": [
    "n  = int(input())\n",
    "o = []\n",
    "t = []\n",
    "for i in range(2):\n",
    "    if i==0:\n",
    "        for j in range(n):\n",
    "            o.append(list(map(int,input().split())))\n",
    "    elif i==1:\n",
    "        for j in range(n):\n",
    "            t.append(list(map(int,input().split())))\n",
    "o = np.array(o)\n",
    "t = np.array(t)\n",
    "print(np.dot(o,t))"
   ]
  },
  {
   "cell_type": "markdown",
   "metadata": {},
   "source": [
    "# Inner and Outer product"
   ]
  },
  {
   "cell_type": "code",
   "execution_count": 66,
   "metadata": {},
   "outputs": [
    {
     "name": "stdout",
     "output_type": "stream",
     "text": [
      "[[  4   6   8  20  40]\n",
      " [  8  12  16  40  80]\n",
      " [ 12  18  24  60 120]]\n",
      "\n",
      "[[ 1  3  2  4  3  5 10 10 20 20]\n",
      " [ 1  3  2  4  3  5 10 10 20 20]\n",
      " [ 2  6  4  8  6 10 20 20 40 40]\n",
      " [ 2  6  4  8  6 10 20 20 40 40]\n",
      " [ 3  9  6 12  9 15 30 30 60 60]\n",
      " [ 3  9  6 12  9 15 30 30 60 60]]\n",
      "\n",
      "[[  4   6   8  20  40]\n",
      " [  8  12  16  40  80]\n",
      " [ 12  18  24  60 120]]\n"
     ]
    }
   ],
   "source": [
    "np.random.seed(100) # used to seed the random state generator\n",
    "a = np.array([[[1,4]],[[5,6]]])\n",
    "qq1 = np.array([[1,1],\n",
    "                [2,2],\n",
    "                [3,3]])  # 3,2\n",
    "\n",
    "qq2 = np.array([[1,3],\n",
    "                [2,4],\n",
    "                [3,5],\n",
    "                [10,10],\n",
    "                [20,20]])  # 5,2\n",
    "\n",
    "# inner = 3*5\n",
    "# outer =3*2 , 5*2 ==> 6*10\n",
    "\n",
    "print(np.inner(qq1,qq2))  #j second dimension must be same size\n",
    "\n",
    "print()\n",
    "\n",
    "print(np.outer(qq1,qq2))  # 3,2 = 6  5,2 = 10  6,10 matrix of output array\n",
    "\n",
    "print()\n",
    "\n",
    "print(np.dot(qq1,qq2.T))"
   ]
  },
  {
   "cell_type": "code",
   "execution_count": 67,
   "metadata": {},
   "outputs": [
    {
     "name": "stdout",
     "output_type": "stream",
     "text": [
      "[[5]\n",
      " [4]\n",
      " [4]\n",
      " [4]]\n",
      "[[25 20 20 20]\n",
      " [20 16 16 16]\n",
      " [20 16 16 16]\n",
      " [20 16 16 16]]\n",
      "[[25 20 20 20]\n",
      " [20 16 16 16]\n",
      " [20 16 16 16]\n",
      " [20 16 16 16]]\n"
     ]
    }
   ],
   "source": [
    "print(o)\n",
    "o2 = o.copy()\n",
    "\n",
    "print(np.inner(o,o2))\n",
    "print(np.outer(o,o2))"
   ]
  },
  {
   "cell_type": "code",
   "execution_count": null,
   "metadata": {},
   "outputs": [],
   "source": [
    "o  = np.array(list(map(int,input().split())))\n",
    "t  = np.array(list(map(int,input().split())))\n",
    "print(np.inner(o,t)) # column wise multiplication and then add them\n",
    "print(np.outer(o,t))\n"
   ]
  },
  {
   "cell_type": "markdown",
   "metadata": {},
   "source": [
    "# Polynomial\n",
    "1. ploy\n",
    "2. roots\n",
    "3. polyint\n",
    "4. polyder\n",
    "5. polyadd\n",
    "6. polyval\n",
    "7. polyfit\n",
    "8. polysub\n",
    "9. polymul\n",
    "10. polydiv"
   ]
  },
  {
   "cell_type": "code",
   "execution_count": 68,
   "metadata": {},
   "outputs": [
    {
     "name": "stdout",
     "output_type": "stream",
     "text": [
      "[1. 2. 0.]\n",
      "[-2.  0.]\n",
      "\n",
      "[0.33333333 0.5        1.         0.        ]\n",
      "[3 4 0]\n",
      "-2\n",
      "[ 0.5 -2.   4. ]\n"
     ]
    }
   ],
   "source": [
    "#   [z**2 + 2*z**1 + 0 =root] = [0 ,-2] we are passing roots it return coefficent  of  a  function\n",
    "print(np.poly([0,-2])) \n",
    "print(np.roots([1,2,0]))\n",
    "print()\n",
    "print(np.polyint([1,1,1])) # antiderivate\n",
    "print(np.polyder([1,2,0,4])) # derivative\n",
    "print(np.polyval([0,-2],1)) # evaluate value at specified\n",
    "print(np.polyfit([1,2,3,3,1],[1,2,2,3,4],2))\n"
   ]
  },
  {
   "cell_type": "code",
   "execution_count": 69,
   "metadata": {},
   "outputs": [
    {
     "name": "stdout",
     "output_type": "stream",
     "text": [
      "4\n",
      "[0 0 0 0]\n",
      "[1 1 1 1]\n"
     ]
    }
   ],
   "source": [
    "l = list(map(int , input().split()))\n",
    "print(np.zeros(l , dtype=int))\n",
    "print(np.ones(l , dtype=int))\n"
   ]
  },
  {
   "cell_type": "code",
   "execution_count": 70,
   "metadata": {},
   "outputs": [
    {
     "name": "stdout",
     "output_type": "stream",
     "text": [
      "[[1. 0. 0.]\n",
      " [0. 1. 0.]\n",
      " [0. 0. 1.]]\n"
     ]
    }
   ],
   "source": [
    "# Identity\n",
    "print(np.identity(3)) # square matrix forming\n"
   ]
  },
  {
   "cell_type": "code",
   "execution_count": 71,
   "metadata": {},
   "outputs": [
    {
     "name": "stdout",
     "output_type": "stream",
     "text": [
      "[[1. 0. 0. 0. 0.]\n",
      " [0. 1. 0. 0. 0.]\n",
      " [0. 0. 1. 0. 0.]]\n",
      "\n",
      "[[0. 0. 1. 0. 0.]\n",
      " [0. 0. 0. 1. 0.]\n",
      " [0. 0. 0. 0. 1.]]\n"
     ]
    }
   ],
   "source": [
    "# eye  (print 1 as a diagonal k=1 is upper shift k=-1 lower shift k=0 default)\n",
    "print(np.eye(3,5))\n",
    "print()\n",
    "print(np.eye(3,5 , k=2))\n"
   ]
  },
  {
   "cell_type": "code",
   "execution_count": 72,
   "metadata": {},
   "outputs": [
    {
     "name": "stdout",
     "output_type": "stream",
     "text": [
      "[[0. 1. 0. 0.]\n",
      " [0. 0. 1. 0.]\n",
      " [0. 0. 0. 1.]]\n",
      "\n",
      "[[0. 0. 0. 0.]\n",
      " [1. 0. 0. 0.]\n",
      " [0. 1. 0. 0.]]\n"
     ]
    }
   ],
   "source": [
    "print(np.eye(3,4,k=1))\n",
    "print()\n",
    "print(np.eye(3,4,k=-1))"
   ]
  },
  {
   "cell_type": "code",
   "execution_count": 74,
   "metadata": {},
   "outputs": [
    {
     "name": "stdout",
     "output_type": "stream",
     "text": [
      "4 5\n",
      "[[1. 0. 0. 0. 0.]\n",
      " [0. 1. 0. 0. 0.]\n",
      " [0. 0. 1. 0. 0.]\n",
      " [0. 0. 0. 1. 0.]]\n"
     ]
    }
   ],
   "source": [
    "a,b = input().split()\n",
    "print(np.eye(int(a) , int(b) , k = 0))"
   ]
  },
  {
   "cell_type": "code",
   "execution_count": 78,
   "metadata": {},
   "outputs": [
    {
     "name": "stdout",
     "output_type": "stream",
     "text": [
      "4\n"
     ]
    },
    {
     "data": {
      "text/plain": [
       "array([[1., 0., 0., 0.],\n",
       "       [0., 1., 0., 0.],\n",
       "       [0., 0., 1., 0.],\n",
       "       [0., 0., 0., 1.]])"
      ]
     },
     "execution_count": 78,
     "metadata": {},
     "output_type": "execute_result"
    }
   ],
   "source": [
    "np.eye(*map(int,input().split()))"
   ]
  },
  {
   "cell_type": "code",
   "execution_count": 83,
   "metadata": {},
   "outputs": [
    {
     "name": "stdout",
     "output_type": "stream",
     "text": [
      "4 5\n",
      "[[ 5.  @.  @.  @.  @.]\n",
      " [ @.  5.  @.  @.  @.]\n",
      " [ @.  @.  5.  @.  @.]\n",
      " [ @.  @.  @.  5.  @.]]\n"
     ]
    }
   ],
   "source": [
    "print(str(np.eye(*map(int,input().split()))).replace('1',' 5').replace('0',' @'))"
   ]
  },
  {
   "cell_type": "code",
   "execution_count": 84,
   "metadata": {},
   "outputs": [
    {
     "name": "stdout",
     "output_type": "stream",
     "text": [
      "[ 6.  8. 10. 12.]\n",
      "[ 6.  8. 10. 12.]\n",
      "[ 5. 12. 21. 32.]\n",
      "[0.2        0.33333333 0.42857143 0.5       ]\n",
      "[1.0000e+00 6.4000e+01 2.1870e+03 6.5536e+04]\n",
      "[1. 2. 3. 4.]\n"
     ]
    }
   ],
   "source": [
    "a = np.array([1,2,3,4] , float)\n",
    "b = np.array([5,6,7,8] , float)\n",
    "print(a+b)\n",
    "print(np.add(a,b))\n",
    "print(np.multiply(a,b))\n",
    "print(np.divide(a,b))\n",
    "print(np.power(a,b))\n",
    "print(np.mod(a,b))"
   ]
  },
  {
   "cell_type": "code",
   "execution_count": null,
   "metadata": {},
   "outputs": [],
   "source": [
    "a , b = list(map(int , input().split()))\n",
    "la = numpy.array(list(map(int , input().split())))\n",
    "lb = numpy.array(list(map(int , input().split())))\n",
    "print(numpy.add(la,lb))\n",
    "print(numpy.subtract(la,lb))\n",
    "print(numpy.multiply(la,lb))\n",
    "print(numpy.divmod(la,lb)[0])\n",
    "print(numpy.mod(la,lb))\n",
    "print(numpy.power(la,lb))"
   ]
  },
  {
   "cell_type": "code",
   "execution_count": null,
   "metadata": {},
   "outputs": [],
   "source": [
    "n, m = map(int, input().split())\n",
    "a, b = (np.array([input().split() for _ in range(n)], dtype=int) for _ in range(2))\n",
    "print(a+b, a-b, a*b, a//b, a%b, a**b, sep='\\n')"
   ]
  },
  {
   "cell_type": "code",
   "execution_count": 85,
   "metadata": {},
   "outputs": [
    {
     "name": "stdout",
     "output_type": "stream",
     "text": [
      "[1 0]\n",
      "[2 3 1 0]\n",
      "0\n",
      "0\n"
     ]
    }
   ],
   "source": [
    "import numpy\n",
    "\n",
    "my_array = numpy.array([[2, 5], \n",
    "                        [3, 7],\n",
    "                        [1, 3],\n",
    "                        [4, 0]])\n",
    "\n",
    "print (numpy.min(my_array, axis = 0))         #Output : [1 0]\n",
    "print (numpy.min(my_array, axis = 1))         #Output : [2 3 1 0]\n",
    "print (numpy.min(my_array, axis = None))      #Output : 0\n",
    "print (numpy.min(my_array))                   #Output : 0"
   ]
  },
  {
   "cell_type": "code",
   "execution_count": 86,
   "metadata": {},
   "outputs": [
    {
     "name": "stdout",
     "output_type": "stream",
     "text": [
      "[4 7]\n",
      "[5 7 3 4]\n",
      "7\n",
      "7\n"
     ]
    }
   ],
   "source": [
    "my_array = numpy.array([[2, 5], \n",
    "                        [3, 7],\n",
    "                        [1, 3],\n",
    "                        [4, 0]])\n",
    "\n",
    "print (numpy.max(my_array, axis = 0))         #Output : [4 7]\n",
    "print (numpy.max(my_array, axis = 1) )        #Output : [5 7 3 4]\n",
    "print (numpy.max(my_array, axis = None))      #Output : 7\n",
    "print (numpy.max(my_array))                   #Output : 7"
   ]
  },
  {
   "cell_type": "code",
   "execution_count": 88,
   "metadata": {},
   "outputs": [
    {
     "name": "stdout",
     "output_type": "stream",
     "text": [
      "4 5\n",
      "4 5\n",
      "4 5\n",
      "4 5\n",
      "4 5\n",
      "4\n"
     ]
    }
   ],
   "source": [
    "n , m = map(int , input().split())\n",
    "l = []\n",
    "for i in range(n):\n",
    "        l.append(min(list(map(int , input().split()))))\n",
    "print(max(l))"
   ]
  },
  {
   "cell_type": "markdown",
   "metadata": {},
   "source": [
    "1. Mean\n",
    "2. Varience\n",
    "3. Standard Deviation"
   ]
  },
  {
   "cell_type": "code",
   "execution_count": 89,
   "metadata": {},
   "outputs": [
    {
     "name": "stdout",
     "output_type": "stream",
     "text": [
      "[3. 4.]\n",
      "[1.5 3.5 5.5]\n",
      "3.5\n",
      "3.5\n"
     ]
    }
   ],
   "source": [
    "import numpy\n",
    "\n",
    "my_array = numpy.array([ [1, 2], [3, 4] , [5, 6]])\n",
    "\n",
    "print (numpy.mean(my_array, axis = 0))        #Output : [ 3.  4.] column wise\n",
    "print (numpy.mean(my_array, axis = 1))        #Output : [ 1.5  3.5 5.5] row wise\n",
    "print (numpy.mean(my_array, axis = None))     #Output : 2.5\n",
    "print (numpy.mean(my_array))                  #Output : 2.5"
   ]
  },
  {
   "cell_type": "code",
   "execution_count": 90,
   "metadata": {},
   "outputs": [
    {
     "name": "stdout",
     "output_type": "stream",
     "text": [
      "[1. 1.]\n",
      "[0.25 0.25]\n",
      "1.25\n",
      "1.25\n"
     ]
    }
   ],
   "source": [
    "import numpy\n",
    "\n",
    "my_array = numpy.array([ [1, 2], [3, 4] ])\n",
    "\n",
    "print (numpy.var(my_array, axis = 0))         #Output : [ 1.  1.]\n",
    "print (numpy.var(my_array, axis = 1))         #Output : [ 0.25  0.25]\n",
    "print (numpy.var(my_array, axis = None))      #Output : 1.25\n",
    "print (numpy.var(my_array))                   #Output : 1.25"
   ]
  },
  {
   "cell_type": "code",
   "execution_count": 91,
   "metadata": {},
   "outputs": [
    {
     "name": "stdout",
     "output_type": "stream",
     "text": [
      "[1. 1.]\n",
      "[0.5 0.5]\n",
      "1.118033988749895\n",
      "1.118033988749895\n"
     ]
    }
   ],
   "source": [
    "import numpy\n",
    "\n",
    "my_array = numpy.array([ [1, 2], [3, 4] ])\n",
    "\n",
    "print (numpy.std(my_array, axis = 0))         #Output : [ 1.  1.]\n",
    "print (numpy.std(my_array, axis = 1))         #Output : [ 0.5  0.5]\n",
    "print (numpy.std(my_array, axis = None))      #Output : 1.11803398875\n",
    "print (numpy.std(my_array))                   #Output : 1.11803398875"
   ]
  },
  {
   "cell_type": "code",
   "execution_count": null,
   "metadata": {},
   "outputs": [],
   "source": [
    "The mean along axis 1\n",
    "The var along axis 0\n",
    "The std along axis None"
   ]
  },
  {
   "cell_type": "code",
   "execution_count": 96,
   "metadata": {},
   "outputs": [
    {
     "name": "stdout",
     "output_type": "stream",
     "text": [
      "2 3\n",
      "85 \n",
      "45\n",
      "[[85], [45]]\n"
     ]
    }
   ],
   "source": [
    "import numpy\n",
    "n , m = map(int , input().split())\n",
    "l = []\n",
    "for i in range(n):\n",
    "        l.append((list(map(int , input().split()))))\n",
    "print(l)"
   ]
  },
  {
   "cell_type": "code",
   "execution_count": 114,
   "metadata": {},
   "outputs": [
    {
     "name": "stdout",
     "output_type": "stream",
     "text": [
      "[ 85.  45.]\n",
      "[ 400.]\n",
      "20.0\n"
     ]
    }
   ],
   "source": [
    "l = numpy.array(l)\n",
    "numpy.set_printoptions(legacy='1.13')\n",
    "print(numpy.mean(l , axis=1))\n",
    "print(numpy.var(l , axis=0))\n",
    "print(numpy.std(l , axis=None))"
   ]
  },
  {
   "cell_type": "code",
   "execution_count": null,
   "metadata": {},
   "outputs": [],
   "source": [
    "n = np.array([input().split() for _ in range(int(input().split()[0]))],int)\n",
    "print(np.mean(n,axis=1),np.var(n,axis=0),np.std(n),sep=\"\\n\")"
   ]
  },
  {
   "cell_type": "code",
   "execution_count": null,
   "metadata": {},
   "outputs": [],
   "source": [
    "import numpy\n",
    "\n",
    "arr = numpy.array([[int(i) for i in input().split()] for _ in range(int(input()[0]))])\n",
    "print(numpy.mean(arr, axis = 1), numpy.var(arr, axis = 0), numpy.std(arr), sep = \"\\n\")"
   ]
  },
  {
   "cell_type": "markdown",
   "metadata": {},
   "source": [
    "# Linear Algebra"
   ]
  },
  {
   "cell_type": "code",
   "execution_count": 115,
   "metadata": {},
   "outputs": [
    {
     "name": "stdout",
     "output_type": "stream",
     "text": [
      "-2.0\n",
      "[ 3. -1.]\n",
      "[[ 0.70710678 -0.70710678]\n",
      " [ 0.70710678  0.70710678]]\n"
     ]
    }
   ],
   "source": [
    "# Linear Algebra\n",
    "print (numpy.linalg.det([[1 , 2], [3, 4]]))       #Output : -2.0  compute deerminant of array\n",
    "vals, vecs = numpy.linalg.eig([[1 , 2], [2, 1]])  # compute eignvalues\n",
    "print (vals)                                      #Output : [ 3. -1.]\n",
    "print( vecs )                                     #Output : [[ 0.70710678 -0.70710678]\n",
    "                                                #          [ 0.70710678  0.70710678]]"
   ]
  },
  {
   "cell_type": "code",
   "execution_count": 116,
   "metadata": {},
   "outputs": [
    {
     "name": "stdout",
     "output_type": "stream",
     "text": [
      "[[-0.33333333  0.66666667]\n",
      " [ 0.66666667 -0.33333333]]\n"
     ]
    }
   ],
   "source": [
    "print (numpy.linalg.inv([[1 , 2], [2, 1]]))       #Output : [[-0.33333333  0.66666667]  multiplicative inverse\n",
    "#numpy.set_printoptions(legacy='1.13')  #          [ 0.66666667 -0.33333333]]"
   ]
  },
  {
   "cell_type": "markdown",
   "metadata": {},
   "source": [
    "# RoundOff techniques\n",
    "1. Floor\n",
    "2. ceil\n",
    "3. rent"
   ]
  },
  {
   "cell_type": "code",
   "execution_count": 117,
   "metadata": {},
   "outputs": [
    {
     "name": "stdout",
     "output_type": "stream",
     "text": [
      "4\n"
     ]
    }
   ],
   "source": [
    "import numpy\n",
    "l = numpy.array(input().split() , float)"
   ]
  },
  {
   "cell_type": "code",
   "execution_count": 119,
   "metadata": {
    "scrolled": true
   },
   "outputs": [
    {
     "name": "stdout",
     "output_type": "stream",
     "text": [
      "[-2. -2. -1.  0.  1.  1.  2.]\n",
      "[-1. -1. -0.  1.  2.  2.  2.]\n",
      "[-2. -2. -0.  0.  2.  2.  2.]\n",
      "[-1. -1. -0.  0.  1.  1.  2.]\n"
     ]
    }
   ],
   "source": [
    "l = [-1.7, -1.5, -0.2, 0.2, 1.5, 1.7, 2.0]\n",
    "print(numpy.floor(l)) # toward positive\n",
    "print(numpy.ceil(l)) # jis direction m jara h uski floor value\n",
    "print(numpy.rint(l)) #jis direction m jara h uski round off value\n",
    "print(np.trunc(l))"
   ]
  }
 ],
 "metadata": {
  "kernelspec": {
   "display_name": "Python 3",
   "language": "python",
   "name": "python3"
  },
  "language_info": {
   "codemirror_mode": {
    "name": "ipython",
    "version": 3
   },
   "file_extension": ".py",
   "mimetype": "text/x-python",
   "name": "python",
   "nbconvert_exporter": "python",
   "pygments_lexer": "ipython3",
   "version": "3.6.5"
  }
 },
 "nbformat": 4,
 "nbformat_minor": 2
}
